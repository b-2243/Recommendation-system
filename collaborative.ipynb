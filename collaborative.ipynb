{
 "cells": [
  {
   "cell_type": "markdown",
   "metadata": {},
   "source": [
    "Step-by-Step Implementation\n",
    "\n",
    "1. Data Preparation: We need user-item interaction data.\n",
    "2. Similarity Calculation: Compute the similarity between users.\n",
    "3. Prediction: Predict ratings for items based on similar users' ratings."
   ]
  },
  {
   "cell_type": "code",
   "execution_count": 4,
   "metadata": {},
   "outputs": [
    {
     "name": "stdout",
     "output_type": "stream",
     "text": [
      "   user_id item_id  rating\n",
      "0        A   Item1       5\n",
      "1        A   Item2       3\n",
      "2        A   Item3       4\n",
      "3        B   Item1       3\n",
      "4        B   Item2       1\n",
      "5        B   Item3       2\n",
      "6        C   Item1       4\n",
      "7        C   Item2       3\n",
      "8        C   Item3       5\n",
      "9        D   Item1       4\n",
      "10       D   Item2       2\n",
      "11       D   Item3       4\n",
      "12       E   Item1       1\n",
      "13       E   Item2       5\n",
      "14       E   Item3       4\n"
     ]
    }
   ],
   "source": [
    "import pandas as pd\n",
    "# Create the dataset\n",
    "data_dict = {\n",
    "    'user_id': ['A', 'A', 'A', 'B', 'B', 'B', 'C', 'C', 'C', 'D', 'D', 'D', 'E', 'E', 'E'],\n",
    "    'item_id': ['Item1', 'Item2', 'Item3', 'Item1', 'Item2', 'Item3', 'Item1', 'Item2', 'Item3', 'Item1', 'Item2', 'Item3', 'Item1', 'Item2', 'Item3'],\n",
    "    'rating': [5, 3, 4, 3, 1, 2, 4, 3, 5, 4, 2, 4, 1, 5, 4]\n",
    "}\n",
    "\n",
    "df = pd.DataFrame(data_dict)\n",
    "\n",
    "# Print the dataset\n",
    "print(df)\n"
   ]
  },
  {
   "cell_type": "code",
   "execution_count": 2,
   "metadata": {},
   "outputs": [
    {
     "name": "stdout",
     "output_type": "stream",
     "text": [
      "item_id  Item1  Item2  Item3\n",
      "user_id                     \n",
      "A          5.0    3.0    4.0\n",
      "B          3.0    1.0    2.0\n",
      "C          4.0    3.0    5.0\n",
      "D          4.0    2.0    4.0\n",
      "E          1.0    5.0    4.0\n"
     ]
    }
   ],
   "source": [
    "# Create the user-item matrix\n",
    "user_item_matrix = df.pivot_table(index='user_id', columns='item_id', values='rating').fillna(0)\n",
    "\n",
    "# Print the user-item matrix\n",
    "print(user_item_matrix)\n"
   ]
  },
  {
   "cell_type": "code",
   "execution_count": 5,
   "metadata": {},
   "outputs": [
    {
     "name": "stdout",
     "output_type": "stream",
     "text": [
      "user_id         A         B         C         D         E\n",
      "user_id                                                  \n",
      "A        1.000000  0.982708  0.980000  0.989949  0.785584\n",
      "B        0.982708  1.000000  0.944911  0.979958  0.659829\n",
      "C        0.980000  0.944911  1.000000  0.989949  0.851050\n",
      "D        0.989949  0.979958  0.989949  1.000000  0.771517\n",
      "E        0.785584  0.659829  0.851050  0.771517  1.000000\n"
     ]
    }
   ],
   "source": [
    "import numpy as np\n",
    "from sklearn.metrics.pairwise import cosine_similarity\n",
    "\n",
    "# Calculate cosine similarity between users\n",
    "user_similarity = cosine_similarity(user_item_matrix)\n",
    "user_similarity_df = pd.DataFrame(user_similarity, index=user_item_matrix.index, columns=user_item_matrix.index)\n",
    "\n",
    "# Print the user similarity matrix\n",
    "print(user_similarity_df)\n"
   ]
  },
  {
   "cell_type": "code",
   "execution_count": 18,
   "metadata": {},
   "outputs": [
    {
     "name": "stdout",
     "output_type": "stream",
     "text": [
      "Predicted rating for user A on item Item2: 2.75\n"
     ]
    }
   ],
   "source": [
    "def predict_ratings(user_id, item_id):\n",
    "    # Get the similarity scores for the target user\n",
    "    similar_users = user_similarity_df[user_id].drop(user_id)\n",
    "    \n",
    "    # Get the ratings for the target item from similar users\n",
    "    similar_users_ratings = user_item_matrix.loc[similar_users.index, item_id]\n",
    "    \n",
    "    # Compute the predicted rating as the mean of the ratings from the most similar users\n",
    "    predicted_rating = similar_users_ratings[similar_users_ratings > 0].mean()\n",
    "    \n",
    "    return predicted_rating\n",
    "\n",
    "# Predict a specific rating\n",
    "user_id = 'A'\n",
    "item_id = 'Item2'\n",
    "predicted_rating = predict_ratings(user_id, item_id)\n",
    "print(f\"Predicted rating for user {user_id} on item {item_id}: {predicted_rating}\")\n"
   ]
  },
  {
   "cell_type": "markdown",
   "metadata": {},
   "source": [
    "Pearson correlation"
   ]
  },
  {
   "cell_type": "code",
   "execution_count": null,
   "metadata": {},
   "outputs": [],
   "source": [
    "# Pearson correlation, also known as Pearson's r, is a measure of the linear relationship between two continuous variables. It ranges from -1 to 1, where:\n",
    "\n",
    "# 𝑟\n",
    "# =\n",
    "# 1\n",
    "# r=1 indicates a perfect positive linear relationship.\n",
    "# 𝑟\n",
    "# =\n",
    "# −\n",
    "# 1\n",
    "# r=−1 indicates a perfect negative linear relationship.\n",
    "# 𝑟\n",
    "# =\n",
    "# 0\n",
    "# r=0 indicates no linear relationship.\n",
    "\n"
   ]
  },
  {
   "cell_type": "code",
   "execution_count": 1,
   "metadata": {},
   "outputs": [
    {
     "name": "stdout",
     "output_type": "stream",
     "text": [
      "     x    y\n",
      "x  1.0  1.0\n",
      "y  1.0  1.0\n"
     ]
    }
   ],
   "source": [
    "import numpy as np\n",
    "import pandas as pd\n",
    "\n",
    "# Example data\n",
    "data = {'x': [1, 2, 3, 4, 5],\n",
    "        'y': [2, 3, 4, 5, 6]}\n",
    "\n",
    "df = pd.DataFrame(data)\n",
    "\n",
    "# Calculate Pearson correlation using pandas\n",
    "pearson_corr = df.corr(method='pearson')\n",
    "\n",
    "print(pearson_corr)\n"
   ]
  },
  {
   "cell_type": "code",
   "execution_count": null,
   "metadata": {},
   "outputs": [],
   "source": []
  }
 ],
 "metadata": {
  "kernelspec": {
   "display_name": "Python 3",
   "language": "python",
   "name": "python3"
  },
  "language_info": {
   "codemirror_mode": {
    "name": "ipython",
    "version": 3
   },
   "file_extension": ".py",
   "mimetype": "text/x-python",
   "name": "python",
   "nbconvert_exporter": "python",
   "pygments_lexer": "ipython3",
   "version": "3.12.4"
  }
 },
 "nbformat": 4,
 "nbformat_minor": 2
}
