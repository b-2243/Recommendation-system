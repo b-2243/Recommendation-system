{
 "cells": [
  {
   "cell_type": "code",
   "execution_count": 1,
   "metadata": {},
   "outputs": [],
   "source": [
    "import pandas as pd\n",
    "import numpy as np\n",
    "import seaborn as sns\n",
    "import matplotlib.pyplot as plt"
   ]
  },
  {
   "cell_type": "code",
   "execution_count": 2,
   "metadata": {},
   "outputs": [],
   "source": [
    "dataset = pd.read_csv('lung_cancer_mortality_data_large_v2.csv')"
   ]
  },
  {
   "cell_type": "code",
   "execution_count": 3,
   "metadata": {},
   "outputs": [
    {
     "data": {
      "text/html": [
       "<div>\n",
       "<style scoped>\n",
       "    .dataframe tbody tr th:only-of-type {\n",
       "        vertical-align: middle;\n",
       "    }\n",
       "\n",
       "    .dataframe tbody tr th {\n",
       "        vertical-align: top;\n",
       "    }\n",
       "\n",
       "    .dataframe thead th {\n",
       "        text-align: right;\n",
       "    }\n",
       "</style>\n",
       "<table border=\"1\" class=\"dataframe\">\n",
       "  <thead>\n",
       "    <tr style=\"text-align: right;\">\n",
       "      <th></th>\n",
       "      <th>id</th>\n",
       "      <th>age</th>\n",
       "      <th>gender</th>\n",
       "      <th>country</th>\n",
       "      <th>diagnosis_date</th>\n",
       "      <th>cancer_stage</th>\n",
       "      <th>beginning_of_treatment_date</th>\n",
       "      <th>family_history</th>\n",
       "      <th>smoking_status</th>\n",
       "      <th>bmi</th>\n",
       "      <th>cholesterol_level</th>\n",
       "      <th>hypertension</th>\n",
       "      <th>asthma</th>\n",
       "      <th>cirrhosis</th>\n",
       "      <th>other_cancer</th>\n",
       "      <th>treatment_type</th>\n",
       "      <th>end_treatment_date</th>\n",
       "      <th>survived</th>\n",
       "    </tr>\n",
       "  </thead>\n",
       "  <tbody>\n",
       "    <tr>\n",
       "      <th>0</th>\n",
       "      <td>1</td>\n",
       "      <td>64.0</td>\n",
       "      <td>Female</td>\n",
       "      <td>Germany</td>\n",
       "      <td>2016-04-07</td>\n",
       "      <td>Stage III</td>\n",
       "      <td>2016-04-21</td>\n",
       "      <td>No</td>\n",
       "      <td>Never Smoked</td>\n",
       "      <td>31.1</td>\n",
       "      <td>257</td>\n",
       "      <td>1</td>\n",
       "      <td>1</td>\n",
       "      <td>0</td>\n",
       "      <td>0</td>\n",
       "      <td>Combined</td>\n",
       "      <td>2017-11-15</td>\n",
       "      <td>0</td>\n",
       "    </tr>\n",
       "    <tr>\n",
       "      <th>1</th>\n",
       "      <td>2</td>\n",
       "      <td>50.0</td>\n",
       "      <td>Male</td>\n",
       "      <td>Czech Republic</td>\n",
       "      <td>2023-04-22</td>\n",
       "      <td>Stage III</td>\n",
       "      <td>2023-05-02</td>\n",
       "      <td>Yes</td>\n",
       "      <td>Passive Smoker</td>\n",
       "      <td>25.9</td>\n",
       "      <td>208</td>\n",
       "      <td>1</td>\n",
       "      <td>0</td>\n",
       "      <td>0</td>\n",
       "      <td>0</td>\n",
       "      <td>Radiation</td>\n",
       "      <td>2024-04-25</td>\n",
       "      <td>0</td>\n",
       "    </tr>\n",
       "    <tr>\n",
       "      <th>2</th>\n",
       "      <td>3</td>\n",
       "      <td>65.0</td>\n",
       "      <td>Male</td>\n",
       "      <td>Romania</td>\n",
       "      <td>2023-04-07</td>\n",
       "      <td>Stage IV</td>\n",
       "      <td>2023-04-12</td>\n",
       "      <td>No</td>\n",
       "      <td>Never Smoked</td>\n",
       "      <td>18.9</td>\n",
       "      <td>193</td>\n",
       "      <td>0</td>\n",
       "      <td>0</td>\n",
       "      <td>0</td>\n",
       "      <td>0</td>\n",
       "      <td>Surgery</td>\n",
       "      <td>2025-03-11</td>\n",
       "      <td>0</td>\n",
       "    </tr>\n",
       "    <tr>\n",
       "      <th>3</th>\n",
       "      <td>4</td>\n",
       "      <td>51.0</td>\n",
       "      <td>Female</td>\n",
       "      <td>Latvia</td>\n",
       "      <td>2016-02-07</td>\n",
       "      <td>Stage III</td>\n",
       "      <td>2016-02-13</td>\n",
       "      <td>Yes</td>\n",
       "      <td>Former Smoker</td>\n",
       "      <td>34.6</td>\n",
       "      <td>249</td>\n",
       "      <td>1</td>\n",
       "      <td>1</td>\n",
       "      <td>1</td>\n",
       "      <td>0</td>\n",
       "      <td>Surgery</td>\n",
       "      <td>2017-04-14</td>\n",
       "      <td>1</td>\n",
       "    </tr>\n",
       "    <tr>\n",
       "      <th>4</th>\n",
       "      <td>5</td>\n",
       "      <td>37.0</td>\n",
       "      <td>Male</td>\n",
       "      <td>Greece</td>\n",
       "      <td>2023-12-01</td>\n",
       "      <td>Stage I</td>\n",
       "      <td>2023-12-03</td>\n",
       "      <td>Yes</td>\n",
       "      <td>Never Smoked</td>\n",
       "      <td>40.2</td>\n",
       "      <td>262</td>\n",
       "      <td>0</td>\n",
       "      <td>0</td>\n",
       "      <td>0</td>\n",
       "      <td>0</td>\n",
       "      <td>Chemotherapy</td>\n",
       "      <td>2024-09-20</td>\n",
       "      <td>0</td>\n",
       "    </tr>\n",
       "  </tbody>\n",
       "</table>\n",
       "</div>"
      ],
      "text/plain": [
       "   id   age  gender         country diagnosis_date cancer_stage  \\\n",
       "0   1  64.0  Female         Germany     2016-04-07    Stage III   \n",
       "1   2  50.0    Male  Czech Republic     2023-04-22    Stage III   \n",
       "2   3  65.0    Male         Romania     2023-04-07     Stage IV   \n",
       "3   4  51.0  Female          Latvia     2016-02-07    Stage III   \n",
       "4   5  37.0    Male          Greece     2023-12-01      Stage I   \n",
       "\n",
       "  beginning_of_treatment_date family_history  smoking_status   bmi  \\\n",
       "0                  2016-04-21             No    Never Smoked  31.1   \n",
       "1                  2023-05-02            Yes  Passive Smoker  25.9   \n",
       "2                  2023-04-12             No    Never Smoked  18.9   \n",
       "3                  2016-02-13            Yes   Former Smoker  34.6   \n",
       "4                  2023-12-03            Yes    Never Smoked  40.2   \n",
       "\n",
       "   cholesterol_level  hypertension  asthma  cirrhosis  other_cancer  \\\n",
       "0                257             1       1          0             0   \n",
       "1                208             1       0          0             0   \n",
       "2                193             0       0          0             0   \n",
       "3                249             1       1          1             0   \n",
       "4                262             0       0          0             0   \n",
       "\n",
       "  treatment_type end_treatment_date  survived  \n",
       "0       Combined         2017-11-15         0  \n",
       "1      Radiation         2024-04-25         0  \n",
       "2        Surgery         2025-03-11         0  \n",
       "3        Surgery         2017-04-14         1  \n",
       "4   Chemotherapy         2024-09-20         0  "
      ]
     },
     "execution_count": 3,
     "metadata": {},
     "output_type": "execute_result"
    }
   ],
   "source": [
    "dataset.head()"
   ]
  },
  {
   "cell_type": "markdown",
   "metadata": {},
   "source": []
  },
  {
   "cell_type": "code",
   "execution_count": 4,
   "metadata": {},
   "outputs": [
    {
     "data": {
      "text/plain": [
       "(3250000, 18)"
      ]
     },
     "execution_count": 4,
     "metadata": {},
     "output_type": "execute_result"
    }
   ],
   "source": [
    "dataset.shape"
   ]
  },
  {
   "cell_type": "code",
   "execution_count": 5,
   "metadata": {},
   "outputs": [
    {
     "name": "stdout",
     "output_type": "stream",
     "text": [
      "<class 'pandas.core.frame.DataFrame'>\n",
      "RangeIndex: 3250000 entries, 0 to 3249999\n",
      "Data columns (total 18 columns):\n",
      " #   Column                       Dtype  \n",
      "---  ------                       -----  \n",
      " 0   id                           int64  \n",
      " 1   age                          float64\n",
      " 2   gender                       object \n",
      " 3   country                      object \n",
      " 4   diagnosis_date               object \n",
      " 5   cancer_stage                 object \n",
      " 6   beginning_of_treatment_date  object \n",
      " 7   family_history               object \n",
      " 8   smoking_status               object \n",
      " 9   bmi                          float64\n",
      " 10  cholesterol_level            int64  \n",
      " 11  hypertension                 int64  \n",
      " 12  asthma                       int64  \n",
      " 13  cirrhosis                    int64  \n",
      " 14  other_cancer                 int64  \n",
      " 15  treatment_type               object \n",
      " 16  end_treatment_date           object \n",
      " 17  survived                     int64  \n",
      "dtypes: float64(2), int64(7), object(9)\n",
      "memory usage: 446.3+ MB\n"
     ]
    }
   ],
   "source": [
    "dataset.info()"
   ]
  },
  {
   "cell_type": "code",
   "execution_count": 6,
   "metadata": {},
   "outputs": [
    {
     "data": {
      "text/plain": [
       "id                             0\n",
       "age                            0\n",
       "gender                         0\n",
       "country                        0\n",
       "diagnosis_date                 0\n",
       "cancer_stage                   0\n",
       "beginning_of_treatment_date    0\n",
       "family_history                 0\n",
       "smoking_status                 0\n",
       "bmi                            0\n",
       "cholesterol_level              0\n",
       "hypertension                   0\n",
       "asthma                         0\n",
       "cirrhosis                      0\n",
       "other_cancer                   0\n",
       "treatment_type                 0\n",
       "end_treatment_date             0\n",
       "survived                       0\n",
       "dtype: int64"
      ]
     },
     "execution_count": 6,
     "metadata": {},
     "output_type": "execute_result"
    }
   ],
   "source": [
    "dataset.isnull().sum()"
   ]
  },
  {
   "cell_type": "code",
   "execution_count": 7,
   "metadata": {},
   "outputs": [],
   "source": [
    "data = dataset.copy()"
   ]
  },
  {
   "cell_type": "code",
   "execution_count": 8,
   "metadata": {},
   "outputs": [],
   "source": [
    "data = data.drop(['id','country','diagnosis_date','beginning_of_treatment_date','treatment_type','end_treatment_date','survived'],axis=1)"
   ]
  },
  {
   "cell_type": "code",
   "execution_count": 9,
   "metadata": {},
   "outputs": [
    {
     "data": {
      "text/html": [
       "<div>\n",
       "<style scoped>\n",
       "    .dataframe tbody tr th:only-of-type {\n",
       "        vertical-align: middle;\n",
       "    }\n",
       "\n",
       "    .dataframe tbody tr th {\n",
       "        vertical-align: top;\n",
       "    }\n",
       "\n",
       "    .dataframe thead th {\n",
       "        text-align: right;\n",
       "    }\n",
       "</style>\n",
       "<table border=\"1\" class=\"dataframe\">\n",
       "  <thead>\n",
       "    <tr style=\"text-align: right;\">\n",
       "      <th></th>\n",
       "      <th>age</th>\n",
       "      <th>gender</th>\n",
       "      <th>cancer_stage</th>\n",
       "      <th>family_history</th>\n",
       "      <th>smoking_status</th>\n",
       "      <th>bmi</th>\n",
       "      <th>cholesterol_level</th>\n",
       "      <th>hypertension</th>\n",
       "      <th>asthma</th>\n",
       "      <th>cirrhosis</th>\n",
       "      <th>other_cancer</th>\n",
       "    </tr>\n",
       "  </thead>\n",
       "  <tbody>\n",
       "    <tr>\n",
       "      <th>0</th>\n",
       "      <td>64.0</td>\n",
       "      <td>Female</td>\n",
       "      <td>Stage III</td>\n",
       "      <td>No</td>\n",
       "      <td>Never Smoked</td>\n",
       "      <td>31.1</td>\n",
       "      <td>257</td>\n",
       "      <td>1</td>\n",
       "      <td>1</td>\n",
       "      <td>0</td>\n",
       "      <td>0</td>\n",
       "    </tr>\n",
       "    <tr>\n",
       "      <th>1</th>\n",
       "      <td>50.0</td>\n",
       "      <td>Male</td>\n",
       "      <td>Stage III</td>\n",
       "      <td>Yes</td>\n",
       "      <td>Passive Smoker</td>\n",
       "      <td>25.9</td>\n",
       "      <td>208</td>\n",
       "      <td>1</td>\n",
       "      <td>0</td>\n",
       "      <td>0</td>\n",
       "      <td>0</td>\n",
       "    </tr>\n",
       "    <tr>\n",
       "      <th>2</th>\n",
       "      <td>65.0</td>\n",
       "      <td>Male</td>\n",
       "      <td>Stage IV</td>\n",
       "      <td>No</td>\n",
       "      <td>Never Smoked</td>\n",
       "      <td>18.9</td>\n",
       "      <td>193</td>\n",
       "      <td>0</td>\n",
       "      <td>0</td>\n",
       "      <td>0</td>\n",
       "      <td>0</td>\n",
       "    </tr>\n",
       "    <tr>\n",
       "      <th>3</th>\n",
       "      <td>51.0</td>\n",
       "      <td>Female</td>\n",
       "      <td>Stage III</td>\n",
       "      <td>Yes</td>\n",
       "      <td>Former Smoker</td>\n",
       "      <td>34.6</td>\n",
       "      <td>249</td>\n",
       "      <td>1</td>\n",
       "      <td>1</td>\n",
       "      <td>1</td>\n",
       "      <td>0</td>\n",
       "    </tr>\n",
       "    <tr>\n",
       "      <th>4</th>\n",
       "      <td>37.0</td>\n",
       "      <td>Male</td>\n",
       "      <td>Stage I</td>\n",
       "      <td>Yes</td>\n",
       "      <td>Never Smoked</td>\n",
       "      <td>40.2</td>\n",
       "      <td>262</td>\n",
       "      <td>0</td>\n",
       "      <td>0</td>\n",
       "      <td>0</td>\n",
       "      <td>0</td>\n",
       "    </tr>\n",
       "  </tbody>\n",
       "</table>\n",
       "</div>"
      ],
      "text/plain": [
       "    age  gender cancer_stage family_history  smoking_status   bmi  \\\n",
       "0  64.0  Female    Stage III             No    Never Smoked  31.1   \n",
       "1  50.0    Male    Stage III            Yes  Passive Smoker  25.9   \n",
       "2  65.0    Male     Stage IV             No    Never Smoked  18.9   \n",
       "3  51.0  Female    Stage III            Yes   Former Smoker  34.6   \n",
       "4  37.0    Male      Stage I            Yes    Never Smoked  40.2   \n",
       "\n",
       "   cholesterol_level  hypertension  asthma  cirrhosis  other_cancer  \n",
       "0                257             1       1          0             0  \n",
       "1                208             1       0          0             0  \n",
       "2                193             0       0          0             0  \n",
       "3                249             1       1          1             0  \n",
       "4                262             0       0          0             0  "
      ]
     },
     "execution_count": 9,
     "metadata": {},
     "output_type": "execute_result"
    }
   ],
   "source": [
    "data.head()"
   ]
  },
  {
   "cell_type": "code",
   "execution_count": 10,
   "metadata": {},
   "outputs": [
    {
     "name": "stdout",
     "output_type": "stream",
     "text": [
      "<class 'pandas.core.frame.DataFrame'>\n",
      "RangeIndex: 3250000 entries, 0 to 3249999\n",
      "Data columns (total 11 columns):\n",
      " #   Column             Dtype  \n",
      "---  ------             -----  \n",
      " 0   age                float64\n",
      " 1   gender             object \n",
      " 2   cancer_stage       object \n",
      " 3   family_history     object \n",
      " 4   smoking_status     object \n",
      " 5   bmi                float64\n",
      " 6   cholesterol_level  int64  \n",
      " 7   hypertension       int64  \n",
      " 8   asthma             int64  \n",
      " 9   cirrhosis          int64  \n",
      " 10  other_cancer       int64  \n",
      "dtypes: float64(2), int64(5), object(4)\n",
      "memory usage: 272.8+ MB\n"
     ]
    }
   ],
   "source": [
    "data.info()"
   ]
  },
  {
   "cell_type": "code",
   "execution_count": 11,
   "metadata": {},
   "outputs": [
    {
     "data": {
      "text/plain": [
       "age                  0.0\n",
       "gender               0.0\n",
       "cancer_stage         0.0\n",
       "family_history       0.0\n",
       "smoking_status       0.0\n",
       "bmi                  0.0\n",
       "cholesterol_level    0.0\n",
       "hypertension         0.0\n",
       "asthma               0.0\n",
       "cirrhosis            0.0\n",
       "other_cancer         0.0\n",
       "dtype: float64"
      ]
     },
     "execution_count": 11,
     "metadata": {},
     "output_type": "execute_result"
    }
   ],
   "source": [
    "data.isna().sum()/len(data)*100"
   ]
  },
  {
   "cell_type": "code",
   "execution_count": 12,
   "metadata": {},
   "outputs": [
    {
     "name": "stdout",
     "output_type": "stream",
     "text": [
      "Index(['age', 'bmi', 'cholesterol_level', 'hypertension', 'asthma',\n",
      "       'cirrhosis', 'other_cancer'],\n",
      "      dtype='object')\n",
      "Index(['gender', 'cancer_stage', 'family_history', 'smoking_status'], dtype='object')\n"
     ]
    }
   ],
   "source": [
    "# Identify numerical and categorical columns\n",
    "# train_data\n",
    "numerical_cols = data.select_dtypes(include=['float64', 'int64']).columns\n",
    "categorical_cols = data.select_dtypes(include=['object']).columns\n",
    "\n",
    "print(numerical_cols)\n",
    "print(categorical_cols)"
   ]
  },
  {
   "cell_type": "code",
   "execution_count": 13,
   "metadata": {},
   "outputs": [
    {
     "data": {
      "text/html": [
       "<div>\n",
       "<style scoped>\n",
       "    .dataframe tbody tr th:only-of-type {\n",
       "        vertical-align: middle;\n",
       "    }\n",
       "\n",
       "    .dataframe tbody tr th {\n",
       "        vertical-align: top;\n",
       "    }\n",
       "\n",
       "    .dataframe thead th {\n",
       "        text-align: right;\n",
       "    }\n",
       "</style>\n",
       "<table border=\"1\" class=\"dataframe\">\n",
       "  <thead>\n",
       "    <tr style=\"text-align: right;\">\n",
       "      <th></th>\n",
       "      <th>age</th>\n",
       "      <th>bmi</th>\n",
       "      <th>cholesterol_level</th>\n",
       "      <th>hypertension</th>\n",
       "      <th>asthma</th>\n",
       "      <th>cirrhosis</th>\n",
       "      <th>other_cancer</th>\n",
       "    </tr>\n",
       "  </thead>\n",
       "  <tbody>\n",
       "    <tr>\n",
       "      <th>0</th>\n",
       "      <td>64.0</td>\n",
       "      <td>31.1</td>\n",
       "      <td>257</td>\n",
       "      <td>1</td>\n",
       "      <td>1</td>\n",
       "      <td>0</td>\n",
       "      <td>0</td>\n",
       "    </tr>\n",
       "    <tr>\n",
       "      <th>1</th>\n",
       "      <td>50.0</td>\n",
       "      <td>25.9</td>\n",
       "      <td>208</td>\n",
       "      <td>1</td>\n",
       "      <td>0</td>\n",
       "      <td>0</td>\n",
       "      <td>0</td>\n",
       "    </tr>\n",
       "    <tr>\n",
       "      <th>2</th>\n",
       "      <td>65.0</td>\n",
       "      <td>18.9</td>\n",
       "      <td>193</td>\n",
       "      <td>0</td>\n",
       "      <td>0</td>\n",
       "      <td>0</td>\n",
       "      <td>0</td>\n",
       "    </tr>\n",
       "    <tr>\n",
       "      <th>3</th>\n",
       "      <td>51.0</td>\n",
       "      <td>34.6</td>\n",
       "      <td>249</td>\n",
       "      <td>1</td>\n",
       "      <td>1</td>\n",
       "      <td>1</td>\n",
       "      <td>0</td>\n",
       "    </tr>\n",
       "    <tr>\n",
       "      <th>4</th>\n",
       "      <td>37.0</td>\n",
       "      <td>40.2</td>\n",
       "      <td>262</td>\n",
       "      <td>0</td>\n",
       "      <td>0</td>\n",
       "      <td>0</td>\n",
       "      <td>0</td>\n",
       "    </tr>\n",
       "  </tbody>\n",
       "</table>\n",
       "</div>"
      ],
      "text/plain": [
       "    age   bmi  cholesterol_level  hypertension  asthma  cirrhosis  \\\n",
       "0  64.0  31.1                257             1       1          0   \n",
       "1  50.0  25.9                208             1       0          0   \n",
       "2  65.0  18.9                193             0       0          0   \n",
       "3  51.0  34.6                249             1       1          1   \n",
       "4  37.0  40.2                262             0       0          0   \n",
       "\n",
       "   other_cancer  \n",
       "0             0  \n",
       "1             0  \n",
       "2             0  \n",
       "3             0  \n",
       "4             0  "
      ]
     },
     "execution_count": 13,
     "metadata": {},
     "output_type": "execute_result"
    }
   ],
   "source": [
    "data[numerical_cols].head()"
   ]
  },
  {
   "cell_type": "code",
   "execution_count": 14,
   "metadata": {},
   "outputs": [
    {
     "data": {
      "text/plain": [
       "cholesterol_level\n",
       "253    28296\n",
       "261    28165\n",
       "272    28161\n",
       "251    28125\n",
       "290    28123\n",
       "       ...  \n",
       "204    17322\n",
       "167    17304\n",
       "236    17272\n",
       "300    14128\n",
       "150     8545\n",
       "Name: count, Length: 151, dtype: int64"
      ]
     },
     "execution_count": 14,
     "metadata": {},
     "output_type": "execute_result"
    }
   ],
   "source": [
    "data[numerical_cols]['cholesterol_level'].value_counts()"
   ]
  },
  {
   "cell_type": "code",
   "execution_count": 15,
   "metadata": {},
   "outputs": [
    {
     "data": {
      "text/html": [
       "<div>\n",
       "<style scoped>\n",
       "    .dataframe tbody tr th:only-of-type {\n",
       "        vertical-align: middle;\n",
       "    }\n",
       "\n",
       "    .dataframe tbody tr th {\n",
       "        vertical-align: top;\n",
       "    }\n",
       "\n",
       "    .dataframe thead th {\n",
       "        text-align: right;\n",
       "    }\n",
       "</style>\n",
       "<table border=\"1\" class=\"dataframe\">\n",
       "  <thead>\n",
       "    <tr style=\"text-align: right;\">\n",
       "      <th></th>\n",
       "      <th>gender</th>\n",
       "      <th>cancer_stage</th>\n",
       "      <th>family_history</th>\n",
       "      <th>smoking_status</th>\n",
       "    </tr>\n",
       "  </thead>\n",
       "  <tbody>\n",
       "    <tr>\n",
       "      <th>0</th>\n",
       "      <td>Female</td>\n",
       "      <td>Stage III</td>\n",
       "      <td>No</td>\n",
       "      <td>Never Smoked</td>\n",
       "    </tr>\n",
       "    <tr>\n",
       "      <th>1</th>\n",
       "      <td>Male</td>\n",
       "      <td>Stage III</td>\n",
       "      <td>Yes</td>\n",
       "      <td>Passive Smoker</td>\n",
       "    </tr>\n",
       "    <tr>\n",
       "      <th>2</th>\n",
       "      <td>Male</td>\n",
       "      <td>Stage IV</td>\n",
       "      <td>No</td>\n",
       "      <td>Never Smoked</td>\n",
       "    </tr>\n",
       "    <tr>\n",
       "      <th>3</th>\n",
       "      <td>Female</td>\n",
       "      <td>Stage III</td>\n",
       "      <td>Yes</td>\n",
       "      <td>Former Smoker</td>\n",
       "    </tr>\n",
       "    <tr>\n",
       "      <th>4</th>\n",
       "      <td>Male</td>\n",
       "      <td>Stage I</td>\n",
       "      <td>Yes</td>\n",
       "      <td>Never Smoked</td>\n",
       "    </tr>\n",
       "  </tbody>\n",
       "</table>\n",
       "</div>"
      ],
      "text/plain": [
       "   gender cancer_stage family_history  smoking_status\n",
       "0  Female    Stage III             No    Never Smoked\n",
       "1    Male    Stage III            Yes  Passive Smoker\n",
       "2    Male     Stage IV             No    Never Smoked\n",
       "3  Female    Stage III            Yes   Former Smoker\n",
       "4    Male      Stage I            Yes    Never Smoked"
      ]
     },
     "execution_count": 15,
     "metadata": {},
     "output_type": "execute_result"
    }
   ],
   "source": [
    "data[categorical_cols].head()"
   ]
  },
  {
   "cell_type": "code",
   "execution_count": 16,
   "metadata": {},
   "outputs": [
    {
     "data": {
      "image/png": "[encoded data removed]",
      "text/plain": [
       "<Figure size 1600x1200 with 7 Axes>"
      ]
     },
     "metadata": {},
     "output_type": "display_data"
    }
   ],
   "source": [
    "# Plotting the histograms with KDE for each numerical feature\n",
    "\n",
    "plt.figure(figsize=(16, 12))\n",
    "for i, col in enumerate(numerical_cols):\n",
    "    plt.subplot(len(numerical_cols) // 2 + 1, 2, i + 1)  \n",
    "    sns.histplot(data[col], kde=True, bins=30)\n",
    "    plt.title(f'{col} Distribution')\n",
    "    plt.xlabel(col)\n",
    "    plt.ylabel('Frequency')\n",
    "\n",
    "plt.tight_layout()\n",
    "plt.show()"
   ]
  },
  {
   "cell_type": "code",
   "execution_count": 17,
   "metadata": {},
   "outputs": [
    {
     "data": {
      "image/png": "[encoded data removed]",
      "text/plain": [
       "<Figure size 1600x1200 with 7 Axes>"
      ]
     },
     "metadata": {},
     "output_type": "display_data"
    }
   ],
   "source": [
    "# check outlier in numeric data \n",
    "# box plot\n",
    "plt.figure(figsize=(16, 12))\n",
    "for i, col in enumerate(numerical_cols):\n",
    "    plt.subplot(3, 3, i + 1)  \n",
    "    sns.boxplot(y=data[col])  \n",
    "    plt.title(f'{col} Box Plot')\n",
    "    plt.ylabel(col)\n",
    "\n",
    "plt.tight_layout()\n",
    "plt.show()"
   ]
  },
  {
   "cell_type": "code",
   "execution_count": 18,
   "metadata": {},
   "outputs": [],
   "source": [
    "# cap_outlier\n",
    "def cap_outliers(df):\n",
    "    df_capped = df.copy()\n",
    "    for column in df.select_dtypes(include='number').columns:\n",
    "        Q1 = df_capped[column].quantile(0.25)\n",
    "        Q3 = df_capped[column].quantile(0.75)\n",
    "        IQR = Q3 - Q1\n",
    "        lower_bound = Q1 - 1.5 * IQR\n",
    "        upper_bound = Q3 + 1.5 * IQR\n",
    "\n",
    "        df_capped[column] = df_capped[column].clip(lower=lower_bound, upper=upper_bound)\n",
    "\n",
    "    return df_capped"
   ]
  },
  {
   "cell_type": "code",
   "execution_count": 19,
   "metadata": {},
   "outputs": [
    {
     "data": {
      "image/png": "[encoded data removed]",
      "text/plain": [
       "<Figure size 2500x2500 with 4 Axes>"
      ]
     },
     "metadata": {},
     "output_type": "display_data"
    }
   ],
   "source": [
    "plt.figure(figsize=(25, 25))\n",
    "\n",
    "for i, feature in enumerate(categorical_cols):\n",
    "    plt.subplot((len(categorical_cols) + 1) // 2, 2, i + 1)  \n",
    "    sns.countplot(data=data, x=feature)  \n",
    "    plt.title(f'Distribution of {feature} by Class')\n",
    "    plt.xlabel(feature)\n",
    "    plt.ylabel('Count')\n",
    "\n",
    "plt.tight_layout()\n",
    "plt.show()\n"
   ]
  },
  {
   "cell_type": "code",
   "execution_count": 20,
   "metadata": {},
   "outputs": [
    {
     "data": {
      "text/html": [
       "<div>\n",
       "<style scoped>\n",
       "    .dataframe tbody tr th:only-of-type {\n",
       "        vertical-align: middle;\n",
       "    }\n",
       "\n",
       "    .dataframe tbody tr th {\n",
       "        vertical-align: top;\n",
       "    }\n",
       "\n",
       "    .dataframe thead th {\n",
       "        text-align: right;\n",
       "    }\n",
       "</style>\n",
       "<table border=\"1\" class=\"dataframe\">\n",
       "  <thead>\n",
       "    <tr style=\"text-align: right;\">\n",
       "      <th></th>\n",
       "      <th>age</th>\n",
       "      <th>gender</th>\n",
       "      <th>cancer_stage</th>\n",
       "      <th>family_history</th>\n",
       "      <th>smoking_status</th>\n",
       "      <th>bmi</th>\n",
       "      <th>cholesterol_level</th>\n",
       "      <th>hypertension</th>\n",
       "      <th>asthma</th>\n",
       "      <th>cirrhosis</th>\n",
       "      <th>other_cancer</th>\n",
       "    </tr>\n",
       "  </thead>\n",
       "  <tbody>\n",
       "    <tr>\n",
       "      <th>0</th>\n",
       "      <td>64.0</td>\n",
       "      <td>Female</td>\n",
       "      <td>Stage III</td>\n",
       "      <td>No</td>\n",
       "      <td>Never Smoked</td>\n",
       "      <td>31.1</td>\n",
       "      <td>257</td>\n",
       "      <td>1</td>\n",
       "      <td>1</td>\n",
       "      <td>0</td>\n",
       "      <td>0</td>\n",
       "    </tr>\n",
       "    <tr>\n",
       "      <th>1</th>\n",
       "      <td>50.0</td>\n",
       "      <td>Male</td>\n",
       "      <td>Stage III</td>\n",
       "      <td>Yes</td>\n",
       "      <td>Passive Smoker</td>\n",
       "      <td>25.9</td>\n",
       "      <td>208</td>\n",
       "      <td>1</td>\n",
       "      <td>0</td>\n",
       "      <td>0</td>\n",
       "      <td>0</td>\n",
       "    </tr>\n",
       "    <tr>\n",
       "      <th>2</th>\n",
       "      <td>65.0</td>\n",
       "      <td>Male</td>\n",
       "      <td>Stage IV</td>\n",
       "      <td>No</td>\n",
       "      <td>Never Smoked</td>\n",
       "      <td>18.9</td>\n",
       "      <td>193</td>\n",
       "      <td>0</td>\n",
       "      <td>0</td>\n",
       "      <td>0</td>\n",
       "      <td>0</td>\n",
       "    </tr>\n",
       "    <tr>\n",
       "      <th>3</th>\n",
       "      <td>51.0</td>\n",
       "      <td>Female</td>\n",
       "      <td>Stage III</td>\n",
       "      <td>Yes</td>\n",
       "      <td>Former Smoker</td>\n",
       "      <td>34.6</td>\n",
       "      <td>249</td>\n",
       "      <td>1</td>\n",
       "      <td>1</td>\n",
       "      <td>1</td>\n",
       "      <td>0</td>\n",
       "    </tr>\n",
       "    <tr>\n",
       "      <th>4</th>\n",
       "      <td>37.0</td>\n",
       "      <td>Male</td>\n",
       "      <td>Stage I</td>\n",
       "      <td>Yes</td>\n",
       "      <td>Never Smoked</td>\n",
       "      <td>40.2</td>\n",
       "      <td>262</td>\n",
       "      <td>0</td>\n",
       "      <td>0</td>\n",
       "      <td>0</td>\n",
       "      <td>0</td>\n",
       "    </tr>\n",
       "  </tbody>\n",
       "</table>\n",
       "</div>"
      ],
      "text/plain": [
       "    age  gender cancer_stage family_history  smoking_status   bmi  \\\n",
       "0  64.0  Female    Stage III             No    Never Smoked  31.1   \n",
       "1  50.0    Male    Stage III            Yes  Passive Smoker  25.9   \n",
       "2  65.0    Male     Stage IV             No    Never Smoked  18.9   \n",
       "3  51.0  Female    Stage III            Yes   Former Smoker  34.6   \n",
       "4  37.0    Male      Stage I            Yes    Never Smoked  40.2   \n",
       "\n",
       "   cholesterol_level  hypertension  asthma  cirrhosis  other_cancer  \n",
       "0                257             1       1          0             0  \n",
       "1                208             1       0          0             0  \n",
       "2                193             0       0          0             0  \n",
       "3                249             1       1          1             0  \n",
       "4                262             0       0          0             0  "
      ]
     },
     "execution_count": 20,
     "metadata": {},
     "output_type": "execute_result"
    }
   ],
   "source": [
    "data.head()\n"
   ]
  },
  {
   "cell_type": "code",
   "execution_count": 21,
   "metadata": {},
   "outputs": [],
   "source": [
    "import pandas as pd\n",
    "from sklearn.preprocessing import LabelEncoder, StandardScaler,OneHotEncoder\n",
    "from sklearn.cluster import KMeans\n"
   ]
  },
  {
   "cell_type": "code",
   "execution_count": 22,
   "metadata": {},
   "outputs": [
    {
     "data": {
      "text/plain": [
       "Index(['age', 'bmi', 'cholesterol_level', 'hypertension', 'asthma',\n",
       "       'cirrhosis', 'other_cancer'],\n",
       "      dtype='object')"
      ]
     },
     "execution_count": 22,
     "metadata": {},
     "output_type": "execute_result"
    }
   ],
   "source": [
    "numerical_cols"
   ]
  },
  {
   "cell_type": "code",
   "execution_count": 23,
   "metadata": {},
   "outputs": [
    {
     "data": {
      "text/plain": [
       "Index(['gender', 'cancer_stage', 'family_history', 'smoking_status'], dtype='object')"
      ]
     },
     "execution_count": 23,
     "metadata": {},
     "output_type": "execute_result"
    }
   ],
   "source": [
    "categorical_cols"
   ]
  },
  {
   "cell_type": "code",
   "execution_count": 24,
   "metadata": {},
   "outputs": [],
   "source": [
    "scaler = StandardScaler()\n",
    "data[numerical_cols] = scaler.fit_transform(data[numerical_cols])"
   ]
  },
  {
   "cell_type": "code",
   "execution_count": 25,
   "metadata": {},
   "outputs": [],
   "source": [
    "label_encoders = {}\n",
    "for col in categorical_cols:\n",
    "    le = LabelEncoder()\n",
    "    data[col] = le.fit_transform(data[col])\n",
    "    label_encoders[col] = le\n",
    "\n",
    "\n"
   ]
  },
  {
   "cell_type": "code",
   "execution_count": 26,
   "metadata": {},
   "outputs": [
    {
     "data": {
      "text/html": [
       "<div>\n",
       "<style scoped>\n",
       "    .dataframe tbody tr th:only-of-type {\n",
       "        vertical-align: middle;\n",
       "    }\n",
       "\n",
       "    .dataframe tbody tr th {\n",
       "        vertical-align: top;\n",
       "    }\n",
       "\n",
       "    .dataframe thead th {\n",
       "        text-align: right;\n",
       "    }\n",
       "</style>\n",
       "<table border=\"1\" class=\"dataframe\">\n",
       "  <thead>\n",
       "    <tr style=\"text-align: right;\">\n",
       "      <th></th>\n",
       "      <th>age</th>\n",
       "      <th>gender</th>\n",
       "      <th>cancer_stage</th>\n",
       "      <th>family_history</th>\n",
       "      <th>smoking_status</th>\n",
       "      <th>bmi</th>\n",
       "      <th>cholesterol_level</th>\n",
       "      <th>hypertension</th>\n",
       "      <th>asthma</th>\n",
       "      <th>cirrhosis</th>\n",
       "      <th>other_cancer</th>\n",
       "    </tr>\n",
       "  </thead>\n",
       "  <tbody>\n",
       "    <tr>\n",
       "      <th>0</th>\n",
       "      <td>0.899921</td>\n",
       "      <td>0</td>\n",
       "      <td>2</td>\n",
       "      <td>0</td>\n",
       "      <td>2</td>\n",
       "      <td>0.072537</td>\n",
       "      <td>0.537704</td>\n",
       "      <td>0.577600</td>\n",
       "      <td>1.064628</td>\n",
       "      <td>-0.541261</td>\n",
       "      <td>-0.310683</td>\n",
       "    </tr>\n",
       "    <tr>\n",
       "      <th>1</th>\n",
       "      <td>-0.499908</td>\n",
       "      <td>1</td>\n",
       "      <td>2</td>\n",
       "      <td>1</td>\n",
       "      <td>3</td>\n",
       "      <td>-0.548619</td>\n",
       "      <td>-0.590068</td>\n",
       "      <td>0.577600</td>\n",
       "      <td>-0.939295</td>\n",
       "      <td>-0.541261</td>\n",
       "      <td>-0.310683</td>\n",
       "    </tr>\n",
       "    <tr>\n",
       "      <th>2</th>\n",
       "      <td>0.999909</td>\n",
       "      <td>1</td>\n",
       "      <td>3</td>\n",
       "      <td>0</td>\n",
       "      <td>2</td>\n",
       "      <td>-1.384790</td>\n",
       "      <td>-0.935305</td>\n",
       "      <td>-1.731301</td>\n",
       "      <td>-0.939295</td>\n",
       "      <td>-0.541261</td>\n",
       "      <td>-0.310683</td>\n",
       "    </tr>\n",
       "    <tr>\n",
       "      <th>3</th>\n",
       "      <td>-0.399921</td>\n",
       "      <td>0</td>\n",
       "      <td>2</td>\n",
       "      <td>1</td>\n",
       "      <td>1</td>\n",
       "      <td>0.490622</td>\n",
       "      <td>0.353578</td>\n",
       "      <td>0.577600</td>\n",
       "      <td>1.064628</td>\n",
       "      <td>1.847537</td>\n",
       "      <td>-0.310683</td>\n",
       "    </tr>\n",
       "    <tr>\n",
       "      <th>4</th>\n",
       "      <td>-1.799750</td>\n",
       "      <td>1</td>\n",
       "      <td>0</td>\n",
       "      <td>1</td>\n",
       "      <td>2</td>\n",
       "      <td>1.159559</td>\n",
       "      <td>0.652782</td>\n",
       "      <td>-1.731301</td>\n",
       "      <td>-0.939295</td>\n",
       "      <td>-0.541261</td>\n",
       "      <td>-0.310683</td>\n",
       "    </tr>\n",
       "  </tbody>\n",
       "</table>\n",
       "</div>"
      ],
      "text/plain": [
       "        age  gender  cancer_stage  family_history  smoking_status       bmi  \\\n",
       "0  0.899921       0             2               0               2  0.072537   \n",
       "1 -0.499908       1             2               1               3 -0.548619   \n",
       "2  0.999909       1             3               0               2 -1.384790   \n",
       "3 -0.399921       0             2               1               1  0.490622   \n",
       "4 -1.799750       1             0               1               2  1.159559   \n",
       "\n",
       "   cholesterol_level  hypertension    asthma  cirrhosis  other_cancer  \n",
       "0           0.537704      0.577600  1.064628  -0.541261     -0.310683  \n",
       "1          -0.590068      0.577600 -0.939295  -0.541261     -0.310683  \n",
       "2          -0.935305     -1.731301 -0.939295  -0.541261     -0.310683  \n",
       "3           0.353578      0.577600  1.064628   1.847537     -0.310683  \n",
       "4           0.652782     -1.731301 -0.939295  -0.541261     -0.310683  "
      ]
     },
     "execution_count": 26,
     "metadata": {},
     "output_type": "execute_result"
    }
   ],
   "source": [
    "data.head()"
   ]
  },
  {
   "cell_type": "code",
   "execution_count": 27,
   "metadata": {},
   "outputs": [
    {
     "data": {
      "text/plain": [
       "cirrhosis\n",
       "-0.541261    2513605\n",
       " 1.847537     736395\n",
       "Name: count, dtype: int64"
      ]
     },
     "execution_count": 27,
     "metadata": {},
     "output_type": "execute_result"
    }
   ],
   "source": [
    "data['cirrhosis'].value_counts()\n"
   ]
  },
  {
   "cell_type": "markdown",
   "metadata": {},
   "source": [
    "elbow method"
   ]
  },
  {
   "cell_type": "code",
   "execution_count": 28,
   "metadata": {},
   "outputs": [],
   "source": [
    "# choosing the number of cluster\n",
    "# wcss = Within Clusters Sum of Squares\n",
    "wcss = []\n",
    "\n",
    "for i in range(1, 20):\n",
    "    kmeans = KMeans(n_clusters=i, init='k-means++', random_state=42)\n",
    "    kmeans.fit(data)\n",
    "    wcss.append(kmeans.inertia_)"
   ]
  },
  {
   "cell_type": "code",
   "execution_count": 29,
   "metadata": {},
   "outputs": [
    {
     "data": {
      "text/plain": [
       "Text(0, 0.5, 'WCSS')"
      ]
     },
     "execution_count": 29,
     "metadata": {},
     "output_type": "execute_result"
    },
    {
     "data": {
      "image/png": "[encoded data removed]",
      "text/plain": [
       "<Figure size 640x480 with 1 Axes>"
      ]
     },
     "metadata": {},
     "output_type": "display_data"
    }
   ],
   "source": [
    "# elbow graph\n",
    "plt.plot(range(1, 20), wcss, marker='o')\n",
    "plt.xticks(range(1,20))\n",
    "plt.xlabel('Number of Clusters')\n",
    "plt.ylabel('WCSS')"
   ]
  },
  {
   "cell_type": "code",
   "execution_count": 31,
   "metadata": {},
   "outputs": [
    {
     "name": "stdout",
     "output_type": "stream",
     "text": [
      "Collecting kneed\n",
      "  Using cached kneed-0.8.5-py3-none-any.whl.metadata (5.5 kB)\n",
      "Requirement already satisfied: numpy>=1.14.2 in c:\\users\\bhaumik\\documents\\skyttus\\machine learning\\.venv\\lib\\site-packages (from kneed) (2.3.2)\n",
      "Requirement already satisfied: scipy>=1.0.0 in c:\\users\\bhaumik\\documents\\skyttus\\machine learning\\.venv\\lib\\site-packages (from kneed) (1.16.1)\n",
      "Using cached kneed-0.8.5-py3-none-any.whl (10 kB)\n",
      "Installing collected packages: kneed\n",
      "Successfully installed kneed-0.8.5\n"
     ]
    }
   ],
   "source": [
    "!pip install kneed\n"
   ]
  },
  {
   "cell_type": "code",
   "execution_count": 32,
   "metadata": {},
   "outputs": [],
   "source": [
    "from kneed import KneeLocator"
   ]
  },
  {
   "cell_type": "code",
   "execution_count": 33,
   "metadata": {},
   "outputs": [
    {
     "data": {
      "text/plain": [
       "np.int64(7)"
      ]
     },
     "execution_count": 33,
     "metadata": {},
     "output_type": "execute_result"
    }
   ],
   "source": [
    "kl = KneeLocator(range(1,20),wcss,curve='convex',direction='decreasing')\n",
    "kl.elbow"
   ]
  },
  {
   "cell_type": "code",
   "execution_count": 34,
   "metadata": {},
   "outputs": [],
   "source": [
    "kmeans = KMeans(n_clusters=7, random_state=42)\n",
    "dataset['Cluster'] = kmeans.fit_predict(data)"
   ]
  },
  {
   "cell_type": "code",
   "execution_count": 35,
   "metadata": {},
   "outputs": [
    {
     "name": "stdout",
     "output_type": "stream",
     "text": [
      "treatment_type\n",
      "Surgery         813480\n",
      "Chemotherapy    812702\n",
      "Radiation       812263\n",
      "Combined        811555\n",
      "Name: count, dtype: int64\n"
     ]
    }
   ],
   "source": [
    "treatment_counts = dataset['treatment_type'].value_counts()\n",
    "print(treatment_counts)"
   ]
  },
  {
   "cell_type": "code",
   "execution_count": 36,
   "metadata": {},
   "outputs": [
    {
     "data": {
      "text/plain": [
       "Cluster\n",
       "1    757978\n",
       "6    636103\n",
       "0    453920\n",
       "3    453387\n",
       "2    341811\n",
       "5    320712\n",
       "4    286089\n",
       "Name: count, dtype: int64"
      ]
     },
     "execution_count": 36,
     "metadata": {},
     "output_type": "execute_result"
    }
   ],
   "source": [
    "dataset['Cluster'].value_counts()"
   ]
  },
  {
   "cell_type": "code",
   "execution_count": 37,
   "metadata": {},
   "outputs": [
    {
     "name": "stdout",
     "output_type": "stream",
     "text": [
      "Cluster  treatment_type\n",
      "0        Radiation         113747\n",
      "         Surgery           113596\n",
      "         Combined          113296\n",
      "         Chemotherapy      113281\n",
      "1        Surgery           190126\n",
      "         Combined          189646\n",
      "         Chemotherapy      189312\n",
      "         Radiation         188894\n",
      "2        Surgery            85852\n",
      "         Combined           85420\n",
      "         Radiation          85338\n",
      "         Chemotherapy       85201\n",
      "3        Chemotherapy      113658\n",
      "         Surgery           113580\n",
      "         Radiation         113284\n",
      "         Combined          112865\n",
      "4        Chemotherapy       71668\n",
      "         Surgery            71505\n",
      "         Radiation          71493\n",
      "         Combined           71423\n",
      "5        Radiation          80395\n",
      "         Chemotherapy       80349\n",
      "         Combined           80045\n",
      "         Surgery            79923\n",
      "6        Chemotherapy      159233\n",
      "         Radiation         159112\n",
      "         Surgery           158898\n",
      "         Combined          158860\n",
      "Name: count, dtype: int64\n"
     ]
    }
   ],
   "source": [
    "cluster_summary = dataset.groupby('Cluster')['treatment_type'].value_counts()\n",
    "print(cluster_summary)\n"
   ]
  },
  {
   "cell_type": "code",
   "execution_count": 38,
   "metadata": {},
   "outputs": [
    {
     "name": "stdout",
     "output_type": "stream",
     "text": [
      "treatment_type  Chemotherapy  Combined  Radiation  Surgery\n",
      "Cluster                                                   \n",
      "0                     113281    113296     113747   113596\n",
      "1                     189312    189646     188894   190126\n",
      "2                      85201     85420      85338    85852\n",
      "3                     113658    112865     113284   113580\n",
      "4                      71668     71423      71493    71505\n",
      "5                      80349     80045      80395    79923\n",
      "6                     159233    158860     159112   158898\n"
     ]
    }
   ],
   "source": [
    "treatment_by_cluster = dataset.groupby(['Cluster', 'treatment_type']).size().unstack()\n",
    "print(treatment_by_cluster)"
   ]
  },
  {
   "cell_type": "code",
   "execution_count": 39,
   "metadata": {},
   "outputs": [
    {
     "data": {
      "text/html": [
       "<div>\n",
       "<style scoped>\n",
       "    .dataframe tbody tr th:only-of-type {\n",
       "        vertical-align: middle;\n",
       "    }\n",
       "\n",
       "    .dataframe tbody tr th {\n",
       "        vertical-align: top;\n",
       "    }\n",
       "\n",
       "    .dataframe thead th {\n",
       "        text-align: right;\n",
       "    }\n",
       "</style>\n",
       "<table border=\"1\" class=\"dataframe\">\n",
       "  <thead>\n",
       "    <tr style=\"text-align: right;\">\n",
       "      <th></th>\n",
       "      <th>age</th>\n",
       "      <th>gender</th>\n",
       "      <th>cancer_stage</th>\n",
       "      <th>family_history</th>\n",
       "      <th>smoking_status</th>\n",
       "      <th>bmi</th>\n",
       "      <th>cholesterol_level</th>\n",
       "      <th>hypertension</th>\n",
       "      <th>asthma</th>\n",
       "      <th>cirrhosis</th>\n",
       "      <th>other_cancer</th>\n",
       "    </tr>\n",
       "  </thead>\n",
       "  <tbody>\n",
       "    <tr>\n",
       "      <th>0</th>\n",
       "      <td>0.899921</td>\n",
       "      <td>0</td>\n",
       "      <td>2</td>\n",
       "      <td>0</td>\n",
       "      <td>2</td>\n",
       "      <td>0.072537</td>\n",
       "      <td>0.537704</td>\n",
       "      <td>0.577600</td>\n",
       "      <td>1.064628</td>\n",
       "      <td>-0.541261</td>\n",
       "      <td>-0.310683</td>\n",
       "    </tr>\n",
       "    <tr>\n",
       "      <th>1</th>\n",
       "      <td>-0.499908</td>\n",
       "      <td>1</td>\n",
       "      <td>2</td>\n",
       "      <td>1</td>\n",
       "      <td>3</td>\n",
       "      <td>-0.548619</td>\n",
       "      <td>-0.590068</td>\n",
       "      <td>0.577600</td>\n",
       "      <td>-0.939295</td>\n",
       "      <td>-0.541261</td>\n",
       "      <td>-0.310683</td>\n",
       "    </tr>\n",
       "    <tr>\n",
       "      <th>2</th>\n",
       "      <td>0.999909</td>\n",
       "      <td>1</td>\n",
       "      <td>3</td>\n",
       "      <td>0</td>\n",
       "      <td>2</td>\n",
       "      <td>-1.384790</td>\n",
       "      <td>-0.935305</td>\n",
       "      <td>-1.731301</td>\n",
       "      <td>-0.939295</td>\n",
       "      <td>-0.541261</td>\n",
       "      <td>-0.310683</td>\n",
       "    </tr>\n",
       "    <tr>\n",
       "      <th>3</th>\n",
       "      <td>-0.399921</td>\n",
       "      <td>0</td>\n",
       "      <td>2</td>\n",
       "      <td>1</td>\n",
       "      <td>1</td>\n",
       "      <td>0.490622</td>\n",
       "      <td>0.353578</td>\n",
       "      <td>0.577600</td>\n",
       "      <td>1.064628</td>\n",
       "      <td>1.847537</td>\n",
       "      <td>-0.310683</td>\n",
       "    </tr>\n",
       "    <tr>\n",
       "      <th>4</th>\n",
       "      <td>-1.799750</td>\n",
       "      <td>1</td>\n",
       "      <td>0</td>\n",
       "      <td>1</td>\n",
       "      <td>2</td>\n",
       "      <td>1.159559</td>\n",
       "      <td>0.652782</td>\n",
       "      <td>-1.731301</td>\n",
       "      <td>-0.939295</td>\n",
       "      <td>-0.541261</td>\n",
       "      <td>-0.310683</td>\n",
       "    </tr>\n",
       "  </tbody>\n",
       "</table>\n",
       "</div>"
      ],
      "text/plain": [
       "        age  gender  cancer_stage  family_history  smoking_status       bmi  \\\n",
       "0  0.899921       0             2               0               2  0.072537   \n",
       "1 -0.499908       1             2               1               3 -0.548619   \n",
       "2  0.999909       1             3               0               2 -1.384790   \n",
       "3 -0.399921       0             2               1               1  0.490622   \n",
       "4 -1.799750       1             0               1               2  1.159559   \n",
       "\n",
       "   cholesterol_level  hypertension    asthma  cirrhosis  other_cancer  \n",
       "0           0.537704      0.577600  1.064628  -0.541261     -0.310683  \n",
       "1          -0.590068      0.577600 -0.939295  -0.541261     -0.310683  \n",
       "2          -0.935305     -1.731301 -0.939295  -0.541261     -0.310683  \n",
       "3           0.353578      0.577600  1.064628   1.847537     -0.310683  \n",
       "4           0.652782     -1.731301 -0.939295  -0.541261     -0.310683  "
      ]
     },
     "execution_count": 39,
     "metadata": {},
     "output_type": "execute_result"
    }
   ],
   "source": [
    "data.head()"
   ]
  },
  {
   "cell_type": "code",
   "execution_count": 40,
   "metadata": {},
   "outputs": [
    {
     "data": {
      "text/html": [
       "<div>\n",
       "<style scoped>\n",
       "    .dataframe tbody tr th:only-of-type {\n",
       "        vertical-align: middle;\n",
       "    }\n",
       "\n",
       "    .dataframe tbody tr th {\n",
       "        vertical-align: top;\n",
       "    }\n",
       "\n",
       "    .dataframe thead th {\n",
       "        text-align: right;\n",
       "    }\n",
       "</style>\n",
       "<table border=\"1\" class=\"dataframe\">\n",
       "  <thead>\n",
       "    <tr style=\"text-align: right;\">\n",
       "      <th></th>\n",
       "      <th>id</th>\n",
       "      <th>age</th>\n",
       "      <th>gender</th>\n",
       "      <th>country</th>\n",
       "      <th>diagnosis_date</th>\n",
       "      <th>cancer_stage</th>\n",
       "      <th>beginning_of_treatment_date</th>\n",
       "      <th>family_history</th>\n",
       "      <th>smoking_status</th>\n",
       "      <th>bmi</th>\n",
       "      <th>cholesterol_level</th>\n",
       "      <th>hypertension</th>\n",
       "      <th>asthma</th>\n",
       "      <th>cirrhosis</th>\n",
       "      <th>other_cancer</th>\n",
       "      <th>treatment_type</th>\n",
       "      <th>end_treatment_date</th>\n",
       "      <th>survived</th>\n",
       "      <th>Cluster</th>\n",
       "    </tr>\n",
       "  </thead>\n",
       "  <tbody>\n",
       "    <tr>\n",
       "      <th>0</th>\n",
       "      <td>1</td>\n",
       "      <td>64.0</td>\n",
       "      <td>Female</td>\n",
       "      <td>Germany</td>\n",
       "      <td>2016-04-07</td>\n",
       "      <td>Stage III</td>\n",
       "      <td>2016-04-21</td>\n",
       "      <td>No</td>\n",
       "      <td>Never Smoked</td>\n",
       "      <td>31.1</td>\n",
       "      <td>257</td>\n",
       "      <td>1</td>\n",
       "      <td>1</td>\n",
       "      <td>0</td>\n",
       "      <td>0</td>\n",
       "      <td>Combined</td>\n",
       "      <td>2017-11-15</td>\n",
       "      <td>0</td>\n",
       "      <td>3</td>\n",
       "    </tr>\n",
       "    <tr>\n",
       "      <th>1</th>\n",
       "      <td>2</td>\n",
       "      <td>50.0</td>\n",
       "      <td>Male</td>\n",
       "      <td>Czech Republic</td>\n",
       "      <td>2023-04-22</td>\n",
       "      <td>Stage III</td>\n",
       "      <td>2023-05-02</td>\n",
       "      <td>Yes</td>\n",
       "      <td>Passive Smoker</td>\n",
       "      <td>25.9</td>\n",
       "      <td>208</td>\n",
       "      <td>1</td>\n",
       "      <td>0</td>\n",
       "      <td>0</td>\n",
       "      <td>0</td>\n",
       "      <td>Radiation</td>\n",
       "      <td>2024-04-25</td>\n",
       "      <td>0</td>\n",
       "      <td>1</td>\n",
       "    </tr>\n",
       "    <tr>\n",
       "      <th>2</th>\n",
       "      <td>3</td>\n",
       "      <td>65.0</td>\n",
       "      <td>Male</td>\n",
       "      <td>Romania</td>\n",
       "      <td>2023-04-07</td>\n",
       "      <td>Stage IV</td>\n",
       "      <td>2023-04-12</td>\n",
       "      <td>No</td>\n",
       "      <td>Never Smoked</td>\n",
       "      <td>18.9</td>\n",
       "      <td>193</td>\n",
       "      <td>0</td>\n",
       "      <td>0</td>\n",
       "      <td>0</td>\n",
       "      <td>0</td>\n",
       "      <td>Surgery</td>\n",
       "      <td>2025-03-11</td>\n",
       "      <td>0</td>\n",
       "      <td>6</td>\n",
       "    </tr>\n",
       "    <tr>\n",
       "      <th>3</th>\n",
       "      <td>4</td>\n",
       "      <td>51.0</td>\n",
       "      <td>Female</td>\n",
       "      <td>Latvia</td>\n",
       "      <td>2016-02-07</td>\n",
       "      <td>Stage III</td>\n",
       "      <td>2016-02-13</td>\n",
       "      <td>Yes</td>\n",
       "      <td>Former Smoker</td>\n",
       "      <td>34.6</td>\n",
       "      <td>249</td>\n",
       "      <td>1</td>\n",
       "      <td>1</td>\n",
       "      <td>1</td>\n",
       "      <td>0</td>\n",
       "      <td>Surgery</td>\n",
       "      <td>2017-04-14</td>\n",
       "      <td>1</td>\n",
       "      <td>2</td>\n",
       "    </tr>\n",
       "    <tr>\n",
       "      <th>4</th>\n",
       "      <td>5</td>\n",
       "      <td>37.0</td>\n",
       "      <td>Male</td>\n",
       "      <td>Greece</td>\n",
       "      <td>2023-12-01</td>\n",
       "      <td>Stage I</td>\n",
       "      <td>2023-12-03</td>\n",
       "      <td>Yes</td>\n",
       "      <td>Never Smoked</td>\n",
       "      <td>40.2</td>\n",
       "      <td>262</td>\n",
       "      <td>0</td>\n",
       "      <td>0</td>\n",
       "      <td>0</td>\n",
       "      <td>0</td>\n",
       "      <td>Chemotherapy</td>\n",
       "      <td>2024-09-20</td>\n",
       "      <td>0</td>\n",
       "      <td>6</td>\n",
       "    </tr>\n",
       "  </tbody>\n",
       "</table>\n",
       "</div>"
      ],
      "text/plain": [
       "   id   age  gender         country diagnosis_date cancer_stage  \\\n",
       "0   1  64.0  Female         Germany     2016-04-07    Stage III   \n",
       "1   2  50.0    Male  Czech Republic     2023-04-22    Stage III   \n",
       "2   3  65.0    Male         Romania     2023-04-07     Stage IV   \n",
       "3   4  51.0  Female          Latvia     2016-02-07    Stage III   \n",
       "4   5  37.0    Male          Greece     2023-12-01      Stage I   \n",
       "\n",
       "  beginning_of_treatment_date family_history  smoking_status   bmi  \\\n",
       "0                  2016-04-21             No    Never Smoked  31.1   \n",
       "1                  2023-05-02            Yes  Passive Smoker  25.9   \n",
       "2                  2023-04-12             No    Never Smoked  18.9   \n",
       "3                  2016-02-13            Yes   Former Smoker  34.6   \n",
       "4                  2023-12-03            Yes    Never Smoked  40.2   \n",
       "\n",
       "   cholesterol_level  hypertension  asthma  cirrhosis  other_cancer  \\\n",
       "0                257             1       1          0             0   \n",
       "1                208             1       0          0             0   \n",
       "2                193             0       0          0             0   \n",
       "3                249             1       1          1             0   \n",
       "4                262             0       0          0             0   \n",
       "\n",
       "  treatment_type end_treatment_date  survived  Cluster  \n",
       "0       Combined         2017-11-15         0        3  \n",
       "1      Radiation         2024-04-25         0        1  \n",
       "2        Surgery         2025-03-11         0        6  \n",
       "3        Surgery         2017-04-14         1        2  \n",
       "4   Chemotherapy         2024-09-20         0        6  "
      ]
     },
     "execution_count": 40,
     "metadata": {},
     "output_type": "execute_result"
    }
   ],
   "source": [
    "dataset.head()"
   ]
  },
  {
   "cell_type": "code",
   "execution_count": 45,
   "metadata": {},
   "outputs": [
    {
     "name": "stdout",
     "output_type": "stream",
     "text": [
      "Recommended Treatment: Surgery\n"
     ]
    }
   ],
   "source": [
    "def get_user_input():\n",
    "    age = int(input(\"Enter age: \"))\n",
    "    gender = input(\"Enter gender (Male/Female): \")\n",
    "    cancer_stage = input(\"Enter cancer stage (e.g., Stage I, Stage II, Stage III, Stage IV): \")\n",
    "    family_history = input(\"Is there a family history of cancer? (Yes/No): \")\n",
    "    smoking_status = input(\"Enter smoking status (e.g., Never Smoker, Former Smoker, Current Smoker): \")\n",
    "    bmi = float(input(\"Enter BMI: \"))\n",
    "    cholesterol_level = float(input(\"Enter cholesterol level: \"))\n",
    "    hypertension = int(input(\"Enter hypertension status (1 for Yes, 0 for No): \"))\n",
    "    asthma = int(input(\"Enter asthma status (1 for Yes, 0 for No): \"))\n",
    "    cirrhosis = int(input(\"Enter cirrhosis status (1 for Yes, 0 for No): \"))\n",
    "    other_cancer = int(input(\"Enter other cancer status (1 for Yes, 0 for No): \"))\n",
    "\n",
    "    return pd.DataFrame({\n",
    "        'age': [age],\n",
    "        'gender': [gender],\n",
    "        'cancer_stage': [cancer_stage],\n",
    "        'family_history': [family_history],\n",
    "        'smoking_status': [smoking_status],\n",
    "        'bmi': [bmi],\n",
    "        'cholesterol_level': [cholesterol_level],\n",
    "        'hypertension': [hypertension],\n",
    "        'asthma': [asthma],\n",
    "        'cirrhosis': [cirrhosis],\n",
    "        'other_cancer': [other_cancer]\n",
    "    })\n",
    "\n",
    "manual_data = get_user_input()\n",
    "# print(manual_data.head())\n",
    "\n",
    "manual_data[numerical_cols] = scaler.transform(manual_data[numerical_cols])\n",
    "for col in categorical_cols:\n",
    "    manual_data[col] = label_encoders[col].transform(manual_data[col])\n",
    "\n",
    "predicted_cluster = kmeans.predict(manual_data)\n",
    "\n",
    "recommended_treatment = dataset[dataset['Cluster'] == predicted_cluster[0]]['treatment_type'].mode()[0]\n",
    "print(f\"Recommended Treatment: {recommended_treatment}\")\n"
   ]
  },
  {
   "cell_type": "markdown",
   "metadata": {},
   "source": [
    "based on id"
   ]
  },
  {
   "cell_type": "code",
   "execution_count": 40,
   "metadata": {},
   "outputs": [
    {
     "name": "stdout",
     "output_type": "stream",
     "text": [
      "Recommended treatment for user 56: Radiation\n"
     ]
    }
   ],
   "source": [
    "def recommend_treatments(cluster_label):\n",
    "    cluster_data = dataset[dataset['Cluster'] == cluster_label]\n",
    "    recommended_treatment = cluster_data['treatment_type'].mode().values[0]\n",
    "    \n",
    "    return recommended_treatment\n",
    "\n",
    "user_id = int(input(\"Enter user ID: \"))\n",
    "user_cluster = dataset.loc[user_id, 'Cluster']\n",
    "recommended_treatment = recommend_treatments(user_cluster)\n",
    "\n",
    "print(f\"Recommended treatment for user {user_id}: {recommended_treatment}\")"
   ]
  },
  {
   "cell_type": "markdown",
   "metadata": {},
   "source": [
    "Pipeline "
   ]
  },
  {
   "cell_type": "code",
   "execution_count": 41,
   "metadata": {},
   "outputs": [],
   "source": [
    "dataset = pd.read_csv('lung_cancer_mortality_data_large_v2.csv')"
   ]
  },
  {
   "cell_type": "code",
   "execution_count": 42,
   "metadata": {},
   "outputs": [],
   "source": [
    "data = dataset.copy()"
   ]
  },
  {
   "cell_type": "code",
   "execution_count": 43,
   "metadata": {},
   "outputs": [],
   "source": [
    "data = data.drop(['id','country','diagnosis_date','beginning_of_treatment_date','treatment_type','end_treatment_date','survived'],axis=1)"
   ]
  },
  {
   "cell_type": "code",
   "execution_count": 44,
   "metadata": {},
   "outputs": [],
   "source": [
    "from sklearn.compose import ColumnTransformer\n",
    "from sklearn.pipeline import Pipeline"
   ]
  },
  {
   "cell_type": "code",
   "execution_count": 45,
   "metadata": {},
   "outputs": [],
   "source": [
    "scaler = StandardScaler()\n",
    "ohe = OneHotEncoder(handle_unknown='ignore')\n",
    "\n",
    "preprocessor = ColumnTransformer(\n",
    "    transformers=[\n",
    "        ('num', scaler, numerical_cols),\n",
    "        ('cat', ohe, categorical_cols)\n",
    "    ]\n",
    ")\n"
   ]
  },
  {
   "cell_type": "code",
   "execution_count": 46,
   "metadata": {},
   "outputs": [],
   "source": [
    "wcss = []\n",
    "for i in range(1, 15):\n",
    "    kmeans = KMeans(n_clusters=i, init='k-means++', random_state=42)\n",
    "    pipeline = Pipeline(steps=[('preprocessor', preprocessor), ('kmeans', kmeans)])\n",
    "    pipeline.fit(data)\n",
    "    wcss.append(kmeans.inertia_)"
   ]
  },
  {
   "cell_type": "code",
   "execution_count": 47,
   "metadata": {},
   "outputs": [
    {
     "data": {
      "image/png": "[encoded data removed]",
      "text/plain": [
       "<Figure size 640x480 with 1 Axes>"
      ]
     },
     "metadata": {},
     "output_type": "display_data"
    }
   ],
   "source": [
    "plt.plot(range(1, 15), wcss, marker='o')\n",
    "plt.xticks(range(1, 15))\n",
    "plt.xlabel('Number of Clusters')\n",
    "plt.ylabel('WCSS')\n",
    "plt.show()\n",
    "\n"
   ]
  },
  {
   "cell_type": "code",
   "execution_count": 48,
   "metadata": {},
   "outputs": [
    {
     "name": "stdout",
     "output_type": "stream",
     "text": [
      "The optimal number of clusters is: 7\n"
     ]
    }
   ],
   "source": [
    "kl = KneeLocator(range(1, 15), wcss, curve='convex', direction='decreasing')\n",
    "optimal_k = kl.elbow\n",
    "print(f\"The optimal number of clusters is: {optimal_k}\")"
   ]
  },
  {
   "cell_type": "code",
   "execution_count": 49,
   "metadata": {},
   "outputs": [],
   "source": [
    "kmeans_pipeline = Pipeline(steps=[\n",
    "    ('preprocessor', preprocessor),\n",
    "    ('kmeans', KMeans(n_clusters=7, random_state=42))\n",
    "])\n",
    "\n",
    "kmeans_pipeline.fit(data)\n",
    "\n",
    "dataset['Cluster'] = kmeans_pipeline.predict(data)\n"
   ]
  },
  {
   "cell_type": "code",
   "execution_count": 50,
   "metadata": {},
   "outputs": [
    {
     "data": {
      "text/plain": [
       "treatment_type\n",
       "Surgery         813480\n",
       "Chemotherapy    812702\n",
       "Radiation       812263\n",
       "Combined        811555\n",
       "Name: count, dtype: int64"
      ]
     },
     "execution_count": 50,
     "metadata": {},
     "output_type": "execute_result"
    }
   ],
   "source": [
    "dataset['treatment_type'].value_counts()"
   ]
  },
  {
   "cell_type": "code",
   "execution_count": 51,
   "metadata": {},
   "outputs": [
    {
     "data": {
      "text/plain": [
       "Cluster\n",
       "2    635254\n",
       "4    563741\n",
       "1    515608\n",
       "0    435000\n",
       "3    429040\n",
       "6    385268\n",
       "5    286089\n",
       "Name: count, dtype: int64"
      ]
     },
     "execution_count": 51,
     "metadata": {},
     "output_type": "execute_result"
    }
   ],
   "source": [
    "dataset['Cluster'].value_counts()"
   ]
  },
  {
   "cell_type": "code",
   "execution_count": 52,
   "metadata": {},
   "outputs": [
    {
     "name": "stdout",
     "output_type": "stream",
     "text": [
      "Cluster  treatment_type\n",
      "0        Surgery           109014\n",
      "         Chemotherapy      108779\n",
      "         Radiation         108634\n",
      "         Combined          108573\n",
      "1        Surgery           129501\n",
      "         Combined          129046\n",
      "         Radiation         128549\n",
      "         Chemotherapy      128512\n",
      "2        Chemotherapy      159103\n",
      "         Radiation         158812\n",
      "         Combined          158734\n",
      "         Surgery           158605\n",
      "3        Chemotherapy      107449\n",
      "         Surgery           107413\n",
      "         Radiation         107396\n",
      "         Combined          106782\n",
      "4        Chemotherapy      141215\n",
      "         Radiation         141128\n",
      "         Surgery           140794\n",
      "         Combined          140604\n",
      "5        Chemotherapy       71668\n",
      "         Surgery            71505\n",
      "         Radiation          71493\n",
      "         Combined           71423\n",
      "6        Surgery            96648\n",
      "         Combined           96393\n",
      "         Radiation          96251\n",
      "         Chemotherapy       95976\n",
      "Name: count, dtype: int64\n"
     ]
    }
   ],
   "source": [
    "cluster_summary = dataset.groupby('Cluster')['treatment_type'].value_counts()\n",
    "print(cluster_summary)\n"
   ]
  },
  {
   "cell_type": "code",
   "execution_count": 53,
   "metadata": {},
   "outputs": [
    {
     "name": "stdout",
     "output_type": "stream",
     "text": [
      "treatment_type  Chemotherapy  Combined  Radiation  Surgery\n",
      "Cluster                                                   \n",
      "0                     108779    108573     108634   109014\n",
      "1                     128512    129046     128549   129501\n",
      "2                     159103    158734     158812   158605\n",
      "3                     107449    106782     107396   107413\n",
      "4                     141215    140604     141128   140794\n",
      "5                      71668     71423      71493    71505\n",
      "6                      95976     96393      96251    96648\n"
     ]
    }
   ],
   "source": [
    "treatment_by_cluster = dataset.groupby(['Cluster', 'treatment_type']).size().unstack()\n",
    "print(treatment_by_cluster)"
   ]
  },
  {
   "cell_type": "code",
   "execution_count": null,
   "metadata": {},
   "outputs": [],
   "source": []
  },
  {
   "cell_type": "code",
   "execution_count": 54,
   "metadata": {},
   "outputs": [
    {
     "name": "stdout",
     "output_type": "stream",
     "text": [
      "Recommended Treatment: Surgery\n"
     ]
    }
   ],
   "source": [
    "\n",
    "def get_user_input():\n",
    "    age = int(input(\"Enter age: \"))\n",
    "    gender = input(\"Enter gender (Male/Female): \")\n",
    "    cancer_stage = input(\"Enter cancer stage (e.g., Stage I, Stage II, Stage III, Stage IV): \")\n",
    "    family_history = input(\"Is there a family history of cancer? (Yes/No): \")\n",
    "    smoking_status = input(\"Enter smoking status (e.g., Never Smoker, Former Smoker, Current Smoker): \")\n",
    "    bmi = float(input(\"Enter BMI: \"))\n",
    "    cholesterol_level = float(input(\"Enter cholesterol level: \"))\n",
    "    hypertension = int(input(\"Enter hypertension status (1 for Yes, 0 for No): \"))\n",
    "    asthma = int(input(\"Enter asthma status (1 for Yes, 0 for No): \"))\n",
    "    cirrhosis = int(input(\"Enter cirrhosis status (1 for Yes, 0 for No): \"))\n",
    "    other_cancer = int(input(\"Enter other cancer status (1 for Yes, 0 for No): \"))\n",
    "\n",
    "    return pd.DataFrame({\n",
    "        'age': [age],\n",
    "        'gender': [gender],\n",
    "        'cancer_stage': [cancer_stage],\n",
    "        'family_history': [family_history],\n",
    "        'smoking_status': [smoking_status],\n",
    "        'bmi': [bmi],\n",
    "        'cholesterol_level': [cholesterol_level],\n",
    "        'hypertension': [hypertension],\n",
    "        'asthma': [asthma],\n",
    "        'cirrhosis': [cirrhosis],\n",
    "        'other_cancer': [other_cancer]\n",
    "    })\n",
    "\n",
    "manual_data = get_user_input()\n",
    "\n",
    "\n",
    "cluster = kmeans_pipeline.predict(manual_data)\n",
    "\n",
    "recommended_treatment = dataset[dataset['Cluster'] == cluster[0]]['treatment_type'].mode()[0]\n",
    "print(f\"Recommended Treatment: {recommended_treatment}\")\n"
   ]
  },
  {
   "cell_type": "code",
   "execution_count": null,
   "metadata": {},
   "outputs": [],
   "source": []
  },
  {
   "cell_type": "markdown",
   "metadata": {},
   "source": [
    "k-mens based on dieseas"
   ]
  },
  {
   "cell_type": "code",
   "execution_count": 55,
   "metadata": {},
   "outputs": [],
   "source": [
    "dataset = pd.read_csv('lung_cancer_mortality_data_large_v2.csv')"
   ]
  },
  {
   "cell_type": "code",
   "execution_count": 56,
   "metadata": {},
   "outputs": [
    {
     "data": {
      "text/html": [
       "<div>\n",
       "<style scoped>\n",
       "    .dataframe tbody tr th:only-of-type {\n",
       "        vertical-align: middle;\n",
       "    }\n",
       "\n",
       "    .dataframe tbody tr th {\n",
       "        vertical-align: top;\n",
       "    }\n",
       "\n",
       "    .dataframe thead th {\n",
       "        text-align: right;\n",
       "    }\n",
       "</style>\n",
       "<table border=\"1\" class=\"dataframe\">\n",
       "  <thead>\n",
       "    <tr style=\"text-align: right;\">\n",
       "      <th></th>\n",
       "      <th>id</th>\n",
       "      <th>age</th>\n",
       "      <th>gender</th>\n",
       "      <th>country</th>\n",
       "      <th>diagnosis_date</th>\n",
       "      <th>cancer_stage</th>\n",
       "      <th>beginning_of_treatment_date</th>\n",
       "      <th>family_history</th>\n",
       "      <th>smoking_status</th>\n",
       "      <th>bmi</th>\n",
       "      <th>cholesterol_level</th>\n",
       "      <th>hypertension</th>\n",
       "      <th>asthma</th>\n",
       "      <th>cirrhosis</th>\n",
       "      <th>other_cancer</th>\n",
       "      <th>treatment_type</th>\n",
       "      <th>end_treatment_date</th>\n",
       "      <th>survived</th>\n",
       "    </tr>\n",
       "  </thead>\n",
       "  <tbody>\n",
       "    <tr>\n",
       "      <th>0</th>\n",
       "      <td>1</td>\n",
       "      <td>64.0</td>\n",
       "      <td>Female</td>\n",
       "      <td>Germany</td>\n",
       "      <td>2016-04-07</td>\n",
       "      <td>Stage III</td>\n",
       "      <td>2016-04-21</td>\n",
       "      <td>No</td>\n",
       "      <td>Never Smoked</td>\n",
       "      <td>31.1</td>\n",
       "      <td>257</td>\n",
       "      <td>1</td>\n",
       "      <td>1</td>\n",
       "      <td>0</td>\n",
       "      <td>0</td>\n",
       "      <td>Combined</td>\n",
       "      <td>2017-11-15</td>\n",
       "      <td>0</td>\n",
       "    </tr>\n",
       "    <tr>\n",
       "      <th>1</th>\n",
       "      <td>2</td>\n",
       "      <td>50.0</td>\n",
       "      <td>Male</td>\n",
       "      <td>Czech Republic</td>\n",
       "      <td>2023-04-22</td>\n",
       "      <td>Stage III</td>\n",
       "      <td>2023-05-02</td>\n",
       "      <td>Yes</td>\n",
       "      <td>Passive Smoker</td>\n",
       "      <td>25.9</td>\n",
       "      <td>208</td>\n",
       "      <td>1</td>\n",
       "      <td>0</td>\n",
       "      <td>0</td>\n",
       "      <td>0</td>\n",
       "      <td>Radiation</td>\n",
       "      <td>2024-04-25</td>\n",
       "      <td>0</td>\n",
       "    </tr>\n",
       "    <tr>\n",
       "      <th>2</th>\n",
       "      <td>3</td>\n",
       "      <td>65.0</td>\n",
       "      <td>Male</td>\n",
       "      <td>Romania</td>\n",
       "      <td>2023-04-07</td>\n",
       "      <td>Stage IV</td>\n",
       "      <td>2023-04-12</td>\n",
       "      <td>No</td>\n",
       "      <td>Never Smoked</td>\n",
       "      <td>18.9</td>\n",
       "      <td>193</td>\n",
       "      <td>0</td>\n",
       "      <td>0</td>\n",
       "      <td>0</td>\n",
       "      <td>0</td>\n",
       "      <td>Surgery</td>\n",
       "      <td>2025-03-11</td>\n",
       "      <td>0</td>\n",
       "    </tr>\n",
       "    <tr>\n",
       "      <th>3</th>\n",
       "      <td>4</td>\n",
       "      <td>51.0</td>\n",
       "      <td>Female</td>\n",
       "      <td>Latvia</td>\n",
       "      <td>2016-02-07</td>\n",
       "      <td>Stage III</td>\n",
       "      <td>2016-02-13</td>\n",
       "      <td>Yes</td>\n",
       "      <td>Former Smoker</td>\n",
       "      <td>34.6</td>\n",
       "      <td>249</td>\n",
       "      <td>1</td>\n",
       "      <td>1</td>\n",
       "      <td>1</td>\n",
       "      <td>0</td>\n",
       "      <td>Surgery</td>\n",
       "      <td>2017-04-14</td>\n",
       "      <td>1</td>\n",
       "    </tr>\n",
       "    <tr>\n",
       "      <th>4</th>\n",
       "      <td>5</td>\n",
       "      <td>37.0</td>\n",
       "      <td>Male</td>\n",
       "      <td>Greece</td>\n",
       "      <td>2023-12-01</td>\n",
       "      <td>Stage I</td>\n",
       "      <td>2023-12-03</td>\n",
       "      <td>Yes</td>\n",
       "      <td>Never Smoked</td>\n",
       "      <td>40.2</td>\n",
       "      <td>262</td>\n",
       "      <td>0</td>\n",
       "      <td>0</td>\n",
       "      <td>0</td>\n",
       "      <td>0</td>\n",
       "      <td>Chemotherapy</td>\n",
       "      <td>2024-09-20</td>\n",
       "      <td>0</td>\n",
       "    </tr>\n",
       "  </tbody>\n",
       "</table>\n",
       "</div>"
      ],
      "text/plain": [
       "   id   age  gender         country diagnosis_date cancer_stage  \\\n",
       "0   1  64.0  Female         Germany     2016-04-07    Stage III   \n",
       "1   2  50.0    Male  Czech Republic     2023-04-22    Stage III   \n",
       "2   3  65.0    Male         Romania     2023-04-07     Stage IV   \n",
       "3   4  51.0  Female          Latvia     2016-02-07    Stage III   \n",
       "4   5  37.0    Male          Greece     2023-12-01      Stage I   \n",
       "\n",
       "  beginning_of_treatment_date family_history  smoking_status   bmi  \\\n",
       "0                  2016-04-21             No    Never Smoked  31.1   \n",
       "1                  2023-05-02            Yes  Passive Smoker  25.9   \n",
       "2                  2023-04-12             No    Never Smoked  18.9   \n",
       "3                  2016-02-13            Yes   Former Smoker  34.6   \n",
       "4                  2023-12-03            Yes    Never Smoked  40.2   \n",
       "\n",
       "   cholesterol_level  hypertension  asthma  cirrhosis  other_cancer  \\\n",
       "0                257             1       1          0             0   \n",
       "1                208             1       0          0             0   \n",
       "2                193             0       0          0             0   \n",
       "3                249             1       1          1             0   \n",
       "4                262             0       0          0             0   \n",
       "\n",
       "  treatment_type end_treatment_date  survived  \n",
       "0       Combined         2017-11-15         0  \n",
       "1      Radiation         2024-04-25         0  \n",
       "2        Surgery         2025-03-11         0  \n",
       "3        Surgery         2017-04-14         1  \n",
       "4   Chemotherapy         2024-09-20         0  "
      ]
     },
     "execution_count": 56,
     "metadata": {},
     "output_type": "execute_result"
    }
   ],
   "source": [
    "dataset.head()"
   ]
  },
  {
   "cell_type": "code",
   "execution_count": 57,
   "metadata": {},
   "outputs": [],
   "source": [
    "data = dataset[['cancer_stage','bmi','cholesterol_level','hypertension','asthma','cirrhosis','other_cancer']]"
   ]
  },
  {
   "cell_type": "code",
   "execution_count": 58,
   "metadata": {},
   "outputs": [
    {
     "data": {
      "text/html": [
       "<div>\n",
       "<style scoped>\n",
       "    .dataframe tbody tr th:only-of-type {\n",
       "        vertical-align: middle;\n",
       "    }\n",
       "\n",
       "    .dataframe tbody tr th {\n",
       "        vertical-align: top;\n",
       "    }\n",
       "\n",
       "    .dataframe thead th {\n",
       "        text-align: right;\n",
       "    }\n",
       "</style>\n",
       "<table border=\"1\" class=\"dataframe\">\n",
       "  <thead>\n",
       "    <tr style=\"text-align: right;\">\n",
       "      <th></th>\n",
       "      <th>cancer_stage</th>\n",
       "      <th>bmi</th>\n",
       "      <th>cholesterol_level</th>\n",
       "      <th>hypertension</th>\n",
       "      <th>asthma</th>\n",
       "      <th>cirrhosis</th>\n",
       "      <th>other_cancer</th>\n",
       "    </tr>\n",
       "  </thead>\n",
       "  <tbody>\n",
       "    <tr>\n",
       "      <th>0</th>\n",
       "      <td>Stage III</td>\n",
       "      <td>31.1</td>\n",
       "      <td>257</td>\n",
       "      <td>1</td>\n",
       "      <td>1</td>\n",
       "      <td>0</td>\n",
       "      <td>0</td>\n",
       "    </tr>\n",
       "    <tr>\n",
       "      <th>1</th>\n",
       "      <td>Stage III</td>\n",
       "      <td>25.9</td>\n",
       "      <td>208</td>\n",
       "      <td>1</td>\n",
       "      <td>0</td>\n",
       "      <td>0</td>\n",
       "      <td>0</td>\n",
       "    </tr>\n",
       "    <tr>\n",
       "      <th>2</th>\n",
       "      <td>Stage IV</td>\n",
       "      <td>18.9</td>\n",
       "      <td>193</td>\n",
       "      <td>0</td>\n",
       "      <td>0</td>\n",
       "      <td>0</td>\n",
       "      <td>0</td>\n",
       "    </tr>\n",
       "    <tr>\n",
       "      <th>3</th>\n",
       "      <td>Stage III</td>\n",
       "      <td>34.6</td>\n",
       "      <td>249</td>\n",
       "      <td>1</td>\n",
       "      <td>1</td>\n",
       "      <td>1</td>\n",
       "      <td>0</td>\n",
       "    </tr>\n",
       "    <tr>\n",
       "      <th>4</th>\n",
       "      <td>Stage I</td>\n",
       "      <td>40.2</td>\n",
       "      <td>262</td>\n",
       "      <td>0</td>\n",
       "      <td>0</td>\n",
       "      <td>0</td>\n",
       "      <td>0</td>\n",
       "    </tr>\n",
       "  </tbody>\n",
       "</table>\n",
       "</div>"
      ],
      "text/plain": [
       "  cancer_stage   bmi  cholesterol_level  hypertension  asthma  cirrhosis  \\\n",
       "0    Stage III  31.1                257             1       1          0   \n",
       "1    Stage III  25.9                208             1       0          0   \n",
       "2     Stage IV  18.9                193             0       0          0   \n",
       "3    Stage III  34.6                249             1       1          1   \n",
       "4      Stage I  40.2                262             0       0          0   \n",
       "\n",
       "   other_cancer  \n",
       "0             0  \n",
       "1             0  \n",
       "2             0  \n",
       "3             0  \n",
       "4             0  "
      ]
     },
     "execution_count": 58,
     "metadata": {},
     "output_type": "execute_result"
    }
   ],
   "source": [
    "data.head()"
   ]
  },
  {
   "cell_type": "code",
   "execution_count": 59,
   "metadata": {},
   "outputs": [
    {
     "name": "stdout",
     "output_type": "stream",
     "text": [
      "<class 'pandas.core.frame.DataFrame'>\n",
      "RangeIndex: 3250000 entries, 0 to 3249999\n",
      "Data columns (total 7 columns):\n",
      " #   Column             Dtype  \n",
      "---  ------             -----  \n",
      " 0   cancer_stage       object \n",
      " 1   bmi                float64\n",
      " 2   cholesterol_level  int64  \n",
      " 3   hypertension       int64  \n",
      " 4   asthma             int64  \n",
      " 5   cirrhosis          int64  \n",
      " 6   other_cancer       int64  \n",
      "dtypes: float64(1), int64(5), object(1)\n",
      "memory usage: 173.6+ MB\n"
     ]
    }
   ],
   "source": [
    "data.info()"
   ]
  },
  {
   "cell_type": "code",
   "execution_count": 60,
   "metadata": {},
   "outputs": [
    {
     "name": "stdout",
     "output_type": "stream",
     "text": [
      "Index(['bmi', 'cholesterol_level', 'hypertension', 'asthma', 'cirrhosis',\n",
      "       'other_cancer'],\n",
      "      dtype='object')\n",
      "Index(['cancer_stage'], dtype='object')\n"
     ]
    }
   ],
   "source": [
    "# Identify numerical and categorical columns\n",
    "# train_data\n",
    "numerical_cols = data.select_dtypes(include=['float64', 'int64']).columns\n",
    "categorical_cols = data.select_dtypes(include=['object']).columns\n",
    "\n",
    "print(numerical_cols)\n",
    "print(categorical_cols)"
   ]
  },
  {
   "cell_type": "code",
   "execution_count": 61,
   "metadata": {},
   "outputs": [
    {
     "data": {
      "text/html": [
       "<div>\n",
       "<style scoped>\n",
       "    .dataframe tbody tr th:only-of-type {\n",
       "        vertical-align: middle;\n",
       "    }\n",
       "\n",
       "    .dataframe tbody tr th {\n",
       "        vertical-align: top;\n",
       "    }\n",
       "\n",
       "    .dataframe thead th {\n",
       "        text-align: right;\n",
       "    }\n",
       "</style>\n",
       "<table border=\"1\" class=\"dataframe\">\n",
       "  <thead>\n",
       "    <tr style=\"text-align: right;\">\n",
       "      <th></th>\n",
       "      <th>bmi</th>\n",
       "      <th>cholesterol_level</th>\n",
       "      <th>hypertension</th>\n",
       "      <th>asthma</th>\n",
       "      <th>cirrhosis</th>\n",
       "      <th>other_cancer</th>\n",
       "    </tr>\n",
       "  </thead>\n",
       "  <tbody>\n",
       "    <tr>\n",
       "      <th>0</th>\n",
       "      <td>31.1</td>\n",
       "      <td>257</td>\n",
       "      <td>1</td>\n",
       "      <td>1</td>\n",
       "      <td>0</td>\n",
       "      <td>0</td>\n",
       "    </tr>\n",
       "    <tr>\n",
       "      <th>1</th>\n",
       "      <td>25.9</td>\n",
       "      <td>208</td>\n",
       "      <td>1</td>\n",
       "      <td>0</td>\n",
       "      <td>0</td>\n",
       "      <td>0</td>\n",
       "    </tr>\n",
       "    <tr>\n",
       "      <th>2</th>\n",
       "      <td>18.9</td>\n",
       "      <td>193</td>\n",
       "      <td>0</td>\n",
       "      <td>0</td>\n",
       "      <td>0</td>\n",
       "      <td>0</td>\n",
       "    </tr>\n",
       "    <tr>\n",
       "      <th>3</th>\n",
       "      <td>34.6</td>\n",
       "      <td>249</td>\n",
       "      <td>1</td>\n",
       "      <td>1</td>\n",
       "      <td>1</td>\n",
       "      <td>0</td>\n",
       "    </tr>\n",
       "    <tr>\n",
       "      <th>4</th>\n",
       "      <td>40.2</td>\n",
       "      <td>262</td>\n",
       "      <td>0</td>\n",
       "      <td>0</td>\n",
       "      <td>0</td>\n",
       "      <td>0</td>\n",
       "    </tr>\n",
       "  </tbody>\n",
       "</table>\n",
       "</div>"
      ],
      "text/plain": [
       "    bmi  cholesterol_level  hypertension  asthma  cirrhosis  other_cancer\n",
       "0  31.1                257             1       1          0             0\n",
       "1  25.9                208             1       0          0             0\n",
       "2  18.9                193             0       0          0             0\n",
       "3  34.6                249             1       1          1             0\n",
       "4  40.2                262             0       0          0             0"
      ]
     },
     "execution_count": 61,
     "metadata": {},
     "output_type": "execute_result"
    }
   ],
   "source": [
    "data[numerical_cols].head()"
   ]
  },
  {
   "cell_type": "code",
   "execution_count": 62,
   "metadata": {},
   "outputs": [
    {
     "data": {
      "text/html": [
       "<div>\n",
       "<style scoped>\n",
       "    .dataframe tbody tr th:only-of-type {\n",
       "        vertical-align: middle;\n",
       "    }\n",
       "\n",
       "    .dataframe tbody tr th {\n",
       "        vertical-align: top;\n",
       "    }\n",
       "\n",
       "    .dataframe thead th {\n",
       "        text-align: right;\n",
       "    }\n",
       "</style>\n",
       "<table border=\"1\" class=\"dataframe\">\n",
       "  <thead>\n",
       "    <tr style=\"text-align: right;\">\n",
       "      <th></th>\n",
       "      <th>cancer_stage</th>\n",
       "    </tr>\n",
       "  </thead>\n",
       "  <tbody>\n",
       "    <tr>\n",
       "      <th>0</th>\n",
       "      <td>Stage III</td>\n",
       "    </tr>\n",
       "    <tr>\n",
       "      <th>1</th>\n",
       "      <td>Stage III</td>\n",
       "    </tr>\n",
       "    <tr>\n",
       "      <th>2</th>\n",
       "      <td>Stage IV</td>\n",
       "    </tr>\n",
       "    <tr>\n",
       "      <th>3</th>\n",
       "      <td>Stage III</td>\n",
       "    </tr>\n",
       "    <tr>\n",
       "      <th>4</th>\n",
       "      <td>Stage I</td>\n",
       "    </tr>\n",
       "  </tbody>\n",
       "</table>\n",
       "</div>"
      ],
      "text/plain": [
       "  cancer_stage\n",
       "0    Stage III\n",
       "1    Stage III\n",
       "2     Stage IV\n",
       "3    Stage III\n",
       "4      Stage I"
      ]
     },
     "execution_count": 62,
     "metadata": {},
     "output_type": "execute_result"
    }
   ],
   "source": [
    "data[categorical_cols].head()"
   ]
  },
  {
   "cell_type": "code",
   "execution_count": 63,
   "metadata": {},
   "outputs": [
    {
     "name": "stderr",
     "output_type": "stream",
     "text": [
      "C:\\Users\\Admin\\AppData\\Local\\Temp\\ipykernel_11788\\4239620335.py:2: SettingWithCopyWarning: \n",
      "A value is trying to be set on a copy of a slice from a DataFrame.\n",
      "Try using .loc[row_indexer,col_indexer] = value instead\n",
      "\n",
      "See the caveats in the documentation: https://pandas.pydata.org/pandas-docs/stable/user_guide/indexing.html#returning-a-view-versus-a-copy\n",
      "  data[numerical_cols] = scaler.fit_transform(data[numerical_cols])\n"
     ]
    }
   ],
   "source": [
    "scaler = StandardScaler()\n",
    "data[numerical_cols] = scaler.fit_transform(data[numerical_cols])\n",
    "\n"
   ]
  },
  {
   "cell_type": "code",
   "execution_count": 64,
   "metadata": {},
   "outputs": [
    {
     "name": "stderr",
     "output_type": "stream",
     "text": [
      "C:\\Users\\Admin\\AppData\\Local\\Temp\\ipykernel_11788\\1696601150.py:2: SettingWithCopyWarning: \n",
      "A value is trying to be set on a copy of a slice from a DataFrame.\n",
      "Try using .loc[row_indexer,col_indexer] = value instead\n",
      "\n",
      "See the caveats in the documentation: https://pandas.pydata.org/pandas-docs/stable/user_guide/indexing.html#returning-a-view-versus-a-copy\n",
      "  data[categorical_cols[0]] = le.fit_transform(data[categorical_cols[0]])\n"
     ]
    }
   ],
   "source": [
    "le = LabelEncoder()\n",
    "data[categorical_cols[0]] = le.fit_transform(data[categorical_cols[0]])\n"
   ]
  },
  {
   "cell_type": "code",
   "execution_count": 65,
   "metadata": {},
   "outputs": [
    {
     "data": {
      "text/html": [
       "<div>\n",
       "<style scoped>\n",
       "    .dataframe tbody tr th:only-of-type {\n",
       "        vertical-align: middle;\n",
       "    }\n",
       "\n",
       "    .dataframe tbody tr th {\n",
       "        vertical-align: top;\n",
       "    }\n",
       "\n",
       "    .dataframe thead th {\n",
       "        text-align: right;\n",
       "    }\n",
       "</style>\n",
       "<table border=\"1\" class=\"dataframe\">\n",
       "  <thead>\n",
       "    <tr style=\"text-align: right;\">\n",
       "      <th></th>\n",
       "      <th>cancer_stage</th>\n",
       "      <th>bmi</th>\n",
       "      <th>cholesterol_level</th>\n",
       "      <th>hypertension</th>\n",
       "      <th>asthma</th>\n",
       "      <th>cirrhosis</th>\n",
       "      <th>other_cancer</th>\n",
       "    </tr>\n",
       "  </thead>\n",
       "  <tbody>\n",
       "    <tr>\n",
       "      <th>0</th>\n",
       "      <td>2</td>\n",
       "      <td>0.072537</td>\n",
       "      <td>0.537704</td>\n",
       "      <td>0.577600</td>\n",
       "      <td>1.064628</td>\n",
       "      <td>-0.541261</td>\n",
       "      <td>-0.310683</td>\n",
       "    </tr>\n",
       "    <tr>\n",
       "      <th>1</th>\n",
       "      <td>2</td>\n",
       "      <td>-0.548619</td>\n",
       "      <td>-0.590068</td>\n",
       "      <td>0.577600</td>\n",
       "      <td>-0.939295</td>\n",
       "      <td>-0.541261</td>\n",
       "      <td>-0.310683</td>\n",
       "    </tr>\n",
       "    <tr>\n",
       "      <th>2</th>\n",
       "      <td>3</td>\n",
       "      <td>-1.384790</td>\n",
       "      <td>-0.935305</td>\n",
       "      <td>-1.731301</td>\n",
       "      <td>-0.939295</td>\n",
       "      <td>-0.541261</td>\n",
       "      <td>-0.310683</td>\n",
       "    </tr>\n",
       "    <tr>\n",
       "      <th>3</th>\n",
       "      <td>2</td>\n",
       "      <td>0.490622</td>\n",
       "      <td>0.353578</td>\n",
       "      <td>0.577600</td>\n",
       "      <td>1.064628</td>\n",
       "      <td>1.847537</td>\n",
       "      <td>-0.310683</td>\n",
       "    </tr>\n",
       "    <tr>\n",
       "      <th>4</th>\n",
       "      <td>0</td>\n",
       "      <td>1.159559</td>\n",
       "      <td>0.652782</td>\n",
       "      <td>-1.731301</td>\n",
       "      <td>-0.939295</td>\n",
       "      <td>-0.541261</td>\n",
       "      <td>-0.310683</td>\n",
       "    </tr>\n",
       "  </tbody>\n",
       "</table>\n",
       "</div>"
      ],
      "text/plain": [
       "   cancer_stage       bmi  cholesterol_level  hypertension    asthma  \\\n",
       "0             2  0.072537           0.537704      0.577600  1.064628   \n",
       "1             2 -0.548619          -0.590068      0.577600 -0.939295   \n",
       "2             3 -1.384790          -0.935305     -1.731301 -0.939295   \n",
       "3             2  0.490622           0.353578      0.577600  1.064628   \n",
       "4             0  1.159559           0.652782     -1.731301 -0.939295   \n",
       "\n",
       "   cirrhosis  other_cancer  \n",
       "0  -0.541261     -0.310683  \n",
       "1  -0.541261     -0.310683  \n",
       "2  -0.541261     -0.310683  \n",
       "3   1.847537     -0.310683  \n",
       "4  -0.541261     -0.310683  "
      ]
     },
     "execution_count": 65,
     "metadata": {},
     "output_type": "execute_result"
    }
   ],
   "source": [
    "data.head()"
   ]
  },
  {
   "cell_type": "code",
   "execution_count": 66,
   "metadata": {},
   "outputs": [],
   "source": [
    "# choosing the number of cluster\n",
    "# wcss = Within Clusters Sum of Squares\n",
    "wcss = []\n",
    "\n",
    "for i in range(1, 20):\n",
    "    kmeans = KMeans(n_clusters=i, init='k-means++', random_state=42)\n",
    "    kmeans.fit(data)\n",
    "    wcss.append(kmeans.inertia_)"
   ]
  },
  {
   "cell_type": "code",
   "execution_count": 67,
   "metadata": {},
   "outputs": [
    {
     "data": {
      "text/plain": [
       "Text(0, 0.5, 'WCSS')"
      ]
     },
     "execution_count": 67,
     "metadata": {},
     "output_type": "execute_result"
    },
    {
     "data": {
      "image/png": "[encoded data removed]",
      "text/plain": [
       "<Figure size 640x480 with 1 Axes>"
      ]
     },
     "metadata": {},
     "output_type": "display_data"
    }
   ],
   "source": [
    "# elbow graph\n",
    "plt.plot(range(1, 20), wcss, marker='o')\n",
    "plt.xticks(range(1,20))\n",
    "plt.xlabel('Number of Clusters')\n",
    "plt.ylabel('WCSS')"
   ]
  },
  {
   "cell_type": "code",
   "execution_count": 68,
   "metadata": {},
   "outputs": [
    {
     "data": {
      "text/plain": [
       "6"
      ]
     },
     "execution_count": 68,
     "metadata": {},
     "output_type": "execute_result"
    }
   ],
   "source": [
    "from kneed import KneeLocator\n",
    "kl = KneeLocator(range(1,20),wcss,curve='convex',direction='decreasing')\n",
    "kl.elbow"
   ]
  },
  {
   "cell_type": "code",
   "execution_count": 69,
   "metadata": {},
   "outputs": [],
   "source": [
    "kmeans = KMeans(n_clusters=6, random_state=42)\n",
    "dataset['Cluster'] = kmeans.fit_predict(data)"
   ]
  },
  {
   "cell_type": "code",
   "execution_count": 70,
   "metadata": {},
   "outputs": [
    {
     "data": {
      "text/html": [
       "<div>\n",
       "<style scoped>\n",
       "    .dataframe tbody tr th:only-of-type {\n",
       "        vertical-align: middle;\n",
       "    }\n",
       "\n",
       "    .dataframe tbody tr th {\n",
       "        vertical-align: top;\n",
       "    }\n",
       "\n",
       "    .dataframe thead th {\n",
       "        text-align: right;\n",
       "    }\n",
       "</style>\n",
       "<table border=\"1\" class=\"dataframe\">\n",
       "  <thead>\n",
       "    <tr style=\"text-align: right;\">\n",
       "      <th></th>\n",
       "      <th>id</th>\n",
       "      <th>age</th>\n",
       "      <th>gender</th>\n",
       "      <th>country</th>\n",
       "      <th>diagnosis_date</th>\n",
       "      <th>cancer_stage</th>\n",
       "      <th>beginning_of_treatment_date</th>\n",
       "      <th>family_history</th>\n",
       "      <th>smoking_status</th>\n",
       "      <th>bmi</th>\n",
       "      <th>cholesterol_level</th>\n",
       "      <th>hypertension</th>\n",
       "      <th>asthma</th>\n",
       "      <th>cirrhosis</th>\n",
       "      <th>other_cancer</th>\n",
       "      <th>treatment_type</th>\n",
       "      <th>end_treatment_date</th>\n",
       "      <th>survived</th>\n",
       "      <th>Cluster</th>\n",
       "    </tr>\n",
       "  </thead>\n",
       "  <tbody>\n",
       "    <tr>\n",
       "      <th>0</th>\n",
       "      <td>1</td>\n",
       "      <td>64.0</td>\n",
       "      <td>Female</td>\n",
       "      <td>Germany</td>\n",
       "      <td>2016-04-07</td>\n",
       "      <td>Stage III</td>\n",
       "      <td>2016-04-21</td>\n",
       "      <td>No</td>\n",
       "      <td>Never Smoked</td>\n",
       "      <td>31.1</td>\n",
       "      <td>257</td>\n",
       "      <td>1</td>\n",
       "      <td>1</td>\n",
       "      <td>0</td>\n",
       "      <td>0</td>\n",
       "      <td>Combined</td>\n",
       "      <td>2017-11-15</td>\n",
       "      <td>0</td>\n",
       "      <td>0</td>\n",
       "    </tr>\n",
       "    <tr>\n",
       "      <th>1</th>\n",
       "      <td>2</td>\n",
       "      <td>50.0</td>\n",
       "      <td>Male</td>\n",
       "      <td>Czech Republic</td>\n",
       "      <td>2023-04-22</td>\n",
       "      <td>Stage III</td>\n",
       "      <td>2023-05-02</td>\n",
       "      <td>Yes</td>\n",
       "      <td>Passive Smoker</td>\n",
       "      <td>25.9</td>\n",
       "      <td>208</td>\n",
       "      <td>1</td>\n",
       "      <td>0</td>\n",
       "      <td>0</td>\n",
       "      <td>0</td>\n",
       "      <td>Radiation</td>\n",
       "      <td>2024-04-25</td>\n",
       "      <td>0</td>\n",
       "      <td>1</td>\n",
       "    </tr>\n",
       "    <tr>\n",
       "      <th>2</th>\n",
       "      <td>3</td>\n",
       "      <td>65.0</td>\n",
       "      <td>Male</td>\n",
       "      <td>Romania</td>\n",
       "      <td>2023-04-07</td>\n",
       "      <td>Stage IV</td>\n",
       "      <td>2023-04-12</td>\n",
       "      <td>No</td>\n",
       "      <td>Never Smoked</td>\n",
       "      <td>18.9</td>\n",
       "      <td>193</td>\n",
       "      <td>0</td>\n",
       "      <td>0</td>\n",
       "      <td>0</td>\n",
       "      <td>0</td>\n",
       "      <td>Surgery</td>\n",
       "      <td>2025-03-11</td>\n",
       "      <td>0</td>\n",
       "      <td>5</td>\n",
       "    </tr>\n",
       "    <tr>\n",
       "      <th>3</th>\n",
       "      <td>4</td>\n",
       "      <td>51.0</td>\n",
       "      <td>Female</td>\n",
       "      <td>Latvia</td>\n",
       "      <td>2016-02-07</td>\n",
       "      <td>Stage III</td>\n",
       "      <td>2016-02-13</td>\n",
       "      <td>Yes</td>\n",
       "      <td>Former Smoker</td>\n",
       "      <td>34.6</td>\n",
       "      <td>249</td>\n",
       "      <td>1</td>\n",
       "      <td>1</td>\n",
       "      <td>1</td>\n",
       "      <td>0</td>\n",
       "      <td>Surgery</td>\n",
       "      <td>2017-04-14</td>\n",
       "      <td>1</td>\n",
       "      <td>2</td>\n",
       "    </tr>\n",
       "    <tr>\n",
       "      <th>4</th>\n",
       "      <td>5</td>\n",
       "      <td>37.0</td>\n",
       "      <td>Male</td>\n",
       "      <td>Greece</td>\n",
       "      <td>2023-12-01</td>\n",
       "      <td>Stage I</td>\n",
       "      <td>2023-12-03</td>\n",
       "      <td>Yes</td>\n",
       "      <td>Never Smoked</td>\n",
       "      <td>40.2</td>\n",
       "      <td>262</td>\n",
       "      <td>0</td>\n",
       "      <td>0</td>\n",
       "      <td>0</td>\n",
       "      <td>0</td>\n",
       "      <td>Chemotherapy</td>\n",
       "      <td>2024-09-20</td>\n",
       "      <td>0</td>\n",
       "      <td>5</td>\n",
       "    </tr>\n",
       "  </tbody>\n",
       "</table>\n",
       "</div>"
      ],
      "text/plain": [
       "   id   age  gender         country diagnosis_date cancer_stage  \\\n",
       "0   1  64.0  Female         Germany     2016-04-07    Stage III   \n",
       "1   2  50.0    Male  Czech Republic     2023-04-22    Stage III   \n",
       "2   3  65.0    Male         Romania     2023-04-07     Stage IV   \n",
       "3   4  51.0  Female          Latvia     2016-02-07    Stage III   \n",
       "4   5  37.0    Male          Greece     2023-12-01      Stage I   \n",
       "\n",
       "  beginning_of_treatment_date family_history  smoking_status   bmi  \\\n",
       "0                  2016-04-21             No    Never Smoked  31.1   \n",
       "1                  2023-05-02            Yes  Passive Smoker  25.9   \n",
       "2                  2023-04-12             No    Never Smoked  18.9   \n",
       "3                  2016-02-13            Yes   Former Smoker  34.6   \n",
       "4                  2023-12-03            Yes    Never Smoked  40.2   \n",
       "\n",
       "   cholesterol_level  hypertension  asthma  cirrhosis  other_cancer  \\\n",
       "0                257             1       1          0             0   \n",
       "1                208             1       0          0             0   \n",
       "2                193             0       0          0             0   \n",
       "3                249             1       1          1             0   \n",
       "4                262             0       0          0             0   \n",
       "\n",
       "  treatment_type end_treatment_date  survived  Cluster  \n",
       "0       Combined         2017-11-15         0        0  \n",
       "1      Radiation         2024-04-25         0        1  \n",
       "2        Surgery         2025-03-11         0        5  \n",
       "3        Surgery         2017-04-14         1        2  \n",
       "4   Chemotherapy         2024-09-20         0        5  "
      ]
     },
     "execution_count": 70,
     "metadata": {},
     "output_type": "execute_result"
    }
   ],
   "source": [
    "dataset.head()"
   ]
  },
  {
   "cell_type": "code",
   "execution_count": 71,
   "metadata": {},
   "outputs": [
    {
     "name": "stdout",
     "output_type": "stream",
     "text": [
      "Cluster  treatment_type\n",
      "0        Surgery           212077\n",
      "         Chemotherapy      211855\n",
      "         Radiation         211682\n",
      "         Combined          210910\n",
      "1        Surgery           103158\n",
      "         Combined          103127\n",
      "         Chemotherapy      102434\n",
      "         Radiation         102281\n",
      "2        Surgery           164873\n",
      "         Radiation         164820\n",
      "         Chemotherapy      164607\n",
      "         Combined          164557\n",
      "3        Surgery           112887\n",
      "         Radiation         112829\n",
      "         Chemotherapy      112783\n",
      "         Combined          112365\n",
      "4        Chemotherapy       71668\n",
      "         Surgery            71505\n",
      "         Radiation          71493\n",
      "         Combined           71423\n",
      "5        Chemotherapy      149355\n",
      "         Combined          149173\n",
      "         Radiation         149158\n",
      "         Surgery           148980\n",
      "Name: count, dtype: int64\n"
     ]
    }
   ],
   "source": [
    "cluster_summary = dataset.groupby('Cluster')['treatment_type'].value_counts()\n",
    "print(cluster_summary)\n"
   ]
  },
  {
   "cell_type": "code",
   "execution_count": 72,
   "metadata": {},
   "outputs": [
    {
     "data": {
      "text/html": [
       "<div>\n",
       "<style scoped>\n",
       "    .dataframe tbody tr th:only-of-type {\n",
       "        vertical-align: middle;\n",
       "    }\n",
       "\n",
       "    .dataframe tbody tr th {\n",
       "        vertical-align: top;\n",
       "    }\n",
       "\n",
       "    .dataframe thead th {\n",
       "        text-align: right;\n",
       "    }\n",
       "</style>\n",
       "<table border=\"1\" class=\"dataframe\">\n",
       "  <thead>\n",
       "    <tr style=\"text-align: right;\">\n",
       "      <th></th>\n",
       "      <th>cancer_stage</th>\n",
       "      <th>bmi</th>\n",
       "      <th>cholesterol_level</th>\n",
       "      <th>hypertension</th>\n",
       "      <th>asthma</th>\n",
       "      <th>cirrhosis</th>\n",
       "      <th>other_cancer</th>\n",
       "    </tr>\n",
       "  </thead>\n",
       "  <tbody>\n",
       "    <tr>\n",
       "      <th>0</th>\n",
       "      <td>2</td>\n",
       "      <td>0.072537</td>\n",
       "      <td>0.537704</td>\n",
       "      <td>0.577600</td>\n",
       "      <td>1.064628</td>\n",
       "      <td>-0.541261</td>\n",
       "      <td>-0.310683</td>\n",
       "    </tr>\n",
       "    <tr>\n",
       "      <th>1</th>\n",
       "      <td>2</td>\n",
       "      <td>-0.548619</td>\n",
       "      <td>-0.590068</td>\n",
       "      <td>0.577600</td>\n",
       "      <td>-0.939295</td>\n",
       "      <td>-0.541261</td>\n",
       "      <td>-0.310683</td>\n",
       "    </tr>\n",
       "    <tr>\n",
       "      <th>2</th>\n",
       "      <td>3</td>\n",
       "      <td>-1.384790</td>\n",
       "      <td>-0.935305</td>\n",
       "      <td>-1.731301</td>\n",
       "      <td>-0.939295</td>\n",
       "      <td>-0.541261</td>\n",
       "      <td>-0.310683</td>\n",
       "    </tr>\n",
       "    <tr>\n",
       "      <th>3</th>\n",
       "      <td>2</td>\n",
       "      <td>0.490622</td>\n",
       "      <td>0.353578</td>\n",
       "      <td>0.577600</td>\n",
       "      <td>1.064628</td>\n",
       "      <td>1.847537</td>\n",
       "      <td>-0.310683</td>\n",
       "    </tr>\n",
       "    <tr>\n",
       "      <th>4</th>\n",
       "      <td>0</td>\n",
       "      <td>1.159559</td>\n",
       "      <td>0.652782</td>\n",
       "      <td>-1.731301</td>\n",
       "      <td>-0.939295</td>\n",
       "      <td>-0.541261</td>\n",
       "      <td>-0.310683</td>\n",
       "    </tr>\n",
       "  </tbody>\n",
       "</table>\n",
       "</div>"
      ],
      "text/plain": [
       "   cancer_stage       bmi  cholesterol_level  hypertension    asthma  \\\n",
       "0             2  0.072537           0.537704      0.577600  1.064628   \n",
       "1             2 -0.548619          -0.590068      0.577600 -0.939295   \n",
       "2             3 -1.384790          -0.935305     -1.731301 -0.939295   \n",
       "3             2  0.490622           0.353578      0.577600  1.064628   \n",
       "4             0  1.159559           0.652782     -1.731301 -0.939295   \n",
       "\n",
       "   cirrhosis  other_cancer  \n",
       "0  -0.541261     -0.310683  \n",
       "1  -0.541261     -0.310683  \n",
       "2  -0.541261     -0.310683  \n",
       "3   1.847537     -0.310683  \n",
       "4  -0.541261     -0.310683  "
      ]
     },
     "execution_count": 72,
     "metadata": {},
     "output_type": "execute_result"
    }
   ],
   "source": [
    "data.head()"
   ]
  },
  {
   "cell_type": "code",
   "execution_count": 73,
   "metadata": {},
   "outputs": [
    {
     "name": "stdout",
     "output_type": "stream",
     "text": [
      "Recommended Treatment: Chemotherapy\n"
     ]
    }
   ],
   "source": [
    "def get_user_input():\n",
    "    cancer_stage = input(\"Enter cancer stage (e.g., Stage I, Stage II, Stage III, Stage IV): \")\n",
    "    bmi = float(input(\"Enter BMI: \"))\n",
    "    cholesterol_level = float(input(\"Enter cholesterol level: \"))\n",
    "    hypertension = int(input(\"Enter hypertension status (1 for Yes, 0 for No): \"))\n",
    "    asthma = int(input(\"Enter asthma status (1 for Yes, 0 for No): \"))\n",
    "    cirrhosis = int(input(\"Enter cirrhosis status (1 for Yes, 0 for No): \"))\n",
    "    other_cancer = int(input(\"Enter other cancer status (1 for Yes, 0 for No): \"))\n",
    "\n",
    "    return pd.DataFrame({\n",
    "        'cancer_stage': [cancer_stage],\n",
    "        'bmi': [bmi],\n",
    "        'cholesterol_level': [cholesterol_level],\n",
    "        'hypertension': [hypertension],\n",
    "        'asthma': [asthma],\n",
    "        'cirrhosis': [cirrhosis],\n",
    "        'other_cancer': [other_cancer]\n",
    "    })\n",
    "\n",
    "manual_data = get_user_input()\n",
    "# print(manual_data.head())\n",
    "\n",
    "manual_data[numerical_cols] = scaler.transform(manual_data[numerical_cols])\n",
    "manual_data[categorical_cols[0]] = le.transform(manual_data[categorical_cols[0]])\n",
    "\n",
    "\n",
    "predicted_cluster = kmeans.predict(manual_data)\n",
    "\n",
    "recommended_treatment = dataset[dataset['Cluster'] == predicted_cluster[0]]['treatment_type'].mode()[0]\n",
    "print(f\"Recommended Treatment: {recommended_treatment}\")\n"
   ]
  },
  {
   "cell_type": "code",
   "execution_count": null,
   "metadata": {},
   "outputs": [],
   "source": []
  }
 ],
 "metadata": {
  "kernelspec": {
   "display_name": ".venv",
   "language": "python",
   "name": "python3"
  },
  "language_info": {
   "codemirror_mode": {
    "name": "ipython",
    "version": 3
   },
   "file_extension": ".py",
   "mimetype": "text/x-python",
   "name": "python",
   "nbconvert_exporter": "python",
   "pygments_lexer": "ipython3",
   "version": "3.12.2"
  }
 },
 "nbformat": 4,
 "nbformat_minor": 2
}
