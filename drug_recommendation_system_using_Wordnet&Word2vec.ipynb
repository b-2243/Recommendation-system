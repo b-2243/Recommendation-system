{
 "cells": [
  {
   "cell_type": "code",
   "execution_count": 1,
   "metadata": {},
   "outputs": [],
   "source": [
    "import pandas as pd\n",
    "import numpy as np\n",
    "import seaborn as sns\n",
    "import matplotlib.pyplot as plt\n",
    "from sklearn.feature_extraction.text import TfidfVectorizer\n",
    "from scipy.sparse import hstack\n",
    "from sklearn.cluster import KMeans\n"
   ]
  },
  {
   "cell_type": "code",
   "execution_count": 2,
   "metadata": {},
   "outputs": [],
   "source": [
    "data = pd.read_csv('drugsComTrain_raw.csv')"
   ]
  },
  {
   "cell_type": "code",
   "execution_count": 3,
   "metadata": {},
   "outputs": [
    {
     "data": {
      "text/html": [
       "<div>\n",
       "<style scoped>\n",
       "    .dataframe tbody tr th:only-of-type {\n",
       "        vertical-align: middle;\n",
       "    }\n",
       "\n",
       "    .dataframe tbody tr th {\n",
       "        vertical-align: top;\n",
       "    }\n",
       "\n",
       "    .dataframe thead th {\n",
       "        text-align: right;\n",
       "    }\n",
       "</style>\n",
       "<table border=\"1\" class=\"dataframe\">\n",
       "  <thead>\n",
       "    <tr style=\"text-align: right;\">\n",
       "      <th></th>\n",
       "      <th>uniqueID</th>\n",
       "      <th>drugName</th>\n",
       "      <th>condition</th>\n",
       "      <th>review</th>\n",
       "      <th>rating</th>\n",
       "      <th>date</th>\n",
       "      <th>usefulCount</th>\n",
       "    </tr>\n",
       "  </thead>\n",
       "  <tbody>\n",
       "    <tr>\n",
       "      <th>0</th>\n",
       "      <td>206461</td>\n",
       "      <td>Valsartan</td>\n",
       "      <td>Left Ventricular Dysfunction</td>\n",
       "      <td>\"It has no side effect, I take it in combinati...</td>\n",
       "      <td>9</td>\n",
       "      <td>20-May-12</td>\n",
       "      <td>27</td>\n",
       "    </tr>\n",
       "    <tr>\n",
       "      <th>1</th>\n",
       "      <td>95260</td>\n",
       "      <td>Guanfacine</td>\n",
       "      <td>ADHD</td>\n",
       "      <td>\"My son is halfway through his fourth week of ...</td>\n",
       "      <td>8</td>\n",
       "      <td>27-Apr-10</td>\n",
       "      <td>192</td>\n",
       "    </tr>\n",
       "    <tr>\n",
       "      <th>2</th>\n",
       "      <td>92703</td>\n",
       "      <td>Lybrel</td>\n",
       "      <td>Birth Control</td>\n",
       "      <td>\"I used to take another oral contraceptive, wh...</td>\n",
       "      <td>5</td>\n",
       "      <td>14-Dec-09</td>\n",
       "      <td>17</td>\n",
       "    </tr>\n",
       "    <tr>\n",
       "      <th>3</th>\n",
       "      <td>138000</td>\n",
       "      <td>Ortho Evra</td>\n",
       "      <td>Birth Control</td>\n",
       "      <td>\"This is my first time using any form of birth...</td>\n",
       "      <td>8</td>\n",
       "      <td>3-Nov-15</td>\n",
       "      <td>10</td>\n",
       "    </tr>\n",
       "    <tr>\n",
       "      <th>4</th>\n",
       "      <td>35696</td>\n",
       "      <td>Buprenorphine / naloxone</td>\n",
       "      <td>Opiate Dependence</td>\n",
       "      <td>\"Suboxone has completely turned my life around...</td>\n",
       "      <td>9</td>\n",
       "      <td>27-Nov-16</td>\n",
       "      <td>37</td>\n",
       "    </tr>\n",
       "  </tbody>\n",
       "</table>\n",
       "</div>"
      ],
      "text/plain": [
       "   uniqueID                  drugName                     condition  \\\n",
       "0    206461                 Valsartan  Left Ventricular Dysfunction   \n",
       "1     95260                Guanfacine                          ADHD   \n",
       "2     92703                    Lybrel                 Birth Control   \n",
       "3    138000                Ortho Evra                 Birth Control   \n",
       "4     35696  Buprenorphine / naloxone             Opiate Dependence   \n",
       "\n",
       "                                              review  rating       date  \\\n",
       "0  \"It has no side effect, I take it in combinati...       9  20-May-12   \n",
       "1  \"My son is halfway through his fourth week of ...       8  27-Apr-10   \n",
       "2  \"I used to take another oral contraceptive, wh...       5  14-Dec-09   \n",
       "3  \"This is my first time using any form of birth...       8   3-Nov-15   \n",
       "4  \"Suboxone has completely turned my life around...       9  27-Nov-16   \n",
       "\n",
       "   usefulCount  \n",
       "0           27  \n",
       "1          192  \n",
       "2           17  \n",
       "3           10  \n",
       "4           37  "
      ]
     },
     "execution_count": 3,
     "metadata": {},
     "output_type": "execute_result"
    }
   ],
   "source": [
    "data.head()"
   ]
  },
  {
   "cell_type": "code",
   "execution_count": 4,
   "metadata": {},
   "outputs": [
    {
     "data": {
      "text/plain": [
       "(161297, 7)"
      ]
     },
     "execution_count": 4,
     "metadata": {},
     "output_type": "execute_result"
    }
   ],
   "source": [
    "data.shape"
   ]
  },
  {
   "cell_type": "code",
   "execution_count": 5,
   "metadata": {},
   "outputs": [
    {
     "name": "stdout",
     "output_type": "stream",
     "text": [
      "<class 'pandas.core.frame.DataFrame'>\n",
      "RangeIndex: 161297 entries, 0 to 161296\n",
      "Data columns (total 7 columns):\n",
      " #   Column       Non-Null Count   Dtype \n",
      "---  ------       --------------   ----- \n",
      " 0   uniqueID     161297 non-null  int64 \n",
      " 1   drugName     161297 non-null  object\n",
      " 2   condition    160398 non-null  object\n",
      " 3   review       161297 non-null  object\n",
      " 4   rating       161297 non-null  int64 \n",
      " 5   date         161297 non-null  object\n",
      " 6   usefulCount  161297 non-null  int64 \n",
      "dtypes: int64(3), object(4)\n",
      "memory usage: 8.6+ MB\n"
     ]
    }
   ],
   "source": [
    "data.info()"
   ]
  },
  {
   "cell_type": "code",
   "execution_count": 6,
   "metadata": {},
   "outputs": [
    {
     "data": {
      "text/plain": [
       "0"
      ]
     },
     "execution_count": 6,
     "metadata": {},
     "output_type": "execute_result"
    }
   ],
   "source": [
    "data.duplicated().sum()"
   ]
  },
  {
   "cell_type": "code",
   "execution_count": 7,
   "metadata": {},
   "outputs": [
    {
     "data": {
      "text/plain": [
       "uniqueID         0\n",
       "drugName         0\n",
       "condition      899\n",
       "review           0\n",
       "rating           0\n",
       "date             0\n",
       "usefulCount      0\n",
       "dtype: int64"
      ]
     },
     "execution_count": 7,
     "metadata": {},
     "output_type": "execute_result"
    }
   ],
   "source": [
    "data.isnull().sum()"
   ]
  },
  {
   "cell_type": "code",
   "execution_count": 8,
   "metadata": {},
   "outputs": [],
   "source": [
    "data = data.dropna()"
   ]
  },
  {
   "cell_type": "code",
   "execution_count": 9,
   "metadata": {},
   "outputs": [
    {
     "data": {
      "text/plain": [
       "uniqueID       0\n",
       "drugName       0\n",
       "condition      0\n",
       "review         0\n",
       "rating         0\n",
       "date           0\n",
       "usefulCount    0\n",
       "dtype: int64"
      ]
     },
     "execution_count": 9,
     "metadata": {},
     "output_type": "execute_result"
    }
   ],
   "source": [
    "data.isnull().sum()"
   ]
  },
  {
   "cell_type": "code",
   "execution_count": 10,
   "metadata": {},
   "outputs": [],
   "source": [
    "import re\n",
    "from nltk.corpus import stopwords\n",
    "from nltk.tokenize import word_tokenize\n",
    "\n",
    "# Clean the reviews\n",
    "stop_words = set(stopwords.words('english'))\n",
    "\n",
    "def clean_review(text):\n",
    "    text = re.sub(r'\\W', ' ', text)  \n",
    "    tokens = word_tokenize(text.lower()) \n",
    "    filtered_tokens = [word for word in tokens if word not in stop_words]  \n",
    "    return ' '.join(filtered_tokens)\n",
    "\n",
    "data['cleaned_condition'] = data['condition'].apply(clean_review)\n",
    "data['cleaned_review'] = data['review'].apply(clean_review)\n",
    "data['cleaned_drugName'] = data['drugName'].apply(clean_review)\n",
    "\n",
    "\n"
   ]
  },
  {
   "cell_type": "code",
   "execution_count": 11,
   "metadata": {},
   "outputs": [
    {
     "data": {
      "text/html": [
       "<div>\n",
       "<style scoped>\n",
       "    .dataframe tbody tr th:only-of-type {\n",
       "        vertical-align: middle;\n",
       "    }\n",
       "\n",
       "    .dataframe tbody tr th {\n",
       "        vertical-align: top;\n",
       "    }\n",
       "\n",
       "    .dataframe thead th {\n",
       "        text-align: right;\n",
       "    }\n",
       "</style>\n",
       "<table border=\"1\" class=\"dataframe\">\n",
       "  <thead>\n",
       "    <tr style=\"text-align: right;\">\n",
       "      <th></th>\n",
       "      <th>uniqueID</th>\n",
       "      <th>drugName</th>\n",
       "      <th>condition</th>\n",
       "      <th>review</th>\n",
       "      <th>rating</th>\n",
       "      <th>date</th>\n",
       "      <th>usefulCount</th>\n",
       "      <th>cleaned_condition</th>\n",
       "      <th>cleaned_review</th>\n",
       "      <th>cleaned_drugName</th>\n",
       "    </tr>\n",
       "  </thead>\n",
       "  <tbody>\n",
       "    <tr>\n",
       "      <th>0</th>\n",
       "      <td>206461</td>\n",
       "      <td>Valsartan</td>\n",
       "      <td>Left Ventricular Dysfunction</td>\n",
       "      <td>\"It has no side effect, I take it in combinati...</td>\n",
       "      <td>9</td>\n",
       "      <td>20-May-12</td>\n",
       "      <td>27</td>\n",
       "      <td>left ventricular dysfunction</td>\n",
       "      <td>side effect take combination bystolic 5 mg fis...</td>\n",
       "      <td>valsartan</td>\n",
       "    </tr>\n",
       "    <tr>\n",
       "      <th>1</th>\n",
       "      <td>95260</td>\n",
       "      <td>Guanfacine</td>\n",
       "      <td>ADHD</td>\n",
       "      <td>\"My son is halfway through his fourth week of ...</td>\n",
       "      <td>8</td>\n",
       "      <td>27-Apr-10</td>\n",
       "      <td>192</td>\n",
       "      <td>adhd</td>\n",
       "      <td>son halfway fourth week intuniv became concern...</td>\n",
       "      <td>guanfacine</td>\n",
       "    </tr>\n",
       "    <tr>\n",
       "      <th>2</th>\n",
       "      <td>92703</td>\n",
       "      <td>Lybrel</td>\n",
       "      <td>Birth Control</td>\n",
       "      <td>\"I used to take another oral contraceptive, wh...</td>\n",
       "      <td>5</td>\n",
       "      <td>14-Dec-09</td>\n",
       "      <td>17</td>\n",
       "      <td>birth control</td>\n",
       "      <td>used take another oral contraceptive 21 pill c...</td>\n",
       "      <td>lybrel</td>\n",
       "    </tr>\n",
       "    <tr>\n",
       "      <th>3</th>\n",
       "      <td>138000</td>\n",
       "      <td>Ortho Evra</td>\n",
       "      <td>Birth Control</td>\n",
       "      <td>\"This is my first time using any form of birth...</td>\n",
       "      <td>8</td>\n",
       "      <td>3-Nov-15</td>\n",
       "      <td>10</td>\n",
       "      <td>birth control</td>\n",
       "      <td>first time using form birth control 039 glad w...</td>\n",
       "      <td>ortho evra</td>\n",
       "    </tr>\n",
       "    <tr>\n",
       "      <th>4</th>\n",
       "      <td>35696</td>\n",
       "      <td>Buprenorphine / naloxone</td>\n",
       "      <td>Opiate Dependence</td>\n",
       "      <td>\"Suboxone has completely turned my life around...</td>\n",
       "      <td>9</td>\n",
       "      <td>27-Nov-16</td>\n",
       "      <td>37</td>\n",
       "      <td>opiate dependence</td>\n",
       "      <td>suboxone completely turned life around feel he...</td>\n",
       "      <td>buprenorphine naloxone</td>\n",
       "    </tr>\n",
       "  </tbody>\n",
       "</table>\n",
       "</div>"
      ],
      "text/plain": [
       "   uniqueID                  drugName                     condition  \\\n",
       "0    206461                 Valsartan  Left Ventricular Dysfunction   \n",
       "1     95260                Guanfacine                          ADHD   \n",
       "2     92703                    Lybrel                 Birth Control   \n",
       "3    138000                Ortho Evra                 Birth Control   \n",
       "4     35696  Buprenorphine / naloxone             Opiate Dependence   \n",
       "\n",
       "                                              review  rating       date  \\\n",
       "0  \"It has no side effect, I take it in combinati...       9  20-May-12   \n",
       "1  \"My son is halfway through his fourth week of ...       8  27-Apr-10   \n",
       "2  \"I used to take another oral contraceptive, wh...       5  14-Dec-09   \n",
       "3  \"This is my first time using any form of birth...       8   3-Nov-15   \n",
       "4  \"Suboxone has completely turned my life around...       9  27-Nov-16   \n",
       "\n",
       "   usefulCount             cleaned_condition  \\\n",
       "0           27  left ventricular dysfunction   \n",
       "1          192                          adhd   \n",
       "2           17                 birth control   \n",
       "3           10                 birth control   \n",
       "4           37             opiate dependence   \n",
       "\n",
       "                                      cleaned_review        cleaned_drugName  \n",
       "0  side effect take combination bystolic 5 mg fis...               valsartan  \n",
       "1  son halfway fourth week intuniv became concern...              guanfacine  \n",
       "2  used take another oral contraceptive 21 pill c...                  lybrel  \n",
       "3  first time using form birth control 039 glad w...              ortho evra  \n",
       "4  suboxone completely turned life around feel he...  buprenorphine naloxone  "
      ]
     },
     "execution_count": 11,
     "metadata": {},
     "output_type": "execute_result"
    }
   ],
   "source": [
    "data.head()"
   ]
  },
  {
   "cell_type": "code",
   "execution_count": 12,
   "metadata": {},
   "outputs": [],
   "source": [
    "# Initialize TF-IDF Vectorizers\n",
    "tfidf_review = TfidfVectorizer()\n",
    "tfidf_condition = TfidfVectorizer()\n",
    "tfidf_drugName = TfidfVectorizer()\n",
    "\n",
    "\n",
    "# Transform text data to TF-IDF matrices\n",
    "tfidf_review_matrix = tfidf_review.fit_transform(data['cleaned_review'])\n",
    "tfidf_condition_matrix = tfidf_condition.fit_transform(data['cleaned_condition'])\n",
    "tfidf_drugName_matrix = tfidf_drugName.fit_transform(data['cleaned_drugName'])\n",
    "\n"
   ]
  },
  {
   "cell_type": "code",
   "execution_count": 13,
   "metadata": {},
   "outputs": [],
   "source": [
    "combined_text = hstack([tfidf_condition_matrix, tfidf_drugName_matrix])\n"
   ]
  },
  {
   "cell_type": "code",
   "execution_count": 14,
   "metadata": {},
   "outputs": [],
   "source": [
    "numerical_features = data[['rating', 'usefulCount']]\n"
   ]
  },
  {
   "cell_type": "code",
   "execution_count": 15,
   "metadata": {},
   "outputs": [],
   "source": [
    "combined_feature = hstack([combined_text, numerical_features])\n"
   ]
  },
  {
   "cell_type": "code",
   "execution_count": 16,
   "metadata": {},
   "outputs": [],
   "source": [
    "wcss = []\n",
    "k_range = range(1, 11) \n",
    "\n",
    "for k in k_range:\n",
    "    kmeans = KMeans(n_clusters=k, random_state=42)\n",
    "    kmeans.fit(combined_feature)\n",
    "    wcss.append(kmeans.inertia_)"
   ]
  },
  {
   "cell_type": "code",
   "execution_count": 17,
   "metadata": {},
   "outputs": [
    {
     "data": {
      "image/png": "[encoded data removed]",
      "text/plain": [
       "<Figure size 800x600 with 1 Axes>"
      ]
     },
     "metadata": {},
     "output_type": "display_data"
    }
   ],
   "source": [
    "plt.figure(figsize=(8, 6))\n",
    "plt.plot(k_range, wcss, marker='o')\n",
    "plt.xlabel('Number of Clusters')\n",
    "plt.ylabel('wcss')\n",
    "plt.title('Elbow Method for Optimal Number of Clusters')\n",
    "plt.xticks(k_range)\n",
    "plt.grid(True)\n",
    "plt.show()"
   ]
  },
  {
   "cell_type": "code",
   "execution_count": 18,
   "metadata": {},
   "outputs": [
    {
     "data": {
      "text/plain": [
       "3"
      ]
     },
     "execution_count": 18,
     "metadata": {},
     "output_type": "execute_result"
    }
   ],
   "source": [
    "from kneed import KneeLocator\n",
    "\n",
    "kl = KneeLocator(k_range,wcss,curve='convex',direction='decreasing')\n",
    "kl.elbow"
   ]
  },
  {
   "cell_type": "code",
   "execution_count": 19,
   "metadata": {},
   "outputs": [],
   "source": [
    "num_clusters = 3  \n",
    "\n",
    "kmeans = KMeans(n_clusters=num_clusters, random_state=42)\n",
    "\n",
    "kmeans.fit(combined_feature)\n",
    "\n",
    "data['cluster'] = kmeans.labels_\n"
   ]
  },
  {
   "cell_type": "code",
   "execution_count": 20,
   "metadata": {},
   "outputs": [],
   "source": [
    "from textblob import TextBlob\n",
    "\n",
    "def get_sentiment(text):\n",
    "    return TextBlob(text).sentiment.polarity\n",
    "\n",
    "data['sentiment'] = data['cleaned_review'].apply(get_sentiment)\n",
    "\n",
    "\n"
   ]
  },
  {
   "cell_type": "code",
   "execution_count": 21,
   "metadata": {},
   "outputs": [
    {
     "data": {
      "text/html": [
       "<div>\n",
       "<style scoped>\n",
       "    .dataframe tbody tr th:only-of-type {\n",
       "        vertical-align: middle;\n",
       "    }\n",
       "\n",
       "    .dataframe tbody tr th {\n",
       "        vertical-align: top;\n",
       "    }\n",
       "\n",
       "    .dataframe thead th {\n",
       "        text-align: right;\n",
       "    }\n",
       "</style>\n",
       "<table border=\"1\" class=\"dataframe\">\n",
       "  <thead>\n",
       "    <tr style=\"text-align: right;\">\n",
       "      <th></th>\n",
       "      <th>uniqueID</th>\n",
       "      <th>drugName</th>\n",
       "      <th>condition</th>\n",
       "      <th>review</th>\n",
       "      <th>rating</th>\n",
       "      <th>date</th>\n",
       "      <th>usefulCount</th>\n",
       "      <th>cleaned_condition</th>\n",
       "      <th>cleaned_review</th>\n",
       "      <th>cleaned_drugName</th>\n",
       "      <th>cluster</th>\n",
       "      <th>sentiment</th>\n",
       "    </tr>\n",
       "  </thead>\n",
       "  <tbody>\n",
       "    <tr>\n",
       "      <th>0</th>\n",
       "      <td>206461</td>\n",
       "      <td>Valsartan</td>\n",
       "      <td>Left Ventricular Dysfunction</td>\n",
       "      <td>\"It has no side effect, I take it in combinati...</td>\n",
       "      <td>9</td>\n",
       "      <td>20-May-12</td>\n",
       "      <td>27</td>\n",
       "      <td>left ventricular dysfunction</td>\n",
       "      <td>side effect take combination bystolic 5 mg fis...</td>\n",
       "      <td>valsartan</td>\n",
       "      <td>1</td>\n",
       "      <td>0.000000</td>\n",
       "    </tr>\n",
       "    <tr>\n",
       "      <th>1</th>\n",
       "      <td>95260</td>\n",
       "      <td>Guanfacine</td>\n",
       "      <td>ADHD</td>\n",
       "      <td>\"My son is halfway through his fourth week of ...</td>\n",
       "      <td>8</td>\n",
       "      <td>27-Apr-10</td>\n",
       "      <td>192</td>\n",
       "      <td>adhd</td>\n",
       "      <td>son halfway fourth week intuniv became concern...</td>\n",
       "      <td>guanfacine</td>\n",
       "      <td>0</td>\n",
       "      <td>0.148611</td>\n",
       "    </tr>\n",
       "    <tr>\n",
       "      <th>2</th>\n",
       "      <td>92703</td>\n",
       "      <td>Lybrel</td>\n",
       "      <td>Birth Control</td>\n",
       "      <td>\"I used to take another oral contraceptive, wh...</td>\n",
       "      <td>5</td>\n",
       "      <td>14-Dec-09</td>\n",
       "      <td>17</td>\n",
       "      <td>birth control</td>\n",
       "      <td>used take another oral contraceptive 21 pill c...</td>\n",
       "      <td>lybrel</td>\n",
       "      <td>1</td>\n",
       "      <td>0.119805</td>\n",
       "    </tr>\n",
       "    <tr>\n",
       "      <th>3</th>\n",
       "      <td>138000</td>\n",
       "      <td>Ortho Evra</td>\n",
       "      <td>Birth Control</td>\n",
       "      <td>\"This is my first time using any form of birth...</td>\n",
       "      <td>8</td>\n",
       "      <td>3-Nov-15</td>\n",
       "      <td>10</td>\n",
       "      <td>birth control</td>\n",
       "      <td>first time using form birth control 039 glad w...</td>\n",
       "      <td>ortho evra</td>\n",
       "      <td>1</td>\n",
       "      <td>0.262500</td>\n",
       "    </tr>\n",
       "    <tr>\n",
       "      <th>4</th>\n",
       "      <td>35696</td>\n",
       "      <td>Buprenorphine / naloxone</td>\n",
       "      <td>Opiate Dependence</td>\n",
       "      <td>\"Suboxone has completely turned my life around...</td>\n",
       "      <td>9</td>\n",
       "      <td>27-Nov-16</td>\n",
       "      <td>37</td>\n",
       "      <td>opiate dependence</td>\n",
       "      <td>suboxone completely turned life around feel he...</td>\n",
       "      <td>buprenorphine naloxone</td>\n",
       "      <td>2</td>\n",
       "      <td>0.194444</td>\n",
       "    </tr>\n",
       "  </tbody>\n",
       "</table>\n",
       "</div>"
      ],
      "text/plain": [
       "   uniqueID                  drugName                     condition  \\\n",
       "0    206461                 Valsartan  Left Ventricular Dysfunction   \n",
       "1     95260                Guanfacine                          ADHD   \n",
       "2     92703                    Lybrel                 Birth Control   \n",
       "3    138000                Ortho Evra                 Birth Control   \n",
       "4     35696  Buprenorphine / naloxone             Opiate Dependence   \n",
       "\n",
       "                                              review  rating       date  \\\n",
       "0  \"It has no side effect, I take it in combinati...       9  20-May-12   \n",
       "1  \"My son is halfway through his fourth week of ...       8  27-Apr-10   \n",
       "2  \"I used to take another oral contraceptive, wh...       5  14-Dec-09   \n",
       "3  \"This is my first time using any form of birth...       8   3-Nov-15   \n",
       "4  \"Suboxone has completely turned my life around...       9  27-Nov-16   \n",
       "\n",
       "   usefulCount             cleaned_condition  \\\n",
       "0           27  left ventricular dysfunction   \n",
       "1          192                          adhd   \n",
       "2           17                 birth control   \n",
       "3           10                 birth control   \n",
       "4           37             opiate dependence   \n",
       "\n",
       "                                      cleaned_review        cleaned_drugName  \\\n",
       "0  side effect take combination bystolic 5 mg fis...               valsartan   \n",
       "1  son halfway fourth week intuniv became concern...              guanfacine   \n",
       "2  used take another oral contraceptive 21 pill c...                  lybrel   \n",
       "3  first time using form birth control 039 glad w...              ortho evra   \n",
       "4  suboxone completely turned life around feel he...  buprenorphine naloxone   \n",
       "\n",
       "   cluster  sentiment  \n",
       "0        1   0.000000  \n",
       "1        0   0.148611  \n",
       "2        1   0.119805  \n",
       "3        1   0.262500  \n",
       "4        2   0.194444  "
      ]
     },
     "execution_count": 21,
     "metadata": {},
     "output_type": "execute_result"
    }
   ],
   "source": [
    "data.head()"
   ]
  },
  {
   "cell_type": "code",
   "execution_count": 22,
   "metadata": {},
   "outputs": [],
   "source": [
    "from sklearn.metrics.pairwise import cosine_similarity\n"
   ]
  },
  {
   "cell_type": "code",
   "execution_count": 23,
   "metadata": {},
   "outputs": [
    {
     "data": {
      "text/html": [
       "<div>\n",
       "<style scoped>\n",
       "    .dataframe tbody tr th:only-of-type {\n",
       "        vertical-align: middle;\n",
       "    }\n",
       "\n",
       "    .dataframe tbody tr th {\n",
       "        vertical-align: top;\n",
       "    }\n",
       "\n",
       "    .dataframe thead th {\n",
       "        text-align: right;\n",
       "    }\n",
       "</style>\n",
       "<table border=\"1\" class=\"dataframe\">\n",
       "  <thead>\n",
       "    <tr style=\"text-align: right;\">\n",
       "      <th></th>\n",
       "      <th>uniqueID</th>\n",
       "      <th>drugName</th>\n",
       "      <th>condition</th>\n",
       "      <th>review</th>\n",
       "      <th>rating</th>\n",
       "      <th>date</th>\n",
       "      <th>usefulCount</th>\n",
       "      <th>cleaned_condition</th>\n",
       "      <th>cleaned_review</th>\n",
       "      <th>cleaned_drugName</th>\n",
       "      <th>cluster</th>\n",
       "      <th>sentiment</th>\n",
       "    </tr>\n",
       "  </thead>\n",
       "  <tbody>\n",
       "    <tr>\n",
       "      <th>1</th>\n",
       "      <td>95260</td>\n",
       "      <td>Guanfacine</td>\n",
       "      <td>ADHD</td>\n",
       "      <td>\"My son is halfway through his fourth week of ...</td>\n",
       "      <td>8</td>\n",
       "      <td>27-Apr-10</td>\n",
       "      <td>192</td>\n",
       "      <td>adhd</td>\n",
       "      <td>son halfway fourth week intuniv became concern...</td>\n",
       "      <td>guanfacine</td>\n",
       "      <td>0</td>\n",
       "      <td>0.148611</td>\n",
       "    </tr>\n",
       "    <tr>\n",
       "      <th>27</th>\n",
       "      <td>78563</td>\n",
       "      <td>Daytrana</td>\n",
       "      <td>ADHD</td>\n",
       "      <td>\"Hi all, My son who is 12 was diagnosed when h...</td>\n",
       "      <td>10</td>\n",
       "      <td>12-Jan-17</td>\n",
       "      <td>11</td>\n",
       "      <td>adhd</td>\n",
       "      <td>hi son 12 diagnosed 2nd grade tried everything...</td>\n",
       "      <td>daytrana</td>\n",
       "      <td>1</td>\n",
       "      <td>0.089744</td>\n",
       "    </tr>\n",
       "    <tr>\n",
       "      <th>51</th>\n",
       "      <td>135645</td>\n",
       "      <td>Intuniv</td>\n",
       "      <td>ADHD</td>\n",
       "      <td>\"Intuniv did not work for my son; he was bounc...</td>\n",
       "      <td>1</td>\n",
       "      <td>21-Jul-11</td>\n",
       "      <td>23</td>\n",
       "      <td>adhd</td>\n",
       "      <td>intuniv work son bouncing walls taking major i...</td>\n",
       "      <td>intuniv</td>\n",
       "      <td>1</td>\n",
       "      <td>0.031250</td>\n",
       "    </tr>\n",
       "    <tr>\n",
       "      <th>116</th>\n",
       "      <td>61002</td>\n",
       "      <td>Focalin</td>\n",
       "      <td>ADHD</td>\n",
       "      <td>\"My 9 year old son has been on various medicin...</td>\n",
       "      <td>9</td>\n",
       "      <td>31-Jan-10</td>\n",
       "      <td>48</td>\n",
       "      <td>adhd</td>\n",
       "      <td>9 year old son various medicines adhd since 6 ...</td>\n",
       "      <td>focalin</td>\n",
       "      <td>2</td>\n",
       "      <td>-0.088889</td>\n",
       "    </tr>\n",
       "    <tr>\n",
       "      <th>211</th>\n",
       "      <td>37533</td>\n",
       "      <td>Vyvanse</td>\n",
       "      <td>ADHD</td>\n",
       "      <td>\"Today was my first day taking Vyvanse and wow...</td>\n",
       "      <td>9</td>\n",
       "      <td>31-Aug-11</td>\n",
       "      <td>11</td>\n",
       "      <td>adhd</td>\n",
       "      <td>today first day taking vyvanse wow usually sad...</td>\n",
       "      <td>vyvanse</td>\n",
       "      <td>1</td>\n",
       "      <td>0.067535</td>\n",
       "    </tr>\n",
       "  </tbody>\n",
       "</table>\n",
       "</div>"
      ],
      "text/plain": [
       "     uniqueID    drugName condition  \\\n",
       "1       95260  Guanfacine      ADHD   \n",
       "27      78563    Daytrana      ADHD   \n",
       "51     135645     Intuniv      ADHD   \n",
       "116     61002     Focalin      ADHD   \n",
       "211     37533     Vyvanse      ADHD   \n",
       "\n",
       "                                                review  rating       date  \\\n",
       "1    \"My son is halfway through his fourth week of ...       8  27-Apr-10   \n",
       "27   \"Hi all, My son who is 12 was diagnosed when h...      10  12-Jan-17   \n",
       "51   \"Intuniv did not work for my son; he was bounc...       1  21-Jul-11   \n",
       "116  \"My 9 year old son has been on various medicin...       9  31-Jan-10   \n",
       "211  \"Today was my first day taking Vyvanse and wow...       9  31-Aug-11   \n",
       "\n",
       "     usefulCount cleaned_condition  \\\n",
       "1            192              adhd   \n",
       "27            11              adhd   \n",
       "51            23              adhd   \n",
       "116           48              adhd   \n",
       "211           11              adhd   \n",
       "\n",
       "                                        cleaned_review cleaned_drugName  \\\n",
       "1    son halfway fourth week intuniv became concern...       guanfacine   \n",
       "27   hi son 12 diagnosed 2nd grade tried everything...         daytrana   \n",
       "51   intuniv work son bouncing walls taking major i...          intuniv   \n",
       "116  9 year old son various medicines adhd since 6 ...          focalin   \n",
       "211  today first day taking vyvanse wow usually sad...          vyvanse   \n",
       "\n",
       "     cluster  sentiment  \n",
       "1          0   0.148611  \n",
       "27         1   0.089744  \n",
       "51         1   0.031250  \n",
       "116        2  -0.088889  \n",
       "211        1   0.067535  "
      ]
     },
     "execution_count": 23,
     "metadata": {},
     "output_type": "execute_result"
    }
   ],
   "source": [
    "filtered_df = data[data['cleaned_condition'] == 'adhd']\n",
    "filtered_df.head()\n",
    "\n",
    "# This line filters the data DataFrame to create filtered_df, which contains only the rows where the cleaned_condition matches the cleaned input condition."
   ]
  },
  {
   "cell_type": "code",
   "execution_count": 24,
   "metadata": {},
   "outputs": [],
   "source": [
    "# if not filtered_df.empty:\n",
    "# This line checks if filtered_df is not empty. If it is not empty, it means there are records for the specified condition."
   ]
  },
  {
   "cell_type": "code",
   "execution_count": 25,
   "metadata": {},
   "outputs": [],
   "source": [
    "similarity_matrix = cosine_similarity(filtered_df[['sentiment']])\n",
    "#  If there are three drugs in filtered_df with sentiment scores [0.2, 0.5, 0.8], the cosine similarity will measure how closely these sentiment scores relate to each other."
   ]
  },
  {
   "cell_type": "code",
   "execution_count": 26,
   "metadata": {},
   "outputs": [],
   "source": [
    "similarity_df = pd.DataFrame(similarity_matrix, index=filtered_df.index, columns=filtered_df.index)\n",
    "# This line creates a new DataFrame, similarity_df, that stores the cosine similarity values. The index and columns of this DataFrame correspond to the indices of the filtered_df DataFrame."
   ]
  },
  {
   "cell_type": "code",
   "execution_count": 27,
   "metadata": {},
   "outputs": [
    {
     "data": {
      "text/html": [
       "<div>\n",
       "<style scoped>\n",
       "    .dataframe tbody tr th:only-of-type {\n",
       "        vertical-align: middle;\n",
       "    }\n",
       "\n",
       "    .dataframe tbody tr th {\n",
       "        vertical-align: top;\n",
       "    }\n",
       "\n",
       "    .dataframe thead th {\n",
       "        text-align: right;\n",
       "    }\n",
       "</style>\n",
       "<table border=\"1\" class=\"dataframe\">\n",
       "  <thead>\n",
       "    <tr style=\"text-align: right;\">\n",
       "      <th></th>\n",
       "      <th>1</th>\n",
       "      <th>27</th>\n",
       "      <th>51</th>\n",
       "      <th>116</th>\n",
       "      <th>211</th>\n",
       "      <th>250</th>\n",
       "      <th>268</th>\n",
       "      <th>313</th>\n",
       "      <th>376</th>\n",
       "      <th>382</th>\n",
       "      <th>...</th>\n",
       "      <th>160604</th>\n",
       "      <th>160743</th>\n",
       "      <th>160809</th>\n",
       "      <th>160839</th>\n",
       "      <th>160848</th>\n",
       "      <th>160977</th>\n",
       "      <th>160998</th>\n",
       "      <th>161084</th>\n",
       "      <th>161111</th>\n",
       "      <th>161213</th>\n",
       "    </tr>\n",
       "  </thead>\n",
       "  <tbody>\n",
       "    <tr>\n",
       "      <th>1</th>\n",
       "      <td>1.0</td>\n",
       "      <td>1.0</td>\n",
       "      <td>1.0</td>\n",
       "      <td>-1.0</td>\n",
       "      <td>1.0</td>\n",
       "      <td>1.0</td>\n",
       "      <td>-1.0</td>\n",
       "      <td>-1.0</td>\n",
       "      <td>1.0</td>\n",
       "      <td>-1.0</td>\n",
       "      <td>...</td>\n",
       "      <td>1.0</td>\n",
       "      <td>1.0</td>\n",
       "      <td>1.0</td>\n",
       "      <td>1.0</td>\n",
       "      <td>-1.0</td>\n",
       "      <td>1.0</td>\n",
       "      <td>1.0</td>\n",
       "      <td>1.0</td>\n",
       "      <td>1.0</td>\n",
       "      <td>0.0</td>\n",
       "    </tr>\n",
       "    <tr>\n",
       "      <th>27</th>\n",
       "      <td>1.0</td>\n",
       "      <td>1.0</td>\n",
       "      <td>1.0</td>\n",
       "      <td>-1.0</td>\n",
       "      <td>1.0</td>\n",
       "      <td>1.0</td>\n",
       "      <td>-1.0</td>\n",
       "      <td>-1.0</td>\n",
       "      <td>1.0</td>\n",
       "      <td>-1.0</td>\n",
       "      <td>...</td>\n",
       "      <td>1.0</td>\n",
       "      <td>1.0</td>\n",
       "      <td>1.0</td>\n",
       "      <td>1.0</td>\n",
       "      <td>-1.0</td>\n",
       "      <td>1.0</td>\n",
       "      <td>1.0</td>\n",
       "      <td>1.0</td>\n",
       "      <td>1.0</td>\n",
       "      <td>0.0</td>\n",
       "    </tr>\n",
       "    <tr>\n",
       "      <th>51</th>\n",
       "      <td>1.0</td>\n",
       "      <td>1.0</td>\n",
       "      <td>1.0</td>\n",
       "      <td>-1.0</td>\n",
       "      <td>1.0</td>\n",
       "      <td>1.0</td>\n",
       "      <td>-1.0</td>\n",
       "      <td>-1.0</td>\n",
       "      <td>1.0</td>\n",
       "      <td>-1.0</td>\n",
       "      <td>...</td>\n",
       "      <td>1.0</td>\n",
       "      <td>1.0</td>\n",
       "      <td>1.0</td>\n",
       "      <td>1.0</td>\n",
       "      <td>-1.0</td>\n",
       "      <td>1.0</td>\n",
       "      <td>1.0</td>\n",
       "      <td>1.0</td>\n",
       "      <td>1.0</td>\n",
       "      <td>0.0</td>\n",
       "    </tr>\n",
       "    <tr>\n",
       "      <th>116</th>\n",
       "      <td>-1.0</td>\n",
       "      <td>-1.0</td>\n",
       "      <td>-1.0</td>\n",
       "      <td>1.0</td>\n",
       "      <td>-1.0</td>\n",
       "      <td>-1.0</td>\n",
       "      <td>1.0</td>\n",
       "      <td>1.0</td>\n",
       "      <td>-1.0</td>\n",
       "      <td>1.0</td>\n",
       "      <td>...</td>\n",
       "      <td>-1.0</td>\n",
       "      <td>-1.0</td>\n",
       "      <td>-1.0</td>\n",
       "      <td>-1.0</td>\n",
       "      <td>1.0</td>\n",
       "      <td>-1.0</td>\n",
       "      <td>-1.0</td>\n",
       "      <td>-1.0</td>\n",
       "      <td>-1.0</td>\n",
       "      <td>0.0</td>\n",
       "    </tr>\n",
       "    <tr>\n",
       "      <th>211</th>\n",
       "      <td>1.0</td>\n",
       "      <td>1.0</td>\n",
       "      <td>1.0</td>\n",
       "      <td>-1.0</td>\n",
       "      <td>1.0</td>\n",
       "      <td>1.0</td>\n",
       "      <td>-1.0</td>\n",
       "      <td>-1.0</td>\n",
       "      <td>1.0</td>\n",
       "      <td>-1.0</td>\n",
       "      <td>...</td>\n",
       "      <td>1.0</td>\n",
       "      <td>1.0</td>\n",
       "      <td>1.0</td>\n",
       "      <td>1.0</td>\n",
       "      <td>-1.0</td>\n",
       "      <td>1.0</td>\n",
       "      <td>1.0</td>\n",
       "      <td>1.0</td>\n",
       "      <td>1.0</td>\n",
       "      <td>0.0</td>\n",
       "    </tr>\n",
       "  </tbody>\n",
       "</table>\n",
       "<p>5 rows × 3383 columns</p>\n",
       "</div>"
      ],
      "text/plain": [
       "     1       27      51      116     211     250     268     313     376     \\\n",
       "1       1.0     1.0     1.0    -1.0     1.0     1.0    -1.0    -1.0     1.0   \n",
       "27      1.0     1.0     1.0    -1.0     1.0     1.0    -1.0    -1.0     1.0   \n",
       "51      1.0     1.0     1.0    -1.0     1.0     1.0    -1.0    -1.0     1.0   \n",
       "116    -1.0    -1.0    -1.0     1.0    -1.0    -1.0     1.0     1.0    -1.0   \n",
       "211     1.0     1.0     1.0    -1.0     1.0     1.0    -1.0    -1.0     1.0   \n",
       "\n",
       "     382     ...  160604  160743  160809  160839  160848  160977  160998  \\\n",
       "1      -1.0  ...     1.0     1.0     1.0     1.0    -1.0     1.0     1.0   \n",
       "27     -1.0  ...     1.0     1.0     1.0     1.0    -1.0     1.0     1.0   \n",
       "51     -1.0  ...     1.0     1.0     1.0     1.0    -1.0     1.0     1.0   \n",
       "116     1.0  ...    -1.0    -1.0    -1.0    -1.0     1.0    -1.0    -1.0   \n",
       "211    -1.0  ...     1.0     1.0     1.0     1.0    -1.0     1.0     1.0   \n",
       "\n",
       "     161084  161111  161213  \n",
       "1       1.0     1.0     0.0  \n",
       "27      1.0     1.0     0.0  \n",
       "51      1.0     1.0     0.0  \n",
       "116    -1.0    -1.0     0.0  \n",
       "211     1.0     1.0     0.0  \n",
       "\n",
       "[5 rows x 3383 columns]"
      ]
     },
     "execution_count": 27,
     "metadata": {},
     "output_type": "execute_result"
    }
   ],
   "source": [
    "similarity_df.head()"
   ]
  },
  {
   "cell_type": "code",
   "execution_count": 28,
   "metadata": {},
   "outputs": [],
   "source": [
    "#     Drug A\tDrug B\tDrug C\n",
    "# A\t1.0\t0.8\t0.5\n",
    "# B\t0.8\t1.0\t0.6\n",
    "# C\t0.5\t0.6\t1.0"
   ]
  },
  {
   "cell_type": "code",
   "execution_count": 29,
   "metadata": {},
   "outputs": [],
   "source": [
    "# When you apply sum(axis=1):\n",
    "# For Drug A: 1.0 + 0.8 + 0.5 = 2.3\n",
    "# For Drug B: 0.8 + 1.0 + 0.6 = 2.4\n",
    "# For Drug C: 0.5 + 0.6 + 1.0 = 2.1"
   ]
  },
  {
   "cell_type": "code",
   "execution_count": 30,
   "metadata": {},
   "outputs": [],
   "source": [
    "\n",
    "# Drug\tSimilarity Sum\n",
    "# Drug A\t2.3\n",
    "# Drug B\t2.4\n",
    "# Drug C\t2.1"
   ]
  },
  {
   "cell_type": "code",
   "execution_count": 31,
   "metadata": {},
   "outputs": [],
   "source": [
    "# Sorting this Series in descending order would give:\n",
    "# Drug\tSimilarity Sum\n",
    "# Drug B\t2.4\n",
    "# Drug A\t2.3\n",
    "# Drug C\t2.1"
   ]
  },
  {
   "cell_type": "code",
   "execution_count": 32,
   "metadata": {},
   "outputs": [],
   "source": [
    "recommended_indices = similarity_df.sum(axis=1).sort_values(ascending=False).index\n",
    "top_recommendations = filtered_df.loc[recommended_indices].head(5)[['drugName', 'sentiment']]\n"
   ]
  },
  {
   "cell_type": "code",
   "execution_count": 33,
   "metadata": {},
   "outputs": [],
   "source": [
    "def recommend_drugs(condition):\n",
    "    cleaned_condition = clean_review(condition).strip()   \n",
    "    filtered_df = data[data['cleaned_condition'] == cleaned_condition]\n",
    "\n",
    "    if not filtered_df.empty:\n",
    "        similarity_matrix = cosine_similarity(filtered_df[['sentiment']])\n",
    "        similarity_df = pd.DataFrame(similarity_matrix, index=filtered_df.index, columns=filtered_df.index)\n",
    "\n",
    "        recommended_indices = similarity_df.sum(axis=1).sort_values(ascending=False).index\n",
    "        top_recommendations = filtered_df.loc[recommended_indices].drop_duplicates(subset=['drugName']).head(5)[['drugName', 'sentiment']]\n",
    "        \n",
    "        print(\"Recommended Drugs:\")\n",
    "        print(top_recommendations)\n",
    "    else:\n",
    "        print(\"No drugs found for the specified condition.\")\n"
   ]
  },
  {
   "cell_type": "code",
   "execution_count": 34,
   "metadata": {},
   "outputs": [
    {
     "name": "stdout",
     "output_type": "stream",
     "text": [
      "Left Ventricular Dysfunction\n",
      "Recommended Drugs:\n",
      "          drugName  sentiment\n",
      "157542  Benazepril   0.014861\n",
      "52494   Carvedilol   0.187500\n",
      "104363       Coreg   0.187500\n",
      "13130   Metoprolol   0.247222\n",
      "30491    Enalapril   0.173810\n"
     ]
    }
   ],
   "source": [
    "condition_input = input(\"Enter condition: \")\n",
    "print(condition_input)\n",
    "recommend_drugs(condition_input)"
   ]
  },
  {
   "cell_type": "code",
   "execution_count": 36,
   "metadata": {},
   "outputs": [],
   "source": [
    "import nltk"
   ]
  },
  {
   "cell_type": "code",
   "execution_count": 37,
   "metadata": {},
   "outputs": [
    {
     "name": "stderr",
     "output_type": "stream",
     "text": [
      "[nltk_data] Downloading package wordnet to\n",
      "[nltk_data]     C:\\Users\\Admin\\AppData\\Roaming\\nltk_data...\n",
      "[nltk_data]   Package wordnet is already up-to-date!\n",
      "[nltk_data] Downloading package punkt to\n",
      "[nltk_data]     C:\\Users\\Admin\\AppData\\Roaming\\nltk_data...\n",
      "[nltk_data]   Package punkt is already up-to-date!\n",
      "[nltk_data] Downloading package stopwords to\n",
      "[nltk_data]     C:\\Users\\Admin\\AppData\\Roaming\\nltk_data...\n",
      "[nltk_data]   Package stopwords is already up-to-date!\n"
     ]
    },
    {
     "data": {
      "text/plain": [
       "True"
      ]
     },
     "execution_count": 37,
     "metadata": {},
     "output_type": "execute_result"
    }
   ],
   "source": [
    "nltk.download('wordnet')\n",
    "nltk.download('punkt')\n",
    "nltk.download('stopwords')"
   ]
  },
  {
   "cell_type": "code",
   "execution_count": 38,
   "metadata": {},
   "outputs": [
    {
     "name": "stderr",
     "output_type": "stream",
     "text": [
      "[nltk_data] Downloading package wordnet to\n",
      "[nltk_data]     C:\\Users\\Admin\\AppData\\Roaming\\nltk_data...\n",
      "[nltk_data]   Package wordnet is already up-to-date!\n",
      "[nltk_data] Downloading package omw-1.4 to\n",
      "[nltk_data]     C:\\Users\\Admin\\AppData\\Roaming\\nltk_data...\n",
      "[nltk_data]   Package omw-1.4 is already up-to-date!\n"
     ]
    },
    {
     "data": {
      "text/plain": [
       "True"
      ]
     },
     "execution_count": 38,
     "metadata": {},
     "output_type": "execute_result"
    }
   ],
   "source": [
    "import nltk\n",
    "nltk.download('wordnet')\n",
    "nltk.download('omw-1.4')  "
   ]
  },
  {
   "cell_type": "code",
   "execution_count": 39,
   "metadata": {},
   "outputs": [
    {
     "name": "stderr",
     "output_type": "stream",
     "text": [
      "[nltk_data] Downloading package wordnet to\n",
      "[nltk_data]     C:\\Users\\Admin\\AppData\\Roaming\\nltk_data...\n",
      "[nltk_data]   Package wordnet is already up-to-date!\n"
     ]
    }
   ],
   "source": [
    "import nltk\n",
    "nltk.download('wordnet')\n",
    "from nltk.corpus import wordnet\n"
   ]
  },
  {
   "cell_type": "code",
   "execution_count": 40,
   "metadata": {},
   "outputs": [
    {
     "data": {
      "text/plain": [
       "0         Left Ventricular Dysfunction\n",
       "1                                 ADHD\n",
       "2                        Birth Control\n",
       "3                        Birth Control\n",
       "4                    Opiate Dependence\n",
       "                      ...             \n",
       "161292              Alcohol Dependence\n",
       "161293                 Nausea/Vomiting\n",
       "161294            Rheumatoid Arthritis\n",
       "161295             Underactive Thyroid\n",
       "161296           Constipation, Chronic\n",
       "Name: condition, Length: 160398, dtype: object"
      ]
     },
     "execution_count": 40,
     "metadata": {},
     "output_type": "execute_result"
    }
   ],
   "source": [
    "data['condition']"
   ]
  },
  {
   "cell_type": "code",
   "execution_count": 58,
   "metadata": {},
   "outputs": [
    {
     "data": {
      "text/plain": [
       "[Synset('stultification.n.01'), Synset('stultification.n.02')]"
      ]
     },
     "execution_count": 58,
     "metadata": {},
     "output_type": "execute_result"
    }
   ],
   "source": [
    "wordnet.synsets('stultification')"
   ]
  },
  {
   "cell_type": "code",
   "execution_count": 47,
   "metadata": {},
   "outputs": [
    {
     "data": {
      "text/plain": [
       "[Synset('constipation.n.01'), Synset('stultification.n.02')]"
      ]
     },
     "execution_count": 47,
     "metadata": {},
     "output_type": "execute_result"
    }
   ],
   "source": [
    "wordnet.synsets('Constipation')"
   ]
  },
  {
   "cell_type": "code",
   "execution_count": 42,
   "metadata": {},
   "outputs": [
    {
     "data": {
      "text/plain": [
       "[Synset('attention_deficit_disorder.n.01')]"
      ]
     },
     "execution_count": 42,
     "metadata": {},
     "output_type": "execute_result"
    }
   ],
   "source": [
    "wordnet.synsets('ADHD')"
   ]
  },
  {
   "cell_type": "markdown",
   "metadata": {},
   "source": [
    "wordnet"
   ]
  },
  {
   "cell_type": "code",
   "execution_count": 59,
   "metadata": {},
   "outputs": [],
   "source": [
    "def get_synonyms(word):\n",
    "    synonyms = set()\n",
    "    for syn in wordnet.synsets(word):\n",
    "        for lemma in syn.lemmas():\n",
    "            synonyms.add(lemma.name())\n",
    "    return synonyms\n"
   ]
  },
  {
   "cell_type": "code",
   "execution_count": 60,
   "metadata": {},
   "outputs": [],
   "source": [
    "def recommend_drugs(condition):\n",
    "    cleaned_condition = clean_review(condition).strip()\n",
    "    words = cleaned_condition.split()\n",
    "\n",
    "    all_synonyms = set()\n",
    "    for word in words:\n",
    "        synonyms = get_synonyms(word)\n",
    "        all_synonyms.update(synonyms)\n",
    "\n",
    "    all_synonyms.update(words)\n",
    "\n",
    "    cleaned_synonyms = set([clean_review(w) for w in all_synonyms])\n",
    "\n",
    "    filtered_df = data[data['cleaned_condition'].isin(cleaned_synonyms)]\n",
    "    # print(filtered_df.head())\n",
    "    if not filtered_df.empty:\n",
    "        similarity_matrix = cosine_similarity(filtered_df[['sentiment']])\n",
    "        similarity_df = pd.DataFrame(similarity_matrix, index=filtered_df.index, columns=filtered_df.index)\n",
    "\n",
    "        recommended_indices = similarity_df.sum(axis=1).sort_values(ascending=False).index\n",
    "        top_recommendations = filtered_df.loc[recommended_indices].drop_duplicates(subset=['drugName']).head(5)[['drugName', 'sentiment']]\n",
    "\n",
    "        print(\"Recommended Drugs:\")\n",
    "        print(top_recommendations)\n",
    "    else:\n",
    "        print(\"No drugs found for the specified condition or its synonyms.\")\n"
   ]
  },
  {
   "cell_type": "code",
   "execution_count": 61,
   "metadata": {},
   "outputs": [
    {
     "name": "stdout",
     "output_type": "stream",
     "text": [
      "attention_deficit_disorder.n.01\n",
      "Recommended Drugs:\n",
      "                  drugName  sentiment\n",
      "1               Guanfacine   0.148611\n",
      "102422             Vyvanse   0.271548\n",
      "100911  Dexmethylphenidate   0.483333\n",
      "100956         Metadate CD   0.279167\n",
      "101248             Intuniv   0.157837\n"
     ]
    }
   ],
   "source": [
    "condition_input = input(\"Enter condition: \")\n",
    "print(condition_input)\n",
    "recommend_drugs(condition_input)\n"
   ]
  },
  {
   "cell_type": "code",
   "execution_count": 80,
   "metadata": {},
   "outputs": [],
   "source": [
    "import gensim\n"
   ]
  },
  {
   "cell_type": "markdown",
   "metadata": {},
   "source": [
    "combine : wordnet and word2vec "
   ]
  },
  {
   "cell_type": "code",
   "execution_count": 96,
   "metadata": {},
   "outputs": [],
   "source": [
    "from gensim.models import Word2Vec\n"
   ]
  },
  {
   "cell_type": "code",
   "execution_count": 117,
   "metadata": {},
   "outputs": [],
   "source": [
    "def get_wordnet_synonyms(word):\n",
    "    synonyms = set()\n",
    "    for syn in wordnet.synsets(word):\n",
    "        for lemma in syn.lemmas():\n",
    "            synonyms.add(lemma.name().lower())\n",
    "    return list(synonyms)\n",
    "\n",
    "sentences = data['cleaned_condition'].apply(lambda x: x.split()).tolist()\n",
    "word2vec_model = Word2Vec(sentences, vector_size=100, window=5, min_count=1)\n",
    "\n",
    "def get_word2vec_similar_words(word, model):\n",
    "    try:\n",
    "        similar_words = model.wv.most_similar(word)\n",
    "        return [w[0] for w in similar_words]\n",
    "    except KeyError:\n",
    "        return []\n",
    "\n",
    "def get_related_conditions(condition, model):\n",
    "    synonyms = get_wordnet_synonyms(condition)\n",
    "    similar_words = get_word2vec_similar_words(condition, model)\n",
    "    return set(synonyms + similar_words)\n",
    "\n"
   ]
  },
  {
   "cell_type": "code",
   "execution_count": 118,
   "metadata": {},
   "outputs": [],
   "source": [
    "# Recommendation \n",
    "def recommend_drugs(condition, model):\n",
    "    cleaned_condition = clean_review(condition).strip()\n",
    "\n",
    "    filtered_df = data[data['cleaned_condition'] == cleaned_condition]\n",
    "    \n",
    "    if filtered_df.empty:\n",
    "        related_conditions = get_related_conditions(cleaned_condition, model)\n",
    "        filtered_df = data[data['cleaned_condition'].isin(related_conditions)]\n",
    "    \n",
    "    if not filtered_df.empty:\n",
    "        similarity_matrix = cosine_similarity(filtered_df[['sentiment']])\n",
    "        similarity_df = pd.DataFrame(similarity_matrix, index=filtered_df.index, columns=filtered_df.index)\n",
    "\n",
    "        recommended_indices = similarity_df.sum(axis=1).sort_values(ascending=False).index\n",
    "        top_recommendations = filtered_df.loc[recommended_indices].drop_duplicates(subset=['drugName']).head(5)[['drugName', 'sentiment']]\n",
    "\n",
    "        print(\"Recommended Drugs:\")\n",
    "        print(top_recommendations)\n",
    "    else:\n",
    "        print(f\"No drugs found for the specified condition: {condition}\")"
   ]
  },
  {
   "cell_type": "code",
   "execution_count": 119,
   "metadata": {},
   "outputs": [
    {
     "name": "stdout",
     "output_type": "stream",
     "text": [
      "ADD\n",
      "Recommended Drugs:\n",
      "                  drugName  sentiment\n",
      "1               Guanfacine   0.148611\n",
      "102422             Vyvanse   0.271548\n",
      "100911  Dexmethylphenidate   0.483333\n",
      "100956         Metadate CD   0.279167\n",
      "101248             Intuniv   0.157837\n"
     ]
    }
   ],
   "source": [
    "condition_input = input(\"Enter condition: \")\n",
    "print(condition_input)\n",
    "recommend_drugs(condition_input, word2vec_model)"
   ]
  },
  {
   "cell_type": "code",
   "execution_count": null,
   "metadata": {},
   "outputs": [],
   "source": []
  },
  {
   "cell_type": "code",
   "execution_count": null,
   "metadata": {},
   "outputs": [],
   "source": []
  }
 ],
 "metadata": {
  "kernelspec": {
   "display_name": "Python 3",
   "language": "python",
   "name": "python3"
  },
  "language_info": {
   "codemirror_mode": {
    "name": "ipython",
    "version": 3
   },
   "file_extension": ".py",
   "mimetype": "text/x-python",
   "name": "python",
   "nbconvert_exporter": "python",
   "pygments_lexer": "ipython3",
   "version": "3.12.4"
  }
 },
 "nbformat": 4,
 "nbformat_minor": 2
}
