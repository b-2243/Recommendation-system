{
 "cells": [
  {
   "cell_type": "code",
   "execution_count": 1,
   "metadata": {
    "executionInfo": {
     "elapsed": 1246,
     "status": "ok",
     "timestamp": 1722420987177,
     "user": {
      "displayName": "bhaumik patel",
      "userId": "06029663876545840006"
     },
     "user_tz": -330
    },
    "id": "2S7F_-EdEqCm"
   },
   "outputs": [],
   "source": [
    "import pandas as pd\n",
    "import numpy as np"
   ]
  },
  {
   "cell_type": "code",
   "execution_count": 2,
   "metadata": {
    "executionInfo": {
     "elapsed": 449,
     "status": "ok",
     "timestamp": 1722420989668,
     "user": {
      "displayName": "bhaumik patel",
      "userId": "06029663876545840006"
     },
     "user_tz": -330
    },
    "id": "jdfXYXI-EqCp"
   },
   "outputs": [],
   "source": [
    "data = pd.read_csv(\"songsDataset.csv\",nrows=10000)\n",
    "data.columns = data.columns.str.strip().str.replace(\"'\", \"\")\n"
   ]
  },
  {
   "cell_type": "code",
   "execution_count": 3,
   "metadata": {
    "colab": {
     "base_uri": "https://localhost:8080/",
     "height": 206
    },
    "executionInfo": {
     "elapsed": 5,
     "status": "ok",
     "timestamp": 1722420989668,
     "user": {
      "displayName": "bhaumik patel",
      "userId": "06029663876545840006"
     },
     "user_tz": -330
    },
    "id": "_XHKUYLXEqCq",
    "outputId": "26178e7e-a933-4956-d360-209d6c20c165"
   },
   "outputs": [
    {
     "data": {
      "text/html": [
       "<div>\n",
       "<style scoped>\n",
       "    .dataframe tbody tr th:only-of-type {\n",
       "        vertical-align: middle;\n",
       "    }\n",
       "\n",
       "    .dataframe tbody tr th {\n",
       "        vertical-align: top;\n",
       "    }\n",
       "\n",
       "    .dataframe thead th {\n",
       "        text-align: right;\n",
       "    }\n",
       "</style>\n",
       "<table border=\"1\" class=\"dataframe\">\n",
       "  <thead>\n",
       "    <tr style=\"text-align: right;\">\n",
       "      <th></th>\n",
       "      <th>userID</th>\n",
       "      <th>songID</th>\n",
       "      <th>rating</th>\n",
       "    </tr>\n",
       "  </thead>\n",
       "  <tbody>\n",
       "    <tr>\n",
       "      <th>0</th>\n",
       "      <td>0</td>\n",
       "      <td>7171</td>\n",
       "      <td>5</td>\n",
       "    </tr>\n",
       "    <tr>\n",
       "      <th>1</th>\n",
       "      <td>0</td>\n",
       "      <td>8637</td>\n",
       "      <td>4</td>\n",
       "    </tr>\n",
       "    <tr>\n",
       "      <th>2</th>\n",
       "      <td>0</td>\n",
       "      <td>21966</td>\n",
       "      <td>4</td>\n",
       "    </tr>\n",
       "    <tr>\n",
       "      <th>3</th>\n",
       "      <td>0</td>\n",
       "      <td>35821</td>\n",
       "      <td>5</td>\n",
       "    </tr>\n",
       "    <tr>\n",
       "      <th>4</th>\n",
       "      <td>0</td>\n",
       "      <td>82446</td>\n",
       "      <td>5</td>\n",
       "    </tr>\n",
       "  </tbody>\n",
       "</table>\n",
       "</div>"
      ],
      "text/plain": [
       "   userID  songID  rating\n",
       "0       0    7171       5\n",
       "1       0    8637       4\n",
       "2       0   21966       4\n",
       "3       0   35821       5\n",
       "4       0   82446       5"
      ]
     },
     "execution_count": 3,
     "metadata": {},
     "output_type": "execute_result"
    }
   ],
   "source": [
    "data.head()"
   ]
  },
  {
   "cell_type": "code",
   "execution_count": 4,
   "metadata": {
    "colab": {
     "base_uri": "https://localhost:8080/"
    },
    "executionInfo": {
     "elapsed": 12,
     "status": "ok",
     "timestamp": 1722402342851,
     "user": {
      "displayName": "bhaumik patel",
      "userId": "06029663876545840006"
     },
     "user_tz": -330
    },
    "id": "TJy6-2BbEqCt",
    "outputId": "06ae7486-1a5d-4296-992e-819b6338c578"
   },
   "outputs": [
    {
     "name": "stdout",
     "output_type": "stream",
     "text": [
      "<class 'pandas.core.frame.DataFrame'>\n",
      "RangeIndex: 10000 entries, 0 to 9999\n",
      "Data columns (total 3 columns):\n",
      " #   Column  Non-Null Count  Dtype\n",
      "---  ------  --------------  -----\n",
      " 0   userID  10000 non-null  int64\n",
      " 1   songID  10000 non-null  int64\n",
      " 2   rating  10000 non-null  int64\n",
      "dtypes: int64(3)\n",
      "memory usage: 234.5 KB\n"
     ]
    }
   ],
   "source": [
    "data.info()"
   ]
  },
  {
   "cell_type": "code",
   "execution_count": 5,
   "metadata": {
    "colab": {
     "base_uri": "https://localhost:8080/",
     "height": 178
    },
    "executionInfo": {
     "elapsed": 12,
     "status": "ok",
     "timestamp": 1722402342852,
     "user": {
      "displayName": "bhaumik patel",
      "userId": "06029663876545840006"
     },
     "user_tz": -330
    },
    "id": "5hvdVdLCEqCu",
    "outputId": "5eb6ef95-7e4f-47bd-faef-ef288f1e81a9"
   },
   "outputs": [
    {
     "data": {
      "text/plain": [
       "userID    0\n",
       "songID    0\n",
       "rating    0\n",
       "dtype: int64"
      ]
     },
     "execution_count": 5,
     "metadata": {},
     "output_type": "execute_result"
    }
   ],
   "source": [
    "data.isna().sum()"
   ]
  },
  {
   "cell_type": "code",
   "execution_count": 6,
   "metadata": {
    "colab": {
     "base_uri": "https://localhost:8080/",
     "height": 300
    },
    "executionInfo": {
     "elapsed": 11,
     "status": "ok",
     "timestamp": 1722402342852,
     "user": {
      "displayName": "bhaumik patel",
      "userId": "06029663876545840006"
     },
     "user_tz": -330
    },
    "id": "VnEPxWTnEqCv",
    "outputId": "e277ed4c-48bd-46ba-b808-c0cbcf44bcda"
   },
   "outputs": [
    {
     "data": {
      "text/html": [
       "<div>\n",
       "<style scoped>\n",
       "    .dataframe tbody tr th:only-of-type {\n",
       "        vertical-align: middle;\n",
       "    }\n",
       "\n",
       "    .dataframe tbody tr th {\n",
       "        vertical-align: top;\n",
       "    }\n",
       "\n",
       "    .dataframe thead th {\n",
       "        text-align: right;\n",
       "    }\n",
       "</style>\n",
       "<table border=\"1\" class=\"dataframe\">\n",
       "  <thead>\n",
       "    <tr style=\"text-align: right;\">\n",
       "      <th></th>\n",
       "      <th>userID</th>\n",
       "      <th>songID</th>\n",
       "      <th>rating</th>\n",
       "    </tr>\n",
       "  </thead>\n",
       "  <tbody>\n",
       "    <tr>\n",
       "      <th>count</th>\n",
       "      <td>10000.000000</td>\n",
       "      <td>10000.000000</td>\n",
       "      <td>10000.000000</td>\n",
       "    </tr>\n",
       "    <tr>\n",
       "      <th>mean</th>\n",
       "      <td>499.500000</td>\n",
       "      <td>67940.171600</td>\n",
       "      <td>3.469000</td>\n",
       "    </tr>\n",
       "    <tr>\n",
       "      <th>std</th>\n",
       "      <td>288.689425</td>\n",
       "      <td>39267.696423</td>\n",
       "      <td>1.546182</td>\n",
       "    </tr>\n",
       "    <tr>\n",
       "      <th>min</th>\n",
       "      <td>0.000000</td>\n",
       "      <td>4.000000</td>\n",
       "      <td>1.000000</td>\n",
       "    </tr>\n",
       "    <tr>\n",
       "      <th>25%</th>\n",
       "      <td>249.750000</td>\n",
       "      <td>34282.000000</td>\n",
       "      <td>2.000000</td>\n",
       "    </tr>\n",
       "    <tr>\n",
       "      <th>50%</th>\n",
       "      <td>499.500000</td>\n",
       "      <td>67264.500000</td>\n",
       "      <td>4.000000</td>\n",
       "    </tr>\n",
       "    <tr>\n",
       "      <th>75%</th>\n",
       "      <td>749.250000</td>\n",
       "      <td>101778.500000</td>\n",
       "      <td>5.000000</td>\n",
       "    </tr>\n",
       "    <tr>\n",
       "      <th>max</th>\n",
       "      <td>999.000000</td>\n",
       "      <td>136728.000000</td>\n",
       "      <td>5.000000</td>\n",
       "    </tr>\n",
       "  </tbody>\n",
       "</table>\n",
       "</div>"
      ],
      "text/plain": [
       "             userID         songID        rating\n",
       "count  10000.000000   10000.000000  10000.000000\n",
       "mean     499.500000   67940.171600      3.469000\n",
       "std      288.689425   39267.696423      1.546182\n",
       "min        0.000000       4.000000      1.000000\n",
       "25%      249.750000   34282.000000      2.000000\n",
       "50%      499.500000   67264.500000      4.000000\n",
       "75%      749.250000  101778.500000      5.000000\n",
       "max      999.000000  136728.000000      5.000000"
      ]
     },
     "execution_count": 6,
     "metadata": {},
     "output_type": "execute_result"
    }
   ],
   "source": [
    "data.describe()"
   ]
  },
  {
   "cell_type": "markdown",
   "metadata": {
    "id": "82h5oH9KEqCv"
   },
   "source": [
    "user-item matric"
   ]
  },
  {
   "cell_type": "code",
   "execution_count": 7,
   "metadata": {
    "colab": {
     "base_uri": "https://localhost:8080/",
     "height": 287
    },
    "executionInfo": {
     "elapsed": 1800,
     "status": "ok",
     "timestamp": 1722402344642,
     "user": {
      "displayName": "bhaumik patel",
      "userId": "06029663876545840006"
     },
     "user_tz": -330
    },
    "id": "UVxqLsNmEqCx",
    "outputId": "96b002c3-a35e-4a07-e598-3c6750db5f05"
   },
   "outputs": [
    {
     "data": {
      "text/html": [
       "<div>\n",
       "<style scoped>\n",
       "    .dataframe tbody tr th:only-of-type {\n",
       "        vertical-align: middle;\n",
       "    }\n",
       "\n",
       "    .dataframe tbody tr th {\n",
       "        vertical-align: top;\n",
       "    }\n",
       "\n",
       "    .dataframe thead th {\n",
       "        text-align: right;\n",
       "    }\n",
       "</style>\n",
       "<table border=\"1\" class=\"dataframe\">\n",
       "  <thead>\n",
       "    <tr style=\"text-align: right;\">\n",
       "      <th>songID</th>\n",
       "      <th>4</th>\n",
       "      <th>34</th>\n",
       "      <th>45</th>\n",
       "      <th>66</th>\n",
       "      <th>69</th>\n",
       "      <th>98</th>\n",
       "      <th>107</th>\n",
       "      <th>115</th>\n",
       "      <th>191</th>\n",
       "      <th>208</th>\n",
       "      <th>...</th>\n",
       "      <th>136507</th>\n",
       "      <th>136571</th>\n",
       "      <th>136586</th>\n",
       "      <th>136592</th>\n",
       "      <th>136623</th>\n",
       "      <th>136686</th>\n",
       "      <th>136714</th>\n",
       "      <th>136716</th>\n",
       "      <th>136719</th>\n",
       "      <th>136728</th>\n",
       "    </tr>\n",
       "    <tr>\n",
       "      <th>userID</th>\n",
       "      <th></th>\n",
       "      <th></th>\n",
       "      <th></th>\n",
       "      <th></th>\n",
       "      <th></th>\n",
       "      <th></th>\n",
       "      <th></th>\n",
       "      <th></th>\n",
       "      <th></th>\n",
       "      <th></th>\n",
       "      <th></th>\n",
       "      <th></th>\n",
       "      <th></th>\n",
       "      <th></th>\n",
       "      <th></th>\n",
       "      <th></th>\n",
       "      <th></th>\n",
       "      <th></th>\n",
       "      <th></th>\n",
       "      <th></th>\n",
       "      <th></th>\n",
       "    </tr>\n",
       "  </thead>\n",
       "  <tbody>\n",
       "    <tr>\n",
       "      <th>0</th>\n",
       "      <td>0.0</td>\n",
       "      <td>0.0</td>\n",
       "      <td>0.0</td>\n",
       "      <td>0.0</td>\n",
       "      <td>0.0</td>\n",
       "      <td>0.0</td>\n",
       "      <td>0.0</td>\n",
       "      <td>0.0</td>\n",
       "      <td>0.0</td>\n",
       "      <td>0.0</td>\n",
       "      <td>...</td>\n",
       "      <td>3.0</td>\n",
       "      <td>0.0</td>\n",
       "      <td>0.0</td>\n",
       "      <td>0.0</td>\n",
       "      <td>0.0</td>\n",
       "      <td>0.0</td>\n",
       "      <td>0.0</td>\n",
       "      <td>0.0</td>\n",
       "      <td>0.0</td>\n",
       "      <td>0.0</td>\n",
       "    </tr>\n",
       "    <tr>\n",
       "      <th>1</th>\n",
       "      <td>0.0</td>\n",
       "      <td>0.0</td>\n",
       "      <td>0.0</td>\n",
       "      <td>0.0</td>\n",
       "      <td>0.0</td>\n",
       "      <td>0.0</td>\n",
       "      <td>0.0</td>\n",
       "      <td>0.0</td>\n",
       "      <td>0.0</td>\n",
       "      <td>0.0</td>\n",
       "      <td>...</td>\n",
       "      <td>0.0</td>\n",
       "      <td>0.0</td>\n",
       "      <td>0.0</td>\n",
       "      <td>0.0</td>\n",
       "      <td>0.0</td>\n",
       "      <td>0.0</td>\n",
       "      <td>0.0</td>\n",
       "      <td>0.0</td>\n",
       "      <td>0.0</td>\n",
       "      <td>0.0</td>\n",
       "    </tr>\n",
       "    <tr>\n",
       "      <th>2</th>\n",
       "      <td>0.0</td>\n",
       "      <td>0.0</td>\n",
       "      <td>0.0</td>\n",
       "      <td>0.0</td>\n",
       "      <td>0.0</td>\n",
       "      <td>0.0</td>\n",
       "      <td>0.0</td>\n",
       "      <td>0.0</td>\n",
       "      <td>0.0</td>\n",
       "      <td>0.0</td>\n",
       "      <td>...</td>\n",
       "      <td>0.0</td>\n",
       "      <td>0.0</td>\n",
       "      <td>0.0</td>\n",
       "      <td>0.0</td>\n",
       "      <td>0.0</td>\n",
       "      <td>0.0</td>\n",
       "      <td>0.0</td>\n",
       "      <td>0.0</td>\n",
       "      <td>0.0</td>\n",
       "      <td>0.0</td>\n",
       "    </tr>\n",
       "    <tr>\n",
       "      <th>3</th>\n",
       "      <td>0.0</td>\n",
       "      <td>0.0</td>\n",
       "      <td>0.0</td>\n",
       "      <td>0.0</td>\n",
       "      <td>0.0</td>\n",
       "      <td>0.0</td>\n",
       "      <td>0.0</td>\n",
       "      <td>0.0</td>\n",
       "      <td>0.0</td>\n",
       "      <td>0.0</td>\n",
       "      <td>...</td>\n",
       "      <td>0.0</td>\n",
       "      <td>0.0</td>\n",
       "      <td>0.0</td>\n",
       "      <td>0.0</td>\n",
       "      <td>0.0</td>\n",
       "      <td>0.0</td>\n",
       "      <td>0.0</td>\n",
       "      <td>0.0</td>\n",
       "      <td>0.0</td>\n",
       "      <td>0.0</td>\n",
       "    </tr>\n",
       "    <tr>\n",
       "      <th>4</th>\n",
       "      <td>0.0</td>\n",
       "      <td>0.0</td>\n",
       "      <td>0.0</td>\n",
       "      <td>0.0</td>\n",
       "      <td>0.0</td>\n",
       "      <td>0.0</td>\n",
       "      <td>0.0</td>\n",
       "      <td>0.0</td>\n",
       "      <td>0.0</td>\n",
       "      <td>0.0</td>\n",
       "      <td>...</td>\n",
       "      <td>0.0</td>\n",
       "      <td>0.0</td>\n",
       "      <td>0.0</td>\n",
       "      <td>0.0</td>\n",
       "      <td>0.0</td>\n",
       "      <td>0.0</td>\n",
       "      <td>0.0</td>\n",
       "      <td>0.0</td>\n",
       "      <td>0.0</td>\n",
       "      <td>0.0</td>\n",
       "    </tr>\n",
       "  </tbody>\n",
       "</table>\n",
       "<p>5 rows × 7389 columns</p>\n",
       "</div>"
      ],
      "text/plain": [
       "songID  4       34      45      66      69      98      107     115     \\\n",
       "userID                                                                   \n",
       "0          0.0     0.0     0.0     0.0     0.0     0.0     0.0     0.0   \n",
       "1          0.0     0.0     0.0     0.0     0.0     0.0     0.0     0.0   \n",
       "2          0.0     0.0     0.0     0.0     0.0     0.0     0.0     0.0   \n",
       "3          0.0     0.0     0.0     0.0     0.0     0.0     0.0     0.0   \n",
       "4          0.0     0.0     0.0     0.0     0.0     0.0     0.0     0.0   \n",
       "\n",
       "songID  191     208     ...  136507  136571  136586  136592  136623  136686  \\\n",
       "userID                  ...                                                   \n",
       "0          0.0     0.0  ...     3.0     0.0     0.0     0.0     0.0     0.0   \n",
       "1          0.0     0.0  ...     0.0     0.0     0.0     0.0     0.0     0.0   \n",
       "2          0.0     0.0  ...     0.0     0.0     0.0     0.0     0.0     0.0   \n",
       "3          0.0     0.0  ...     0.0     0.0     0.0     0.0     0.0     0.0   \n",
       "4          0.0     0.0  ...     0.0     0.0     0.0     0.0     0.0     0.0   \n",
       "\n",
       "songID  136714  136716  136719  136728  \n",
       "userID                                  \n",
       "0          0.0     0.0     0.0     0.0  \n",
       "1          0.0     0.0     0.0     0.0  \n",
       "2          0.0     0.0     0.0     0.0  \n",
       "3          0.0     0.0     0.0     0.0  \n",
       "4          0.0     0.0     0.0     0.0  \n",
       "\n",
       "[5 rows x 7389 columns]"
      ]
     },
     "execution_count": 7,
     "metadata": {},
     "output_type": "execute_result"
    }
   ],
   "source": [
    "user_item_matrix = data.pivot_table(index='userID', columns='songID', values='rating').fillna(0)\n",
    "user_item_matrix.head()"
   ]
  },
  {
   "cell_type": "code",
   "execution_count": 8,
   "metadata": {
    "colab": {
     "base_uri": "https://localhost:8080/",
     "height": 455
    },
    "executionInfo": {
     "elapsed": 24,
     "status": "ok",
     "timestamp": 1722402344643,
     "user": {
      "displayName": "bhaumik patel",
      "userId": "06029663876545840006"
     },
     "user_tz": -330
    },
    "id": "2kMjiDLrEqCy",
    "outputId": "f77872e9-4ca7-4e9c-b013-3cf47a5f4edc"
   },
   "outputs": [
    {
     "data": {
      "text/html": [
       "<div>\n",
       "<style scoped>\n",
       "    .dataframe tbody tr th:only-of-type {\n",
       "        vertical-align: middle;\n",
       "    }\n",
       "\n",
       "    .dataframe tbody tr th {\n",
       "        vertical-align: top;\n",
       "    }\n",
       "\n",
       "    .dataframe thead th {\n",
       "        text-align: right;\n",
       "    }\n",
       "</style>\n",
       "<table border=\"1\" class=\"dataframe\">\n",
       "  <thead>\n",
       "    <tr style=\"text-align: right;\">\n",
       "      <th>userID</th>\n",
       "      <th>0</th>\n",
       "      <th>1</th>\n",
       "      <th>2</th>\n",
       "      <th>3</th>\n",
       "      <th>4</th>\n",
       "      <th>5</th>\n",
       "      <th>6</th>\n",
       "      <th>7</th>\n",
       "      <th>8</th>\n",
       "      <th>9</th>\n",
       "      <th>...</th>\n",
       "      <th>990</th>\n",
       "      <th>991</th>\n",
       "      <th>992</th>\n",
       "      <th>993</th>\n",
       "      <th>994</th>\n",
       "      <th>995</th>\n",
       "      <th>996</th>\n",
       "      <th>997</th>\n",
       "      <th>998</th>\n",
       "      <th>999</th>\n",
       "    </tr>\n",
       "    <tr>\n",
       "      <th>userID</th>\n",
       "      <th></th>\n",
       "      <th></th>\n",
       "      <th></th>\n",
       "      <th></th>\n",
       "      <th></th>\n",
       "      <th></th>\n",
       "      <th></th>\n",
       "      <th></th>\n",
       "      <th></th>\n",
       "      <th></th>\n",
       "      <th></th>\n",
       "      <th></th>\n",
       "      <th></th>\n",
       "      <th></th>\n",
       "      <th></th>\n",
       "      <th></th>\n",
       "      <th></th>\n",
       "      <th></th>\n",
       "      <th></th>\n",
       "      <th></th>\n",
       "      <th></th>\n",
       "    </tr>\n",
       "  </thead>\n",
       "  <tbody>\n",
       "    <tr>\n",
       "      <th>0</th>\n",
       "      <td>1.0</td>\n",
       "      <td>0.0</td>\n",
       "      <td>0.0</td>\n",
       "      <td>0.0</td>\n",
       "      <td>0.0</td>\n",
       "      <td>0.0</td>\n",
       "      <td>0.0</td>\n",
       "      <td>0.0</td>\n",
       "      <td>0.0</td>\n",
       "      <td>0.0</td>\n",
       "      <td>...</td>\n",
       "      <td>0.0</td>\n",
       "      <td>0.0</td>\n",
       "      <td>0.000000</td>\n",
       "      <td>0.0</td>\n",
       "      <td>0.0</td>\n",
       "      <td>0.0</td>\n",
       "      <td>0.0</td>\n",
       "      <td>0.0</td>\n",
       "      <td>0.0</td>\n",
       "      <td>0.0</td>\n",
       "    </tr>\n",
       "    <tr>\n",
       "      <th>1</th>\n",
       "      <td>0.0</td>\n",
       "      <td>1.0</td>\n",
       "      <td>0.0</td>\n",
       "      <td>0.0</td>\n",
       "      <td>0.0</td>\n",
       "      <td>0.0</td>\n",
       "      <td>0.0</td>\n",
       "      <td>0.0</td>\n",
       "      <td>0.0</td>\n",
       "      <td>0.0</td>\n",
       "      <td>...</td>\n",
       "      <td>0.0</td>\n",
       "      <td>0.0</td>\n",
       "      <td>0.000000</td>\n",
       "      <td>0.0</td>\n",
       "      <td>0.0</td>\n",
       "      <td>0.0</td>\n",
       "      <td>0.0</td>\n",
       "      <td>0.0</td>\n",
       "      <td>0.0</td>\n",
       "      <td>0.0</td>\n",
       "    </tr>\n",
       "    <tr>\n",
       "      <th>2</th>\n",
       "      <td>0.0</td>\n",
       "      <td>0.0</td>\n",
       "      <td>1.0</td>\n",
       "      <td>0.0</td>\n",
       "      <td>0.0</td>\n",
       "      <td>0.0</td>\n",
       "      <td>0.0</td>\n",
       "      <td>0.0</td>\n",
       "      <td>0.0</td>\n",
       "      <td>0.0</td>\n",
       "      <td>...</td>\n",
       "      <td>0.0</td>\n",
       "      <td>0.0</td>\n",
       "      <td>0.000000</td>\n",
       "      <td>0.0</td>\n",
       "      <td>0.0</td>\n",
       "      <td>0.0</td>\n",
       "      <td>0.0</td>\n",
       "      <td>0.0</td>\n",
       "      <td>0.0</td>\n",
       "      <td>0.0</td>\n",
       "    </tr>\n",
       "    <tr>\n",
       "      <th>3</th>\n",
       "      <td>0.0</td>\n",
       "      <td>0.0</td>\n",
       "      <td>0.0</td>\n",
       "      <td>1.0</td>\n",
       "      <td>0.0</td>\n",
       "      <td>0.0</td>\n",
       "      <td>0.0</td>\n",
       "      <td>0.0</td>\n",
       "      <td>0.0</td>\n",
       "      <td>0.0</td>\n",
       "      <td>...</td>\n",
       "      <td>0.0</td>\n",
       "      <td>0.0</td>\n",
       "      <td>0.000000</td>\n",
       "      <td>0.0</td>\n",
       "      <td>0.0</td>\n",
       "      <td>0.0</td>\n",
       "      <td>0.0</td>\n",
       "      <td>0.0</td>\n",
       "      <td>0.0</td>\n",
       "      <td>0.0</td>\n",
       "    </tr>\n",
       "    <tr>\n",
       "      <th>4</th>\n",
       "      <td>0.0</td>\n",
       "      <td>0.0</td>\n",
       "      <td>0.0</td>\n",
       "      <td>0.0</td>\n",
       "      <td>1.0</td>\n",
       "      <td>0.0</td>\n",
       "      <td>0.0</td>\n",
       "      <td>0.0</td>\n",
       "      <td>0.0</td>\n",
       "      <td>0.0</td>\n",
       "      <td>...</td>\n",
       "      <td>0.0</td>\n",
       "      <td>0.0</td>\n",
       "      <td>0.000000</td>\n",
       "      <td>0.0</td>\n",
       "      <td>0.0</td>\n",
       "      <td>0.0</td>\n",
       "      <td>0.0</td>\n",
       "      <td>0.0</td>\n",
       "      <td>0.0</td>\n",
       "      <td>0.0</td>\n",
       "    </tr>\n",
       "    <tr>\n",
       "      <th>...</th>\n",
       "      <td>...</td>\n",
       "      <td>...</td>\n",
       "      <td>...</td>\n",
       "      <td>...</td>\n",
       "      <td>...</td>\n",
       "      <td>...</td>\n",
       "      <td>...</td>\n",
       "      <td>...</td>\n",
       "      <td>...</td>\n",
       "      <td>...</td>\n",
       "      <td>...</td>\n",
       "      <td>...</td>\n",
       "      <td>...</td>\n",
       "      <td>...</td>\n",
       "      <td>...</td>\n",
       "      <td>...</td>\n",
       "      <td>...</td>\n",
       "      <td>...</td>\n",
       "      <td>...</td>\n",
       "      <td>...</td>\n",
       "      <td>...</td>\n",
       "    </tr>\n",
       "    <tr>\n",
       "      <th>995</th>\n",
       "      <td>0.0</td>\n",
       "      <td>0.0</td>\n",
       "      <td>0.0</td>\n",
       "      <td>0.0</td>\n",
       "      <td>0.0</td>\n",
       "      <td>0.0</td>\n",
       "      <td>0.0</td>\n",
       "      <td>0.0</td>\n",
       "      <td>0.0</td>\n",
       "      <td>0.0</td>\n",
       "      <td>...</td>\n",
       "      <td>0.0</td>\n",
       "      <td>0.0</td>\n",
       "      <td>0.000000</td>\n",
       "      <td>0.0</td>\n",
       "      <td>0.0</td>\n",
       "      <td>1.0</td>\n",
       "      <td>0.0</td>\n",
       "      <td>0.0</td>\n",
       "      <td>0.0</td>\n",
       "      <td>0.0</td>\n",
       "    </tr>\n",
       "    <tr>\n",
       "      <th>996</th>\n",
       "      <td>0.0</td>\n",
       "      <td>0.0</td>\n",
       "      <td>0.0</td>\n",
       "      <td>0.0</td>\n",
       "      <td>0.0</td>\n",
       "      <td>0.0</td>\n",
       "      <td>0.0</td>\n",
       "      <td>0.0</td>\n",
       "      <td>0.0</td>\n",
       "      <td>0.0</td>\n",
       "      <td>...</td>\n",
       "      <td>0.0</td>\n",
       "      <td>0.0</td>\n",
       "      <td>0.237418</td>\n",
       "      <td>0.0</td>\n",
       "      <td>0.0</td>\n",
       "      <td>0.0</td>\n",
       "      <td>1.0</td>\n",
       "      <td>0.0</td>\n",
       "      <td>0.0</td>\n",
       "      <td>0.0</td>\n",
       "    </tr>\n",
       "    <tr>\n",
       "      <th>997</th>\n",
       "      <td>0.0</td>\n",
       "      <td>0.0</td>\n",
       "      <td>0.0</td>\n",
       "      <td>0.0</td>\n",
       "      <td>0.0</td>\n",
       "      <td>0.0</td>\n",
       "      <td>0.0</td>\n",
       "      <td>0.0</td>\n",
       "      <td>0.0</td>\n",
       "      <td>0.0</td>\n",
       "      <td>...</td>\n",
       "      <td>0.0</td>\n",
       "      <td>0.0</td>\n",
       "      <td>0.000000</td>\n",
       "      <td>0.0</td>\n",
       "      <td>0.0</td>\n",
       "      <td>0.0</td>\n",
       "      <td>0.0</td>\n",
       "      <td>1.0</td>\n",
       "      <td>0.0</td>\n",
       "      <td>0.0</td>\n",
       "    </tr>\n",
       "    <tr>\n",
       "      <th>998</th>\n",
       "      <td>0.0</td>\n",
       "      <td>0.0</td>\n",
       "      <td>0.0</td>\n",
       "      <td>0.0</td>\n",
       "      <td>0.0</td>\n",
       "      <td>0.0</td>\n",
       "      <td>0.0</td>\n",
       "      <td>0.0</td>\n",
       "      <td>0.0</td>\n",
       "      <td>0.0</td>\n",
       "      <td>...</td>\n",
       "      <td>0.0</td>\n",
       "      <td>0.0</td>\n",
       "      <td>0.000000</td>\n",
       "      <td>0.0</td>\n",
       "      <td>0.0</td>\n",
       "      <td>0.0</td>\n",
       "      <td>0.0</td>\n",
       "      <td>0.0</td>\n",
       "      <td>1.0</td>\n",
       "      <td>0.0</td>\n",
       "    </tr>\n",
       "    <tr>\n",
       "      <th>999</th>\n",
       "      <td>0.0</td>\n",
       "      <td>0.0</td>\n",
       "      <td>0.0</td>\n",
       "      <td>0.0</td>\n",
       "      <td>0.0</td>\n",
       "      <td>0.0</td>\n",
       "      <td>0.0</td>\n",
       "      <td>0.0</td>\n",
       "      <td>0.0</td>\n",
       "      <td>0.0</td>\n",
       "      <td>...</td>\n",
       "      <td>0.0</td>\n",
       "      <td>0.0</td>\n",
       "      <td>0.000000</td>\n",
       "      <td>0.0</td>\n",
       "      <td>0.0</td>\n",
       "      <td>0.0</td>\n",
       "      <td>0.0</td>\n",
       "      <td>0.0</td>\n",
       "      <td>0.0</td>\n",
       "      <td>1.0</td>\n",
       "    </tr>\n",
       "  </tbody>\n",
       "</table>\n",
       "<p>1000 rows × 1000 columns</p>\n",
       "</div>"
      ],
      "text/plain": [
       "userID  0    1    2    3    4    5    6    7    8    9    ...  990  991  \\\n",
       "userID                                                    ...             \n",
       "0       1.0  0.0  0.0  0.0  0.0  0.0  0.0  0.0  0.0  0.0  ...  0.0  0.0   \n",
       "1       0.0  1.0  0.0  0.0  0.0  0.0  0.0  0.0  0.0  0.0  ...  0.0  0.0   \n",
       "2       0.0  0.0  1.0  0.0  0.0  0.0  0.0  0.0  0.0  0.0  ...  0.0  0.0   \n",
       "3       0.0  0.0  0.0  1.0  0.0  0.0  0.0  0.0  0.0  0.0  ...  0.0  0.0   \n",
       "4       0.0  0.0  0.0  0.0  1.0  0.0  0.0  0.0  0.0  0.0  ...  0.0  0.0   \n",
       "...     ...  ...  ...  ...  ...  ...  ...  ...  ...  ...  ...  ...  ...   \n",
       "995     0.0  0.0  0.0  0.0  0.0  0.0  0.0  0.0  0.0  0.0  ...  0.0  0.0   \n",
       "996     0.0  0.0  0.0  0.0  0.0  0.0  0.0  0.0  0.0  0.0  ...  0.0  0.0   \n",
       "997     0.0  0.0  0.0  0.0  0.0  0.0  0.0  0.0  0.0  0.0  ...  0.0  0.0   \n",
       "998     0.0  0.0  0.0  0.0  0.0  0.0  0.0  0.0  0.0  0.0  ...  0.0  0.0   \n",
       "999     0.0  0.0  0.0  0.0  0.0  0.0  0.0  0.0  0.0  0.0  ...  0.0  0.0   \n",
       "\n",
       "userID       992  993  994  995  996  997  998  999  \n",
       "userID                                               \n",
       "0       0.000000  0.0  0.0  0.0  0.0  0.0  0.0  0.0  \n",
       "1       0.000000  0.0  0.0  0.0  0.0  0.0  0.0  0.0  \n",
       "2       0.000000  0.0  0.0  0.0  0.0  0.0  0.0  0.0  \n",
       "3       0.000000  0.0  0.0  0.0  0.0  0.0  0.0  0.0  \n",
       "4       0.000000  0.0  0.0  0.0  0.0  0.0  0.0  0.0  \n",
       "...          ...  ...  ...  ...  ...  ...  ...  ...  \n",
       "995     0.000000  0.0  0.0  1.0  0.0  0.0  0.0  0.0  \n",
       "996     0.237418  0.0  0.0  0.0  1.0  0.0  0.0  0.0  \n",
       "997     0.000000  0.0  0.0  0.0  0.0  1.0  0.0  0.0  \n",
       "998     0.000000  0.0  0.0  0.0  0.0  0.0  1.0  0.0  \n",
       "999     0.000000  0.0  0.0  0.0  0.0  0.0  0.0  1.0  \n",
       "\n",
       "[1000 rows x 1000 columns]"
      ]
     },
     "execution_count": 8,
     "metadata": {},
     "output_type": "execute_result"
    }
   ],
   "source": [
    "from sklearn.metrics.pairwise import cosine_similarity\n",
    "user_similarity_matrix = cosine_similarity(user_item_matrix)\n",
    "# user - user\n",
    "user_similarity_df = pd.DataFrame(user_similarity_matrix, index=user_item_matrix.index, columns=user_item_matrix.index)\n",
    "user_similarity_df"
   ]
  },
  {
   "cell_type": "markdown",
   "metadata": {
    "id": "dP5_AflfEqCy"
   },
   "source": [
    "similar user"
   ]
  },
  {
   "cell_type": "code",
   "execution_count": 9,
   "metadata": {
    "id": "r6-QG1sZEqCz"
   },
   "outputs": [],
   "source": [
    "def get_user_similarity(target_user, user_similarity_df, top_n=5):\n",
    "    similar_scores = user_similarity_df[target_user].sort_values(ascending=False)\n",
    "    similar_users = similar_scores.iloc[1:top_n+1].index.tolist()\n",
    "    return similar_users"
   ]
  },
  {
   "cell_type": "markdown",
   "metadata": {
    "id": "YGF33dIrEqCz"
   },
   "source": [
    "Recommendation songs to target user"
   ]
  },
  {
   "cell_type": "code",
   "execution_count": 10,
   "metadata": {
    "id": "nz7gqUGLEqC0"
   },
   "outputs": [],
   "source": [
    "def recommend_songs_user_based(userID, user_item_matrix, user_similarity_df, num_recs=5):\n",
    "    similar_users = get_user_similarity(userID, user_similarity_df)\n",
    "\n",
    "    recommended_songs = []\n",
    "\n",
    "    for similar_userID in similar_users:\n",
    "        for songID, rating in user_item_matrix.loc[similar_userID].items():\n",
    "            if rating > 0:\n",
    "                recommended_songs.append((songID, rating))\n",
    "\n",
    "    recommended_songs = sorted(recommended_songs, key=lambda x: x[1], reverse=True)\n",
    "\n",
    "    return [songID for songID, _ in recommended_songs[:num_recs]]"
   ]
  },
  {
   "cell_type": "code",
   "execution_count": 11,
   "metadata": {
    "colab": {
     "base_uri": "https://localhost:8080/"
    },
    "executionInfo": {
     "elapsed": 2437,
     "status": "ok",
     "timestamp": 1722402449480,
     "user": {
      "displayName": "bhaumik patel",
      "userId": "06029663876545840006"
     },
     "user_tz": -330
    },
    "id": "wfhNQE-4EqC1",
    "outputId": "8d501d09-e1ab-4757-fa5b-8a6857a2e73a"
   },
   "outputs": [
    {
     "name": "stdout",
     "output_type": "stream",
     "text": [
      "Recommendations for user 55: [41672, 54050, 54597, 12861, 31501]\n"
     ]
    }
   ],
   "source": [
    "target_user = int(input(\"Enter user ID: \"))\n",
    "recommended_songs = recommend_songs_user_based(target_user, user_item_matrix, user_similarity_df)\n",
    "print(f\"Recommendations for user {target_user}: {recommended_songs}\")"
   ]
  },
  {
   "cell_type": "code",
   "execution_count": null,
   "metadata": {
    "id": "ncZISX4TEqC1"
   },
   "outputs": [],
   "source": []
  },
  {
   "cell_type": "markdown",
   "metadata": {
    "id": "zUkQeGHLAjLS"
   },
   "source": [
    "item based"
   ]
  },
  {
   "cell_type": "code",
   "execution_count": 12,
   "metadata": {
    "id": "lewrcUGV_alL"
   },
   "outputs": [],
   "source": [
    "# Compute item similarity matrix\n",
    "item_similarity_matrix = cosine_similarity(user_item_matrix.T)\n",
    "item_similarity_df = pd.DataFrame(item_similarity_matrix, index=user_item_matrix.columns, columns=user_item_matrix.columns)\n"
   ]
  },
  {
   "cell_type": "code",
   "execution_count": 13,
   "metadata": {
    "id": "usItIOQWJq2u"
   },
   "outputs": [],
   "source": [
    "# Function to find similar items\n",
    "def get_item_similarity(target_song, item_similarity_df, top_n=5):\n",
    "    similar_scores = item_similarity_df[target_song].sort_values(ascending=False)\n",
    "    similar_items = similar_scores.iloc[1:top_n+1].index.tolist()\n",
    "    return similar_items\n"
   ]
  },
  {
   "cell_type": "code",
   "execution_count": 14,
   "metadata": {
    "id": "TxQuudNQEqC2"
   },
   "outputs": [],
   "source": [
    "# Function to recommend songs\n",
    "def recommend_songs_item_based(userID, user_item_matrix, item_similarity_df, num_recs=5):\n",
    "    user_ratings = user_item_matrix.loc[userID]\n",
    "    rated_songs = user_ratings[user_ratings > 0].index.tolist()\n",
    "    recommended_songs = []\n",
    "\n",
    "    for songID in rated_songs:\n",
    "        similar_songs = get_item_similarity(songID, item_similarity_df)\n",
    "        for similar_song in similar_songs:\n",
    "            if similar_song not in rated_songs:\n",
    "                recommended_songs.append(similar_song)\n",
    "\n",
    "    recommended_songs = list(set(recommended_songs))[:num_recs]\n",
    "    return recommended_songs\n",
    "\n",
    "\n"
   ]
  },
  {
   "cell_type": "code",
   "execution_count": 15,
   "metadata": {
    "colab": {
     "base_uri": "https://localhost:8080/"
    },
    "executionInfo": {
     "elapsed": 3256,
     "status": "ok",
     "timestamp": 1722402513091,
     "user": {
      "displayName": "bhaumik patel",
      "userId": "06029663876545840006"
     },
     "user_tz": -330
    },
    "id": "yOfoyxuPEqC2",
    "outputId": "4180771f-098a-49f0-ece8-7e0b36635723"
   },
   "outputs": [
    {
     "name": "stdout",
     "output_type": "stream",
     "text": [
      "Recommendations for user 55: [101633, 38020, 87300, 31501, 131736]\n"
     ]
    }
   ],
   "source": [
    "# Example usage\n",
    "target_user = int(input(\"Enter user ID: \"))\n",
    "recommended_songs = recommend_songs_item_based(target_user, user_item_matrix, item_similarity_df)\n",
    "print(f\"Recommendations for user {target_user}: {recommended_songs}\")\n"
   ]
  },
  {
   "cell_type": "code",
   "execution_count": null,
   "metadata": {
    "id": "g_nmsR-KML3f"
   },
   "outputs": [],
   "source": []
  },
  {
   "cell_type": "code",
   "execution_count": 18,
   "metadata": {
    "id": "pe_nmIlIEqC2"
   },
   "outputs": [],
   "source": [
    "def hybrid_recommendations(userID, user_item_matrix, user_similarity_df, item_similarity_df, user_weight, item_weight, num_recs=5):\n",
    "    # Get recommendations from both methods\n",
    "    user_based_recommendations = recommend_songs_user_based(userID, user_item_matrix, user_similarity_df, num_recs)\n",
    "    item_based_recommendations = recommend_songs_item_based(userID, user_item_matrix, item_similarity_df, num_recs)\n",
    "\n",
    "    # Combine recommendations\n",
    "    all_recommendations = {}\n",
    "    for song in user_based_recommendations:\n",
    "        if song not in all_recommendations:\n",
    "            all_recommendations[song] = user_weight\n",
    "        else:\n",
    "            all_recommendations[song] += user_weight\n",
    "\n",
    "    for song in item_based_recommendations:\n",
    "        if song not in all_recommendations:\n",
    "            all_recommendations[song] = item_weight\n",
    "        else:\n",
    "            all_recommendations[song] += item_weight\n",
    "\n",
    "    # Sort and get top recommendations\n",
    "    sorted_recommendations = sorted(all_recommendations.items(), key=lambda x: x[1], reverse=True)\n",
    "    recommended_songs = [song for song, score in sorted_recommendations[:num_recs]]\n",
    "\n",
    "    return recommended_songs\n"
   ]
  },
  {
   "cell_type": "code",
   "execution_count": 19,
   "metadata": {
    "id": "teGRTQZGLb2R"
   },
   "outputs": [
    {
     "name": "stdout",
     "output_type": "stream",
     "text": [
      "Hybrid recommendations for user 55: [31501, 41672, 54050, 54597, 12861]\n"
     ]
    }
   ],
   "source": [
    "# Example usage\n",
    "target_user = int(input(\"Enter user ID: \"))\n",
    "recommended_songs = hybrid_recommendations(target_user, user_item_matrix, user_similarity_df, item_similarity_df, user_weight=0.6, item_weight=0.4)\n",
    "print(f\"Hybrid recommendations for user {target_user}: {recommended_songs}\")\n"
   ]
  }
 ],
 "metadata": {
  "colab": {
   "provenance": []
  },
  "kernelspec": {
   "display_name": ".venv",
   "language": "python",
   "name": "python3"
  },
  "language_info": {
   "codemirror_mode": {
    "name": "ipython",
    "version": 3
   },
   "file_extension": ".py",
   "mimetype": "text/x-python",
   "name": "python",
   "nbconvert_exporter": "python",
   "pygments_lexer": "ipython3",
   "version": "3.12.2"
  }
 },
 "nbformat": 4,
 "nbformat_minor": 0
}
